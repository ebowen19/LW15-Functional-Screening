{
 "cells": [
  {
   "cell_type": "code",
   "execution_count": 1,
   "metadata": {},
   "outputs": [],
   "source": [
    "import os\n",
    "from bs4 import BeautifulSoup\n"
   ]
  },
  {
   "cell_type": "code",
   "execution_count": 4,
   "metadata": {},
   "outputs": [
    {
     "name": "stdout",
     "output_type": "stream",
     "text": [
      "HTML has been modified and saved as '../plate_maps_updated.html'.\n"
     ]
    }
   ],
   "source": [
    "# Path to your original HTML file\n",
    "input_html_file = '../plate_maps.html'\n",
    "\n",
    "# Path for the modified HTML file\n",
    "output_html_file = '../plate_maps_updated.html'\n",
    "\n",
    "# Read the HTML content from the file\n",
    "with open(input_html_file, 'r', encoding='utf-8') as file:\n",
    "    html_content = file.read()\n",
    "\n",
    "soup = BeautifulSoup(html_content, 'html.parser')\n",
    "\n",
    "# Define the base URL for the third table's HTML page\n",
    "base_url = \"index.html?searchValue=\"\n",
    "\n",
    "# Function to modify each cell in the specified tables\n",
    "def modify_table(table_id):\n",
    "    table = soup.find('table', {'id': table_id})\n",
    "    if table:\n",
    "        for row in table.find_all('tr')[1:]:  # Skip header row\n",
    "            for cell in row.find_all('td'):  \n",
    "                original_text = cell.text.strip()\n",
    "                new_link = soup.new_tag('a', href=f\"{base_url}{original_text}\")\n",
    "                new_link.string = original_text\n",
    "                cell.string = ''\n",
    "                cell.append(new_link)\n",
    "\n",
    "# Modify specific tables by their IDs\n",
    "modify_table('plateMap1')\n",
    "modify_table('plateMap2')\n",
    "\n",
    "# Save the modified HTML to a new file\n",
    "with open(output_html_file, 'w', encoding='utf-8') as file:\n",
    "    file.write(str(soup))\n",
    "\n",
    "print(f\"HTML has been modified and saved as '{output_html_file}'.\")\n"
   ]
  }
 ],
 "metadata": {
  "kernelspec": {
   "display_name": "base",
   "language": "python",
   "name": "python3"
  },
  "language_info": {
   "codemirror_mode": {
    "name": "ipython",
    "version": 3
   },
   "file_extension": ".py",
   "mimetype": "text/x-python",
   "name": "python",
   "nbconvert_exporter": "python",
   "pygments_lexer": "ipython3",
   "version": "3.11.5"
  }
 },
 "nbformat": 4,
 "nbformat_minor": 2
}
