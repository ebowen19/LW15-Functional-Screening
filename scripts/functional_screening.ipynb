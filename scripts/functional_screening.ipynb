{
 "cells": [
  {
   "cell_type": "code",
   "outputs": [],
   "source": [
    "import pandas as pd\n",
    "import os"
   ],
   "metadata": {
    "collapsed": true,
    "ExecuteTime": {
     "end_time": "2024-02-27T23:52:24.951615Z",
     "start_time": "2024-02-27T23:52:21.594985Z"
    }
   },
   "id": "initial_id",
   "execution_count": 1
  },
  {
   "cell_type": "code",
   "outputs": [],
   "source": [
    "path = '/Users/elizabeth 1/Library/CloudStorage/Box-Box/Wu Lab/Project - statin/8. RNA-seq/Elizabeth/LW15 analysis/LW15_normalized.csv'\n",
    "data = pd.read_csv(path)\n"
   ],
   "metadata": {
    "collapsed": false,
    "ExecuteTime": {
     "end_time": "2024-02-28T01:51:45.141586Z",
     "start_time": "2024-02-28T01:51:44.994360Z"
    }
   },
   "id": "8e54e53af125656a",
   "execution_count": 10
  },
  {
   "cell_type": "code",
   "outputs": [],
   "source": [
    "count_matrix = data[['gene_id','gene_name','RC.1','RC.2','RC.3','H1.1','H1.2','H1.3', 'H12.1','H12.2','H12.3','RVN.1','RVN.2','RVN.3','H2.1','H2.2','H2.3']]\n",
    "count_matrix.set_index('gene_id', inplace=True)\n",
    "\n",
    "excel_file_path = '/Users/elizabeth 1/Library/CloudStorage/Box-Box/Wu Lab/Project - 2024/Functional screening/240122_MI_320genes_list.xlsx'\n",
    "new_genes = pd.read_excel(excel_file_path, sheet_name='Sheet2')\n",
    "new_genes = new_genes[['Ensembl','Name','found in']]\n"
   ],
   "metadata": {
    "collapsed": false,
    "ExecuteTime": {
     "end_time": "2024-02-28T01:59:14.105622Z",
     "start_time": "2024-02-28T01:59:13.960773Z"
    }
   },
   "id": "3a4c90966a970938",
   "execution_count": 17
  },
  {
   "cell_type": "code",
   "outputs": [],
   "source": [
    "# create new functional screening dataframe\n",
    "functional_screening = pd.DataFrame({'gene_ID':new_gene_list, 'gene_name':gene_names_list, 'found_in':new_genes['found in'], 'gene_regulation':None})\n",
    "\n",
    "# fill in gene regulation column based on found_in column\n",
    "functional_screening['gene_regulation'] = functional_screening['found_in'].apply(\n",
    "    lambda x: 'Upregulated' if 'up' in x\n",
    "    else ('Downregulated' if 'down' in x\n",
    "          else None)\n",
    ")"
   ],
   "metadata": {
    "collapsed": false,
    "ExecuteTime": {
     "end_time": "2024-02-28T02:08:37.853957Z",
     "start_time": "2024-02-28T02:08:37.846641Z"
    }
   },
   "id": "bed1c07f1df2c94d",
   "execution_count": 25
  },
  {
   "cell_type": "code",
   "outputs": [],
   "source": [
    "# read in CRISPR & cDNA library coverage data\n",
    "CRISPR_path = '/Users/elizabeth 1/Library/CloudStorage/Box-Box/Wu Lab/Project - 2024/Functional screening/240223_Natalie_Moe requested genes Query CRISPR 891 for 274.xlsx'\n",
    "cDNA_path = '/Users/elizabeth 1/Library/CloudStorage/Box-Box/Wu Lab/Project - 2024/Functional screening/240223_Natalie_Moe requested genes Query Sigma 226 for 162.xlsx'\n",
    "\n",
    "CRISPR_lib = pd.read_excel(CRISPR_path, sheet_name=None)\n",
    "cDNA_lib = pd.read_excel(cDNA_path, sheet_name=None)\n",
    "\n",
    "CRISPR_query = CRISPR_lib['Moe requested genes Query1']\n",
    "CRISPR_coverage = CRISPR_lib['Sheet1']\n",
    "\n",
    "cDNA_query = cDNA_lib['Moe requested genes Query']\n",
    "cDNA_coverage = cDNA_lib['Gene coverage']\n",
    "\n",
    "#add coverage data to functional_screening df\n",
    "functional_screening['CRISPR_coverage'] = None\n",
    "functional_screening['cDNA_coverage'] = None\n",
    "\n",
    "CRISPR_query.set_index('Ensembl', inplace=True)\n",
    "cDNA_query.set_index('Ensembl', inplace=True)\n",
    "\n",
    "CRISPR_coverage.set_index('Gene', inplace=True)\n",
    "cDNA_coverage.set_index('Moe requested genes_Name', inplace=True)"
   ],
   "metadata": {
    "collapsed": false,
    "ExecuteTime": {
     "end_time": "2024-02-28T03:25:56.197533Z",
     "start_time": "2024-02-28T03:25:56.177354Z"
    }
   },
   "id": "36963b385735d93a",
   "execution_count": 39
  },
  {
   "cell_type": "code",
   "outputs": [],
   "source": [
    "# fill in gene regulation column for the PCA only genes by looking in the gene count matrix\n",
    "\n",
    "# Loop through each row to set the value in 'Regulation' column\n",
    "# Loop over each row in the DataFrame using iterrows()\n",
    "for index, row in functional_screening.iterrows():\n",
    "    # Check if 'gene_regulation' is None\n",
    "    if pd.isnull(row['gene_regulation']):\n",
    "        # Retrieve the gene_id\n",
    "        gene_id = row['gene_ID']\n",
    "\n",
    "        # Calculate the averages for the specified columns\n",
    "        avg_sensitive = count_matrix.loc[gene_id, ['RVN.1','RVN.2','RVN.3','H2.1','H2.2','H2.3']].mean()\n",
    "        avg_resistant = count_matrix.loc[gene_id, ['RC.1','RC.2','RC.3','H1.1','H1.2','H1.3', 'H12.1','H12.2','H12.3']].mean()\n",
    "\n",
    "        # Determine the regulation based on the averages and assign it\n",
    "        if avg_sensitive > avg_resistant:\n",
    "            functional_screening.at[index, 'gene_regulation'] = 'Upregulated'\n",
    "        elif avg_sensitive < avg_resistant:\n",
    "            functional_screening.at[index, 'gene_regulation'] = 'Downregulated'\n"
   ],
   "metadata": {
    "collapsed": false,
    "ExecuteTime": {
     "end_time": "2024-02-28T04:25:39.389049Z",
     "start_time": "2024-02-28T04:25:39.280354Z"
    }
   },
   "id": "9b84c3d2369aad04",
   "execution_count": 63
  },
  {
   "cell_type": "code",
   "outputs": [],
   "source": [
    "genes_dict = {}\n",
    "categories = new_genes['found in'].unique()\n",
    "# print(categories)\n",
    "# add category keys to dict\n",
    "for category in categories:\n",
    "    genes_dict[category] = []\n",
    "\n",
    "# Iterate through the rows of the DataFrame\n",
    "for index, row in new_genes.iterrows():\n",
    "    gene = row['Ensembl']\n",
    "    category = row['found in']\n",
    "    genes_dict[category].append(gene)\n",
    "\n",
    "new_gene_list = new_genes['Ensembl']\n",
    "\n",
    "id_to_name_dict = pd.Series(gene_conversions['gene_name'].values,index=gene_conversions['gene_id']).to_dict()\n",
    "gene_names_dict = {}\n",
    "\n",
    "for category, list in genes_dict.items():\n",
    "    gene_names_dict[category] = []\n",
    "    for gene_id in list:\n",
    "        if gene_id in id_to_name_dict:\n",
    "            gene_name = id_to_name_dict.get(gene_id)\n",
    "        else:\n",
    "            gene_name = gene_id\n",
    "            print(gene_id)\n",
    "        gene_names_dict[category].append(gene_name)\n",
    "\n",
    "gene_names_list = [item for sublist in gene_names_dict.values() for item in sublist]"
   ],
   "metadata": {
    "collapsed": false,
    "ExecuteTime": {
     "end_time": "2024-02-28T01:56:44.102074Z",
     "start_time": "2024-02-28T01:56:44.079131Z"
    }
   },
   "id": "241cdac357727f8c",
   "execution_count": 15
  },
  {
   "cell_type": "code",
   "outputs": [],
   "source": [
    "for index, row in functional_screening.iterrows():\n",
    "    gene_id = row['gene_ID']\n",
    "    # check if gene is in CRISPR lib\n",
    "    if gene_id in CRISPR_query.index:\n",
    "        CRISPR_names = CRISPR_query.loc[gene_id, 'gene_symbol']\n",
    "        # If CRISPR_names is a Series, get the unique values, otherwise just use the value\n",
    "        CRISPR_name = CRISPR_names.unique()[0] if isinstance(CRISPR_names, pd.Series) else CRISPR_names\n",
    "        functional_screening.at[index, 'CRISPR_coverage'] = CRISPR_coverage.loc[CRISPR_name, 'Total clones']\n",
    "    else:\n",
    "        CRISPR_name = None\n",
    "    # check if gene is in cDNA lib\n",
    "    if gene_id in cDNA_query.index:\n",
    "        cDNA_names = cDNA_query.loc[gene_id, 'Moe requested genes_Name']\n",
    "        # If cDNA_names is a Series, get the unique values, otherwise just use the value\n",
    "        cDNA_name = cDNA_names.unique()[0] if isinstance(cDNA_names, pd.Series) else cDNA_names\n",
    "        functional_screening.at[index, 'cDNA_coverage'] = cDNA_coverage.loc[cDNA_name, 'Total clones']\n",
    "    else:\n",
    "        cDNA_name = None\n",
    "    \n",
    "    if (CRISPR_name is None) and (cDNA_name is None):\n",
    "        functional_screening.at[index, 'CRISPR_coverage'] = 'No coverage'\n",
    "        functional_screening.at[index, 'cDNA_coverage'] = 'No coverage'\n",
    "    elif CRISPR_name is None:\n",
    "        functional_screening.at[index, 'CRISPR_coverage'] = 0\n",
    "    elif cDNA_name is None:\n",
    "        functional_screening.at[index, 'cDNA_coverage'] = 0\n",
    "\n"
   ],
   "metadata": {
    "collapsed": false,
    "ExecuteTime": {
     "end_time": "2024-02-28T03:56:47.219087Z",
     "start_time": "2024-02-28T03:56:46.213618Z"
    }
   },
   "id": "23ac85c935c4bf83",
   "execution_count": 54
  },
  {
   "cell_type": "markdown",
   "source": [],
   "metadata": {
    "collapsed": false
   },
   "id": "86c31ccc69ed6259"
  },
  {
   "cell_type": "code",
   "outputs": [],
   "source": [
    "# make CRISPR_coverage column int type \n",
    "# Define a lambda function that checks if the input is numeric and converts it to int if true,\n",
    "# otherwise returns 'No coverage'\n",
    "convert_to_int_or_no_coverage = lambda x: int(x) if not pd.isna(pd.to_numeric(x, errors='coerce')) else 'No coverage'\n",
    "\n",
    "# Apply this function to each entry in the 'CRISPR_coverage' column\n",
    "functional_screening['CRISPR_coverage'] = functional_screening['CRISPR_coverage'].apply(convert_to_int_or_no_coverage)"
   ],
   "metadata": {
    "collapsed": false,
    "ExecuteTime": {
     "end_time": "2024-02-28T04:08:16.601662Z",
     "start_time": "2024-02-28T04:08:16.558493Z"
    }
   },
   "id": "ccfb11224088789f",
   "execution_count": 57
  },
  {
   "cell_type": "code",
   "outputs": [],
   "source": [
    "# save functional_screening df\n",
    "os.chdir('/Users/elizabeth 1/Library/CloudStorage/Box-Box/Wu Lab/Project - 2024/Functional screening')\n",
    "functional_screening.to_excel('EB_functional_screening.xlsx', index=False)"
   ],
   "metadata": {
    "collapsed": false,
    "ExecuteTime": {
     "end_time": "2024-02-28T04:13:50.178032Z",
     "start_time": "2024-02-28T04:13:49.979672Z"
    }
   },
   "id": "d9890f8fbeb91765",
   "execution_count": 59
  }
 ],
 "metadata": {
  "kernelspec": {
   "display_name": "Python 3",
   "language": "python",
   "name": "python3"
  },
  "language_info": {
   "codemirror_mode": {
    "name": "ipython",
    "version": 2
   },
   "file_extension": ".py",
   "mimetype": "text/x-python",
   "name": "python",
   "nbconvert_exporter": "python",
   "pygments_lexer": "ipython2",
   "version": "2.7.6"
  }
 },
 "nbformat": 4,
 "nbformat_minor": 5
}
