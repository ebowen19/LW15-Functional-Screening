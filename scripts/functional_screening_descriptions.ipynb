{
 "cells": [
  {
   "cell_type": "code",
   "execution_count": 7,
   "id": "initial_id",
   "metadata": {
    "collapsed": true,
    "ExecuteTime": {
     "end_time": "2024-02-29T04:00:31.112474Z",
     "start_time": "2024-02-29T04:00:31.090652Z"
    }
   },
   "outputs": [],
   "source": [
    "import pandas as pd\n",
    "import os\n",
    "from openpyxl import load_workbook\n",
    "from openpyxl.styles import PatternFill, Font\n",
    "from docx import Document"
   ]
  },
  {
   "cell_type": "code",
   "outputs": [
    {
     "data": {
      "text/plain": "         gene_name regulation_in_sensitive CRISPR_coverage cDNA_coverage  \\\n0    4931428F04Rik             Upregulated     No coverage   No coverage   \n1          Caskin1             Upregulated               4             0   \n2           Scarf2             Upregulated               3             0   \n3            Vps4a             Upregulated               3             1   \n4           Card10             Upregulated               2             0   \n..             ...                     ...             ...           ...   \n315          Asah1           Downregulated               3             1   \n316           Myo6           Downregulated               3             1   \n317         Ranbp2           Downregulated               3             0   \n318           Sord           Downregulated               5             1   \n319           Tfrc           Downregulated               4             1   \n\n                gene_ID   found_in  \n0    ENSMUSG00000014837        PCA  \n1    ENSMUSG00000033597        PCA  \n2    ENSMUSG00000012017        PCA  \n3    ENSMUSG00000031913        PCA  \n4    ENSMUSG00000033170        PCA  \n..                  ...        ...  \n315  ENSMUSG00000031591  GSEA down  \n316  ENSMUSG00000033577  GSEA down  \n317  ENSMUSG00000003226  GSEA down  \n318  ENSMUSG00000027227  GSEA down  \n319  ENSMUSG00000022797  GSEA down  \n\n[320 rows x 6 columns]",
      "text/html": "<div>\n<style scoped>\n    .dataframe tbody tr th:only-of-type {\n        vertical-align: middle;\n    }\n\n    .dataframe tbody tr th {\n        vertical-align: top;\n    }\n\n    .dataframe thead th {\n        text-align: right;\n    }\n</style>\n<table border=\"1\" class=\"dataframe\">\n  <thead>\n    <tr style=\"text-align: right;\">\n      <th></th>\n      <th>gene_name</th>\n      <th>regulation_in_sensitive</th>\n      <th>CRISPR_coverage</th>\n      <th>cDNA_coverage</th>\n      <th>gene_ID</th>\n      <th>found_in</th>\n    </tr>\n  </thead>\n  <tbody>\n    <tr>\n      <th>0</th>\n      <td>4931428F04Rik</td>\n      <td>Upregulated</td>\n      <td>No coverage</td>\n      <td>No coverage</td>\n      <td>ENSMUSG00000014837</td>\n      <td>PCA</td>\n    </tr>\n    <tr>\n      <th>1</th>\n      <td>Caskin1</td>\n      <td>Upregulated</td>\n      <td>4</td>\n      <td>0</td>\n      <td>ENSMUSG00000033597</td>\n      <td>PCA</td>\n    </tr>\n    <tr>\n      <th>2</th>\n      <td>Scarf2</td>\n      <td>Upregulated</td>\n      <td>3</td>\n      <td>0</td>\n      <td>ENSMUSG00000012017</td>\n      <td>PCA</td>\n    </tr>\n    <tr>\n      <th>3</th>\n      <td>Vps4a</td>\n      <td>Upregulated</td>\n      <td>3</td>\n      <td>1</td>\n      <td>ENSMUSG00000031913</td>\n      <td>PCA</td>\n    </tr>\n    <tr>\n      <th>4</th>\n      <td>Card10</td>\n      <td>Upregulated</td>\n      <td>2</td>\n      <td>0</td>\n      <td>ENSMUSG00000033170</td>\n      <td>PCA</td>\n    </tr>\n    <tr>\n      <th>...</th>\n      <td>...</td>\n      <td>...</td>\n      <td>...</td>\n      <td>...</td>\n      <td>...</td>\n      <td>...</td>\n    </tr>\n    <tr>\n      <th>315</th>\n      <td>Asah1</td>\n      <td>Downregulated</td>\n      <td>3</td>\n      <td>1</td>\n      <td>ENSMUSG00000031591</td>\n      <td>GSEA down</td>\n    </tr>\n    <tr>\n      <th>316</th>\n      <td>Myo6</td>\n      <td>Downregulated</td>\n      <td>3</td>\n      <td>1</td>\n      <td>ENSMUSG00000033577</td>\n      <td>GSEA down</td>\n    </tr>\n    <tr>\n      <th>317</th>\n      <td>Ranbp2</td>\n      <td>Downregulated</td>\n      <td>3</td>\n      <td>0</td>\n      <td>ENSMUSG00000003226</td>\n      <td>GSEA down</td>\n    </tr>\n    <tr>\n      <th>318</th>\n      <td>Sord</td>\n      <td>Downregulated</td>\n      <td>5</td>\n      <td>1</td>\n      <td>ENSMUSG00000027227</td>\n      <td>GSEA down</td>\n    </tr>\n    <tr>\n      <th>319</th>\n      <td>Tfrc</td>\n      <td>Downregulated</td>\n      <td>4</td>\n      <td>1</td>\n      <td>ENSMUSG00000022797</td>\n      <td>GSEA down</td>\n    </tr>\n  </tbody>\n</table>\n<p>320 rows × 6 columns</p>\n</div>"
     },
     "execution_count": 5,
     "metadata": {},
     "output_type": "execute_result"
    }
   ],
   "source": [
    "# import data\n",
    "excel_file_path = '/Users/elizabeth 1/Library/CloudStorage/Box-Box/Wu Lab/Project - 2024/Functional screening/Elizabeth/EB_functional_screening.xlsx'\n",
    "functional_screening = pd.read_excel(excel_file_path)\n",
    "functional_screening"
   ],
   "metadata": {
    "collapsed": false,
    "ExecuteTime": {
     "end_time": "2024-02-29T03:58:04.466522Z",
     "start_time": "2024-02-29T03:58:04.214959Z"
    }
   },
   "id": "1e56fd1a6d2b337c",
   "execution_count": 5
  },
  {
   "cell_type": "code",
   "outputs": [
    {
     "name": "stdout",
     "output_type": "stream",
     "text": [
      "{'Scarf2': 'Scarf2 is implicated in cell adhesion and signaling pathways. It may function in the endocytosis pathway and play a role in developmental processes by mediating cell-cell interactions.', 'Vps4a': 'Vital for vesicular trafficking processes, including endosomal sorting and autophagy. Vps4a helps in the disassembly of ESCRT-III complexes on endosomal membranes, crucial for the recycling of membrane proteins and the formation of multivesicular bodies. autophagy and vesicular trafficking. Autophagy can play dual roles in cancer, either promoting cell survival under stress or leading to cell death, impacting drug responses.', 'Card10': 'A caspase recruitment domain (CARD)-containing protein that is involved in signaling pathways leading to NF-κB activation. Card10 plays a significant role in immune response regulation and may be involved in connecting membrane receptors to downstream signaling pathways. Involved in NF-κB activation, which is crucial in regulating immune responses, cell survival, proliferation, and apoptosis. NF-κB pathway is often dysregulated in cancer, contributing to tumorigenesis and drug resistance.', 'Thap11': 'Functions as a DNA-binding transcription regulator involved in cell cycle control and apoptosis. Thap11 may play roles in development and the regulation of gene expression specific to cellular differentiation processes. role in cell cycle control and apoptosis directly ties to cancer cell proliferation and survival mechanisms, making it a prime candidate for influencing drug sensitivity or resistance.', 'Nup50': 'A nuclear pore complex protein involved in the nuclear export of proteins and RNAs. It plays a crucial role in nucleocytoplasmic transport, cell cycle progression, and may influence gene expression regulation through its interaction with chromatin. involvement in nucleocytoplasmic transport could affect the localization and function of proteins that regulate cell cycle and apoptosis, impacting drug action.', 'Rrad': 'RRAD is involved in the regulation of cellular metabolism and may play a role in energy homeostasis. It is a member of the Ras superfamily of GTPases, known to be involved in various signaling pathways.', 'Cited1': 'Functions as a transcriptional co-activator that interacts with CBP/p300 to regulate gene expression. Cited1 is involved in responses to hypoxia and may play roles in development and differentiation, particularly in the embryonic stage. Functions as a transcriptional co-activator, potentially affecting gene expression in response to hypoxia, a common feature in the tumor microenvironment that can influence drug sensitivity.', 'Trp53rka': 'A regulator of the p53 pathway, this gene is involved in the cellular response to stress and DNA damage, potentially influencing apoptosis, cell cycle arrest, and repair processes to maintain genomic stability.regulator of the p53 pathway, crucial in cellular stress response, DNA damage repair, and apoptosis, directly linked to cancer cell response to therapy.', 'Gfer': 'Encodes a protein involved in mitochondrial homeostasis and the promotion of cell survival under stress conditions. Gfer can influence the assembly and maintenance of the mitochondrial electron transport chain, affecting cellular energy metabolism. mitochondrial function and cell survival under stress, potentially influencing resistance to drugs that induce cell death through mitochondrial pathways. mitochondrial electron transport chain, affecting cellular energy metabolism which could alter drug sensitivity.', 'Shf': 'Involved in signal transduction, possibly through SH2 domain-containing proteins, affecting cellular growth/survival and differentiation pathways.', 'Zfp395': 'A zinc finger protein involved in transcriptional regulation, possibly affecting gene expression patterns in stress responses or development.', 'Stac2': 'May play a role in calcium-mediated cellular processes and signaling, potentially impacting muscle function and neuronal activity.', 'Ccdc92': 'CCDC92 is involved in cell division and may play a role in the organization of the mitotic spindle. It has been implicated in various cellular processes, including vesicle-mediated transport and cytoskeletal organization.', 'Sptbn4': 'Spectrin beta chain, involved in cytoskeletal structure and cell membrane stability, critical for neuronal development and function.', 'B4galt3': 'Participates in glycosylation processes, contributing to the synthesis of glycoproteins and glycolipids which are essential for cell adhesion, signaling, and recognition.', 'Sh3bp1': 'A signaling molecule that interacts with SH3 domain-containing proteins, playing a role in the regulation of cellular growth and cytoskeletal organization.', 'Rasgrp4': 'Acts as a guanine nucleotide exchange factor for Ras proteins, involved in signal transduction pathways that control cell proliferation and differentiation.', 'Rfng': 'Involved in Notch signaling pathway, influencing cell fate decisions, differentiation, and development.', 'Arid3c': 'A member of the ARID (AT-rich interaction domain) family, potentially involved in DNA binding and regulation of gene transcription.', 'Mkrn1': 'An E3 ubiquitin ligase that may play roles in RNA binding and regulation of gene expression post-transcriptionally.', 'Gpr157': 'A G protein-coupled receptor involved in signaling pathways that may influence cellular development, metabolism, or response to environmental cues.', 'Foxa3': 'A forkhead box transcription factor critical for the regulation of metabolism and development, particularly in liver and adipose tissue.regulator of metabolism and development. transcription factors  can alter the expression of genes involved in drug response.', 'Zcwpw1': 'Involved in chromatin modification and gene expression regulation, possibly through histone methylation and DNA repair mechanisms.', 'Ldhd': 'Lactate dehydrogenase, potentially involved in metabolic pathways, converting lactate to pyruvate and vice versa under different physiological conditions.Involved in metabolic pathways, converting lactate to pyruvate, which is crucial in cancer metabolism.', 'Stard10': 'Plays a role in lipid metabolism or transport, possibly influencing membrane composition and signaling pathways.', 'Eva1c': 'May play a role in cell death and survival pathways, potentially influencing neuronal development and regeneration.  autophagy, apoptosis, and cellular stress responses.', 'Lrrc73': 'Leucine-rich repeat-containing protein, function not well characterized, potentially involved in protein-protein interactions and signal transduction.', 'Tradd': 'TNFRSF1A-associated via death domain, involved in signaling pathways leading to apoptosis and NF-κB activation.apoptosis and NF-κB activation signaling pathways, essential for determining how cancer cells undergo programmed cell death upon drug treatment.', 'Dact3': 'Involved in Wnt signaling pathway, playing a role in cell fate determination, development, and tumorigenesis.Wnt signaling pathway, playing a role in cell fate determination and potentially in cancer progression and response to treatment.', 'Ptpn6': 'Protein tyrosine phosphatase, non-receptor type 6, involved in regulating signaling pathways that control cell growth, differentiation, and immune responses. By dephosphorylating key signaling molecules, PTPN6 can inhibit the activation of pathways that are often upregulated in cancer, such as those mediated by the JAK/STAT, NF-κB, and MAPK pathways.', 'Pgf': 'Placental growth factor, involved in angiogenesis and vasculogenesis, playing a critical role in inflammation and wound healing.', 'Mypop': 'Myb-related transcription factor, possibly involved in the regulation of gene expression and cellular differentiation processes.', 'Fbxo17': 'F-box protein, part of the SCF ubiquitin ligase complex, involved in protein degradation and regulation of signaling pathways.', 'Hoxc11': 'Homeobox gene, involved in the regulation of development and morphogenesis, particularly in limb and organ formation.development and morphogenesis, potentially contributing to cancer progression and metastasis, influencing how cancer cells respond to drugs.', 'Glo1': 'Glyoxalase I, involved in the detoxification of methylglyoxal, a byproduct of glycolysis, playing a role in cellular aging and metabolic regulation.Plays a role in detoxification and metabolic regulation, potentially influencing cancer cell survival under drug treatment.', 'Tmem121': 'Transmembrane protein, function not well characterized, potentially involved in cellular structure or signaling processes.', 'Ptpn18': 'Protein tyrosine phosphatase, non-receptor type 18, involved in modulating signaling pathways, particularly those related to growth factor and cytokine receptors, impacting cell growth and differentiation.', 'Abcg4': 'Member of the ATP-binding cassette (ABC) transporter family, involved in cholesterol and lipid transport across membranes, potentially influencing lipid metabolism and homeostasis.', 'Bcar1': 'Breast cancer anti-estrogen resistance protein 1, involved in cell signaling pathways that regulate cell adhesion, migration, and growth.', 'Dhcr24': '24-dehydrocholesterol reductase, involved in cholesterol biosynthesis, playing a critical role in maintaining membrane structure and function, as well as in modulating cell signaling pathways.', 'Dpf3': 'Part of the BAF chromatin remodeling complex, involved in regulating gene expression through chromatin modification, with implications in cardiac development and function.', 'Batf3': 'Basic leucine zipper ATF-like transcription factor 3, plays a role in the differentiation of dendritic cells and may influence immune responses and tumor immunity.', 'Cbarp': 'Calcium-binding tyrosine-(Y)-phosphorylation regulated protein, involved in calcium signaling pathways that may affect cell adhesion and migration.', 'Hic2': 'Hypermethylated in cancer 2, a transcriptional repressor potentially involved in the regulation of gene expression related to development and tumorigenesis.', 'Mpzl1': 'Myelin protein zero-like 1, involved in cell adhesion and signaling in the immune system, potentially influencing T cell activation and responses.', 'Tpi1': 'Triosephosphate isomerase 1, a key enzyme in glycolysis, playing a crucial role in energy metabolism.', 'Ap1m2': 'Adaptor-related protein complex 1, mu 2 subunit, involved in vesicular transport mechanisms, impacting protein sorting and trafficking.', 'Map4k1': 'Mitogen-activated protein kinase kinase kinase kinase 1, involved in signaling pathways that regulate cell proliferation, differentiation, and stress responses.', 'Crabp1': 'Cellular retinoic acid-binding protein 1, involved in the transport and metabolism of retinoic acid, playing roles in cell growth, differentiation, and apoptosis.', 'Fndc4': 'Fibronectin type III domain containing 4, potentially involved in cell adhesion and signaling pathways related to tissue development and repair.', 'Fbxl14': 'F-box and leucine-rich repeat protein 14, part of the ubiquitin-proteasome system, involved in protein degradation and regulation of signaling pathways.', 'Rcor2': 'REST corepressor 2, involved in transcriptional repression, potentially impacting neural development and gene expression regulation.', 'Dusp2': 'Dual specificity phosphatase 2, involved in the dephosphorylation of MAP kinases, playing roles in the regulation of immune responses and inflammation.', 'Ninl': 'Ninein-like, involved in microtubule organization and possibly in ciliary function, impacting cellular division and signaling.', 'Nckipsd': 'NCK interacting protein with SH3 domain, involved in signal transduction pathways, potentially affecting actin cytoskeleton organization and cellular motility.', 'Ecd': 'Ecdysoneless homolog, involved in cell cycle regulation and DNA repair, potentially impacting development and tumorigenesis.', 'Esrrb': 'Estrogen-related receptor beta, involved in the regulation of energy metabolism and stem cell pluripotency, playing critical roles in development and cellular differentiation.', 'Cd164l2': 'CD164 sialomucin-like 2, involved in cell adhesion and migration, potentially playing roles in hematopoiesis and cancer metastasis.', 'Tmem151b': 'Transmembrane protein 151B, with potential roles in cellular processes or signaling, though specific functions are not well characterized.', 'Mafa': 'plays a crucial role in the regulation of insulin gene expression. It is a transcription factor that binds to the RIPE3b/C1 and RIPE3b/C1-A elements of the insulin promoter, critical for pancreatic beta-cell function.', 'Wnt5b': 'part of the Wnt family (encode secreted signaling proteins), which is involved in several developmental processes. Wnt5b specifically is implicated in regulating cell migration and differentiation, particularly in the development of the limbs and central nervous system. Modulates immune cell behavior & inflammation', 'Nradd': 'The Neurotrophin receptor-associated death domain protein. involved in the apoptosis signaling pathway, particularly in the context of neurotrophin receptors. It may play a role in neuronal development and survival.', 'Uck2': 'Uck2 encodes for uridine-cytidine kinase 2, an enzyme involved in the pyrimidine salvage pathway, which is crucial for nucleotide metabolism in cells.', 'Rpia': 'Ribose 5-phosphate isomerase A (RPIA) is involved in the pentose phosphate pathway, which is critical for nucleotide biosynthesis and cellular metabolism.', 'Trnp1': 'Tumor necrosis factor receptor-associated protein 1 (Trnp1) is involved in cellular processes such as proliferation and migration, particularly in the context of neural development.', 'Mlkl': 'Mixed lineage kinase domain-like protein (Mlkl) is involved in necroptosis, a form of programmed cell death. It is a crucial effector of this pathway, mediating membrane disruption upon activation.necroptosis, could impact alternative cell death pathways activated in response to cancer therapies.', 'Wnt1': 'This is another member of the Wnt family, crucial for normal development of the nervous system and also implicated in oncogenesis. Wnt1 signaling pathways are involved in cell fate determination, cell migration, and cell polarity. role in oncogenesis/cancer progression, could impact drug resistance since cancer cells can exploit signaling pathways like wnt for survival signals, could lead to resistance. wnt1 signaling can affect tumor microenvironment with angiogenesis, immune cell infiltration, and cancer-associated fibroblast behavior, impacting efficacy of cancer therapies', 'Higd1a': 'Hypoxia inducible domain family, member 1A (Higd1a) is involved in cellular responses to hypoxia, potentially playing a role in mitochondrial function and apoptosis regulation.', 'Tubg2': \"Tubulin gamma 2 is involved in the formation of microtubules, essential components of the cell's cytoskeleton that play critical roles in cell division, intracellular transport, and cell shape maintenance.\", 'Fes': 'The Fes gene encodes a tyrosine kinase that is implicated in signaling pathways controlling cell growth and differentiation. It has roles in hematopoiesis and may also be involved in the regulation of inflammatory responses.', 'Sec14l4': 'Sec14-like lipid binding proteins are involved in lipid metabolism and transport. Specific functions for Sec14l4 in mice might not be well-characterized, but the Sec14 family generally plays roles in cellular lipid homeostasis.', 'Bcl11a': \"This gene is a transcription factor crucial for lymphoid development and has been implicated in hematopoiesis. It also plays a role in the development of specific neuronal types.involved in the BCL-2 family pathway (although it's more related to development and hematopoiesis), it could be important due to role in cell death / survival\", 'Ltk': 'Leukocyte receptor tyrosine kinase is involved in cell growth and differentiation. It may play roles in the development of certain types of cells in the immune system.', 'Smarcd1': 'Part of the SWI/SNF chromatin remodeling complex, Smarcd1 is involved in transcriptional regulation. It influences a variety of biological processes, including development and differentiation.', 'Sgk2': 'Serum/glucocorticoid regulated kinase 2 is involved in cellular stress response, regulating ion channels, and may play roles in metabolic regulation.', 'Fbxl19': 'F-box and leucine-rich repeat protein 19 is involved in the ubiquitination and subsequent proteasomal degradation of target proteins. It plays roles in epigenetic regulation and may influence inflammatory responses.', 'Nr5a1': 'Nuclear receptor subfamily 5, group A, member 1, also known as steroidogenic factor 1 (SF-1), plays a critical role in the regulation of steroidogenic pathways, development of the adrenal gland and gonads, and reproductive function.regulation of steroidogenic pathways, which could influence cancer progression / treatment response in steroid hormone-sensitive cancers.', 'Pim2': 'Pim-2 is a serine/threonine kinase involved in cell survival, proliferation, and differentiation. It is implicated in various cellular processes, including the response to cytokines and stress.', 'Calcoco2': 'Calcium binding and coiled-coil domain 2, also known as NDP52, is involved in autophagy and innate immune responses, particularly in the targeting of bacteria for autophagic degradation.', 'Agap2': 'ArfGAP with GTPase domain, ankyrin repeat, and PH domain 2, is involved in intracellular trafficking and cytoskeletal dynamics. It has roles in cell signaling and membrane trafficking.', 'Large2': 'Like LARGE, LARGE2 is thought to function in glycosylation, adding glycan structures to dystroglycan, which is crucial for muscle integrity and neuronal development. It may play roles in modulating the extracellular matrix and cell surface receptor function.', 'Pgk1': 'Encodes phosphoglycerate kinase 1, involved in glycolysis. It plays a role in energy production.', 'Fam162a': 'Part of the family with sequence similarity 162, member A, with unclear specific function but may be involved in apoptosis or cellular stress responses.', 'Pfkl': 'Encodes the liver isoform of phosphofructokinase, involved in glycolysis, crucial for energy production.', 'Gapdh': \"Glyceraldehyde-3-phosphate dehydrogenase, involved in glycolysis. It's a key enzyme in energy metabolism and is often used as a housekeeping gene for normalization in experiments.\", 'Ccnd2': 'Cyclin D2, regulates cell cycle progression at G1. Its role in cell cycle makes it crucial for cell proliferation.', 'Rspo1': 'R-spondin 1, involved in Wnt signaling pathway activation, important for developmental processes and stem cell proliferation.', 'Tead2': 'Transcriptional enhancer factor, plays roles in development and cell growth.', 'Ndrg2': 'N-myc downstream-regulated gene 2, involved in stress responses and possibly tumor suppression.', 'Fbxo10': 'F-box protein, part of the ubiquitin-proteasome system for protein degradation. Implicated in various forms of cancer, with its expression levels and mutations potentially influencing tumor behavior and response to therapy.', 'Glipr2': 'GLI pathogenesis-related 2, possibly involved in the Hedgehog signaling pathway. Implicated in cell survival/proliferation. Also see gene plot (significant stats).', 'Septin5': 'Involved in cytokinesis and cell cycle control. Its role in cell division might influence sensitivity to drugs affecting cell proliferation.', 'Cgref1': 'Cell growth regulator, could impact cell proliferation and apoptosis, potentially affecting sensitivity to drugs that target these pathways.', 'Cib2': 'Calcium and integrin-binding family member, involved in signaling pathways and possibly in cell survival. May influence statin sensitivity indirectly through calcium signaling pathways.', 'Tcea3': 'Transcription elongation factor, involved in gene expression. Its role in transcription might indirectly affect pathways relevant to statin action.', 'Angel1': 'RNA-editing enzyme, involved in mRNA stability and translation. Could indirectly influence statin sensitivity by affecting gene expression.', 'Adgrg3': 'Adhesion G protein-coupled receptor, involved in cell adhesion and signaling. could indirectly affect cell proliferation and drug sensitivity.', 'Ckb': 'Creatine kinase, brain type, involved in energy metabolism. Could indirectly affect statin sensitivity through energy metabolism pathways. Most abundant in brain tissue but also affects energy metabolism in other tissue.', 'Cand2': 'Cullin-associated and neddylation-dissociated, involved in protein degradation. Could influence statin sensitivity indirectly through regulation of protein stability.', 'Bin2': 'Bridging integrator 2, involved in membrane tubulation and cell signaling.', 'Diras2': 'GTP-binding protein, involved in cell cycle control and differentiation. Could influence statin sensitivity through effects on cell proliferation.', 'Arhgdib': 'Rho GDP-dissociation inhibitor, involved in cell migration and proliferation. Its role in cell signaling could indirectly affect statin sensitivity.', 'Igfbp2': 'Insulin-like growth factor-binding protein 2, involved in cell growth and survival. Could influence statin sensitivity through IGF signaling pathways', 'Cyp2s1': 'Cytochrome P450 family member, involved in xenobiotic and steroid metabolism. Its role in metabolism could indirectly affect statin processing and sensitivity.', 'Efna3': 'Ephrin-A3, involved in cell adhesion and migration. Could indirectly affect statin sensitivity through effects on cell signaling and environment interactions.', 'Rassf2': 'Ras association domain family member, involved in tumor suppression and apoptosis. Its role in apoptosis could influence sensitivity to statins.', 'Tcf7': 'Transcription factor 7, involved in Wnt signaling and cell fate determination. Its role in Wnt signaling could indirectly affect statin sensitivity.', 'Hsd17b1': 'Steroidogenic enzyme, involved in estrogen biosynthesis. Its role in hormone metabolism could indirectly affect statin sensitivity.', 'Ccdc85c': 'Coiled-coil domain-containing protein, likely involved in cellular structure or signaling pathways.', 'Nckap1l': 'Plays a role in the immune system and cytoskeletal organization, potentially influencing cell migration and immune responses.', 'Igsf5': 'Immunoglobulin superfamily member, involved in cell-cell adhesion, which could influence cancer cell interaction and metastasis.', 'Vps26a': 'Part of the retromer complex, involved in endosomal sorting. Its role in trafficking could influence receptor signaling and drug sensitivity.', 'Gsta3': 'Glutathione S-transferase, involved in detoxification. Could influence statin processing or resistance through detoxification pathways.', 'Ugt1a6a': 'UDP glucuronosyltransferase, involved in metabolism and detoxification. Its role in drug metabolism could impact statin sensitivity.', 'Dnajc15': 'DnaJ heat shock protein family member, involved in protein folding. Heat shock proteins can influence cell survival under stress, potentially affecting drug sensitivity.', 'Sult1c2': 'Sulfotransferase enzyme, involved in hormone and xenobiotic metabolism. Could potentially affect drug metabolism and sensitivity.', 'Enpep': 'Glutamyl aminopeptidase, involved in blood pressure regulation and possibly in cell growth. Its role in signaling pathways might indirectly influence drug sensitivity.', 'Ppargc1a': 'Peroxisome proliferator-activated receptor gamma coactivator 1-alpha, a key regulator of energy metabolism. It could influence statin sensitivity through metabolic pathways.', 'Lcn2': \"Lipocalin 2, involved in iron transport and immune response. It's implicated in cancer progression and could affect cell survival and proliferation.\", 'Cd68': 'Marker for macrophages, involved in immune response. While primarily related to immune cells, it could influence the tumor microenvironment.', 'Il6ra': 'Interleukin-6 receptor alpha, a cytokine receptor involved in inflammation and immune responses. It could affect cancer cell growth and response to stress, possibly influencing sensitivity to drugs like statins through inflammatory pathways.', 'Sirpa': 'Signal regulatory protein alpha, involved in immune cell signaling. It could play a role in the immune response to cancer cells.', 'Tfec': 'Transcription factor EC, involved in lysosomal and autophagy regulation. Its role in cellular stress responses could influence drug sensitivity.', 'Ugt1a7c': 'Another UDP glucuronosyltransferase, involved in drug metabolism. Similar to Ugt1a6a, it could impact statin metabolism and sensitivity.', 'Krt17': 'Keratin 17, involved in the structural integrity of epithelial cells. It is associated with cell proliferation and has been implicated in cancer progression.', 'Folr1': \"Folate receptor 1, involved in folate transport. It's important for cell growth and division, potentially influencing cancer cell metabolism.\", 'Acss3': 'Acyl-CoA synthetase short-chain family member 3, involved in fatty acid metabolism. It could influence energy metabolism and cellular responses to statins indirectly through alterations in lipid metabolism.', 'Slc16a12': 'A member of the solute carrier family, involved in the transport of metabolites across membranes. Its function in metabolite transport could influence the uptake or efflux of statins, potentially affecting their efficacy.', 'St6gal1': 'Encodes beta-galactoside alpha-2,6-sialyltransferase 1, involved in glycoprotein sialylation. This post-translational modification can affect the stability and signaling of membrane proteins, potentially influencing statin drug interactions with their targets.', 'Pde1a': 'Phosphodiesterase 1A, involved in breaking down cAMP and cGMP. Its role in signal transduction pathways could influence cellular responses to stress and drugs, including statins, by modulating signaling pathways that affect cell survival and proliferation.', 'Mmp2': 'Matrix metalloproteinase-2, involved in the breakdown of extracellular matrix components. MMPs can influence cancer progression and metastasis, and their activity might affect the tumor microenvironment in ways that could alter statin sensitivity indirectly.', 'Stra6': 'Stimulated by retinoic acid gene 6, a receptor for retinol-binding protein, plays a role in vitamin A uptake and signaling. Vitamin A signaling can influence cell proliferation and differentiation, potentially intersecting with pathways affected by statins.', 'Kalrn': 'Kalirin, a Rho-GEF kinase, involved in cytoskeletal remodeling and signal transduction. It could impact cell migration, morphology, and possibly sensitivity to statins through effects on cell signaling and structure.', 'Ret': 'A receptor tyrosine kinase involved in cell growth and differentiation. Its signaling pathways could intersect with those affected by statins, particularly in cancer cells where Ret signaling contributes to growth and survival.', 'Flnc': 'Filamin C, involved in actin filament cross-linking and stabilization. It plays a role in maintaining cell structure and signaling, which could affect how cells respond to external stresses including drug treatments.', 'Grin1': 'NMDA receptor subunit, involved in synaptic signaling.', 'Tiam1': 'T-cell lymphoma invasion and metastasis 1, a guanine nucleotide exchange factor (GEF) for Rac1, involved in cell signaling and cytoskeletal dynamics. Its role in cell migration and invasion could indirectly influence tumor cell sensitivity to statins by affecting cell survival and proliferation pathways.', 'Bmp7': 'Bone morphogenetic protein 7, involved in development and tissue homeostasis. BMP7 signaling can influence cell growth and differentiation, potentially intersecting with statin effects in cancer cells by modulating pathways involved in cell survival and apoptosis.', 'Slc16a14': 'A member of the solute carrier family, potentially involved in the transport/uptake of metabolites or drugs.', 'Ube2l6': 'Ubiquitin-conjugating enzyme E2L 6, involved in ubiquitination and protein degradation.', 'Bcl2l11': '(also known as Bim): A pro-apoptotic member of the Bcl-2 family. It plays a crucial role in apoptosis regulation', 'Slc2a3': '(GLUT3): Glucose transporter. Part of metabolic pathway that can affect cellular energy balance.', 'Igf2': 'Insulin-like growth factor 2, involved in growth and development. IGF signaling can influence cell survival/proliferation through pathways related to growth and apoptosis.', 'Cerox1': 'RNA exonuclease involved in small RNA regulation. Its role in RNA processing could influence gene expression profiles,', 'Serping1': \"Serpin family G member 1, a plasma protease inhibitor. It can influence inflammation and coagulation pathways, indirectly affecting cancer progression and potentially the microenvironment's response to statins.\", 'Slc25a23': 'A member of the solute carrier family involved in calcium signaling. Calcium signaling can affect various cellular processes, including cell death and survival pathways potentially relevant to statin sensitivity.', 'Mmp17': 'Matrix metalloproteinase-17, involved in the breakdown of extracellular matrix components. MMPs can influence the tumor microenvironment, potentially affecting how cancer cells respond to statins indirectly.', 'Apln': 'Apelin, a ligand for the APJ receptor, involved in cardiovascular regulation and possibly in tumor angiogenesis. Its role in promoting angiogenesis could affect tumor growth and response to therapies, including statins.', 'Alcam': '(Activated leukocyte cell adhesion molecule): Involved in cell adhesion, which can influence tumor cell interaction, migration, and possibly drug sensitivity through effects on cell communication and the tumor microenvironment.', 'Sema4d': '(Semaphorin 4D): Plays roles in immune regulation and axon guidance but also in tumor progression and angiogenesis. It could potentially affect the tumor microenvironment.', 'Agmo': '(Alkylglycerol monooxygenase): Involved in lipid metabolism, which could intersect with statin mechanisms given their primary action in cholesterol biosynthesis and lipid regulation.', 'Hhip': '(Hedgehog interacting protein): Regulates the Hedgehog signaling pathway, important in development and cancer. It could influence cancer cell proliferation and thus affect sensitivity to drugs like statins that also impact cell proliferation.', 'Ppbp': '(Pro-platelet basic protein): A chemokine with roles in inflammation and wound healing, could influence the tumor microenvironment.', 'Myh10': '(Myosin heavy chain 10): Involved in cytoskeletal structure and cell movement, could influence cell morphology and signaling.', 'Wnt4': '(Wnt family member 4): Involved in the Wnt signaling pathway, critical for cell proliferation and differentiation. Since statins can influence Wnt signaling indirectly, Wnt4 could play a role in mediating statin sensitivity in cancer cells.', 'Nt5e': \"(5'-nucleotidase ecto): Regulates extracellular adenosine levels, impacting inflammation and tumor progression. Could modulate the tumor microenvironment in ways that influence statin sensitivity.\", 'Igf2bp1': '(Insulin-like growth factor 2 mRNA binding protein 1): Regulates the stability and translation of mRNAs, including those involved in growth and metabolism. It could influence cell proliferation and survival pathways, impacting sensitivity to statins.', 'Mcm6': '(Minichromosome maintenance complex component 6): Involved in DNA replication, essential for cell proliferation. Its role in cell cycle regulation could make it relevant to how cancer cells respond to statins.', 'Vim': '(Vimentin): A marker of epithelial-to-mesenchymal transition (EMT), involved in cell integrity and signaling. It could influence cancer progression and metastasis, potentially affecting drug sensitivity.', 'Col1a1': '(Collagen type I alpha 1 chain): Part of the extracellular matrix, could influence tumor stiffness and microenvironment, indirectly affecting statin sensitivity.', 'Tfrc': '(Transferrin receptor): Involved in iron uptake, essential for cell proliferation. Its role in cellular metabolism could intersect with pathways influenced by statins, potentially affecting drug sensitivity.', 'Caskin1': 'Involved in synaptic function, Caskin1 plays a role in neural development and signal transduction. It may interact with scaffolding proteins within the synapse, influencing neuronal signaling and plasticity.', 'Eps8l2': 'Plays a role in actin cytoskeleton remodeling and cellular motility. Eps8l2 can regulate the dynamics of actin filament formation and is involved in the signaling pathways that control cell shape, movement, and adhesion.', 'Reep6': 'Involved in the shaping of endoplasmic reticulum tubules, Reep6 plays a role in the proper functioning of the retinal photoreceptors. It may be important for photoreceptor maintenance and function.', 'Spata2l': 'Likely involved in spermatogenesis and may play roles in chromatin remodeling or cell cycle regulation in germ cells.', 'Vill': 'Villin-like protein that may play a role in actin cytoskeletal dynamics, particularly in cell structure and motility.', 'Nlgn2': 'A postsynaptic cell adhesion molecule critical for the development and function of inhibitory synapses, impacting neuronal signaling and plasticity.', 'Syce2': 'Essential for synaptonemal complex formation, playing a critical role in meiosis and genetic recombination in germ cells.', 'Prph': 'Peripherin, a type III intermediate filament protein, involved in the structural integrity of neurons, particularly in the peripheral nervous system.', 'Prrx2': 'A homeobox transcription factor involved in embryonic development, influencing cell differentiation and morphogenesis.', 'Arsi': 'Arylsulfatase, involved in the hydrolysis of sulfates on glycosaminoglycans, affecting cellular signaling and lysosomal function.', 'Plvap': 'Plasmalemma vesicle-associated protein, critical for the formation of fenestrae in endothelial cells, influencing vascular permeability.', 'Prss16': 'A serine protease potentially involved in the immune system, possibly affecting antigen processing or presentation.', 'Fam117a': 'Function not well characterized, may be involved in cellular stress responses or signal transduction pathways.', 'Trim62': 'A member of the tripartite motif family, involved in ubiquitination and regulation of antiviral responses.', 'Rtraf': 'Function not well characterized, potentially involved in signal transduction pathways related to cellular stress and immune responses.', 'Gm9747': 'Likely represents a gene with not well-characterized function, potentially involved in specific cellular or metabolic processes.', 'Grik5': 'Glutamate receptor, ionotropic kainate 5, involved in synaptic transmission and plasticity in the central nervous system.', 'Brsk1': 'BR serine/threonine kinase 1, involved in neuronal polarization and possibly in synaptic function regulation.', 'Slc24a3': 'Solute carrier family 24 member 3, involved in ion transport, potentially affecting neuronal activity and pH regulation.', 'Plekhg6': 'Pleckstrin homology and RhoGEF domain containing G6, involved in cytoskeletal organization and cell motility.', 'Prss41': 'A serine protease, function not well characterized, potentially involved in proteolytic processes affecting digestion, immunity, or development.', 'Crnde': 'A long non-coding RNA, involved in the regulation of gene expression, possibly playing roles in development and disease processes.', 'Dpf1': 'Involved in chromatin remodeling and neurodevelopment, playing a role in dendritic arborization and synaptic plasticity.', 'Crlf1': 'Cytokine receptor-like factor 1, involved in the cytokine signaling pathways, potentially influencing immune responses and hematopoiesis.', 'Adam11': 'A disintegrin and metalloproteinase domain 11, plays a role in cell adhesion and communication, possibly impacting neural development and synaptic organization.', 'Adgrl1': '(also known as Lphn1): Adhesion G protein-coupled receptor L1, involved in cell adhesion and communication, potentially playing roles in neural development and synaptic organization.', 'Dlgap3': 'Discs, large (Drosophila) homolog-associated protein 3, involved in synaptic organization and function, potentially impacting learning and memory.', 'Gm10157': 'Likely a gene with not well-characterized function, potentially involved in specific cellular or metabolic processes in mice.', 'Samd14': 'Sterile alpha motif domain-containing protein 14, with potential roles in signal transduction and regulation of cellular processes, though specific functions may be tissue-specific.', '2410004I01Rik': 'A mouse gene with not clearly defined functions, potentially encoding a protein involved in cellular or developmental processes.', 'A430093F15Rik': 'Another gene with not well-defined functions, potentially involved in specific biological processes or regulatory mechanisms in mice.', 'Pcsk4': 'Proprotein convertase subtilisin/kexin type 4, involved in the processing of precursor proteins into their active forms, impacting fertility and development.', 'Tcf15': 'Transcription factor 15, involved in cell differentiation and development, particularly in the context of muscle and neural tissues.', 'Lrrc23': 'Leucine-rich repeat-containing 23, with potential roles in protein-protein interactions and cellular signaling, though specific functions are not well characterized.', 'Cadm4': 'Cell adhesion molecule 4, involved in cell-cell adhesion and possibly in signal transduction processes affecting neural development and function.', 'Nrtn': 'Neurturin, a member of the GDNF family of ligands, involved in the survival and maintenance of neurons, playing roles in neural development and regeneration.', 'Dnajc9': 'DnaJ heat shock protein family (Hsp40) member C9, involved in protein folding and assembly, potentially impacting cellular stress responses.', 'Sema6b': 'Semaphorin 6B, involved in axonal guidance and neuronal development, playing roles in the patterning of neural circuits.', 'Irf6': 'Interferon regulatory factor 6, involved in skin and oral mucosa development, playing a critical role in craniofacial development and epithelial differentiation.', 'Mdfi': 'MyoD family inhibitor, involved in the regulation of muscle differentiation and growth, potentially impacting myogenesis and muscle regeneration.', 'Dlx1': 'belongs to the Distal-less homeobox gene family, involved in forebrain development and differentiation. It plays a role in the development of the dentate gyrus and other neural structures.', 'Syngap1': 'This gene is significant for synaptic function and cognitive development. Syngap1 encodes a protein that acts as a Ras GTPase-activating protein, involved in the regulation of synaptic plasticity and the development of cognitive functions.', 'Pitx3': 'Pitx3 is essential for the development of lens and anterior segment of the eye. It also plays a crucial role in the development of dopaminergic neurons in the midbrain, which are important for movement regulation.', 'Slc32a1': 'This gene encodes the vesicular inhibitory amino acid transporter, involved in the transport of neurotransmitters like GABA and glycine into synaptic vesicles, playing a key role in inhibitory neurotransmission.', 'Ripply3': 'Ripply3 is involved in somitogenesis, contributing to the segmentation of the embryo into somites. It plays a regulatory role in the transition from the presomitic mesoderm to somites.', 'Gm20163': 'This appears to be a gene model (predicted or known) specific to the mouse genome. The specific function of such genes might be less well characterized and often requires specific lookup for detailed information.', 'Gm9844': 'Like Gm20163, this is likely a mouse-specific gene model. Details about its function would require specific research based on genomic databases or literature.', 'ENSMUSG00000120070 / Gm56719': 'a predicted (less characterized) gene.', 'Barx2': 'Barx2 is a homeobox gene involved in developmental processes. It plays a role in muscle differentiation, craniofacial development, and extracellular matrix production.', 'Gm13420': 'Like other \"Gm\" genes, Gm13420 is likely a predicted or less-characterized gene with no specific function readily available.', 'Ddn': 'Dendrin is a protein that in mice is suggested to be involved in synaptic function and neuronal activity. It may have roles in the regulation of dendrite development.', 'Gm9176': 'Another gene with a \"Gm\" prefix, suggesting it is a predicted or poorly characterized gene in the mouse genome.', 'Vax2os': 'This likely refers to a Vax2 opposite strand (antisense) RNA, which could be involved in regulating the expression of the Vax2 gene, important for eye development and patterning.', 'Ntn3': 'Netrin 3 is part of the netrin family, which are involved in axon guidance. Ntn3, specifically, plays roles in neural development and may influence the guidance of neural circuits.', 'Irf5': 'Interferon regulatory factor 5 is key in the regulation of immune responses, particularly in the activation of proinflammatory cytokines and type I interferon response.', 'Eif1ad10': 'This gene does not match the standard naming convention and might be incorrectly listed or a less-characterized entity related to eukaryotic translation initiation factors.', 'Gpc2': 'Glypican 2 is a cell surface heparan sulfate proteoglycan involved in the regulation of cell growth and division, particularly in the context of developmental processes.', '1700025G04Rik': 'A typical mouse gene nomenclature for a gene that has not been well characterized. It likely represents a gene identified through sequencing projects but without detailed functional data available.', 'Osr2': 'Odd-skipped related 2 is a transcription factor important for the development of the craniofacial region, teeth, and limbs. It plays a critical role in skeletal patterning and organogenesis.', 'Npr3': 'Natriuretic peptide receptor 3, also known as the natriuretic peptide clearance receptor, is involved in the regulation of blood pressure and fluid balance. It binds natriuretic peptides and helps in their clearance from circulation.', 'Zfta': '(Zinc finger protein):Involved in DNA binding and transcriptional regulation. transcription factors can influence drug response indirectly through gene expression regulation.', 'Gm13882': 'Like other \"Gm\" genes, Gm13882 is likely a predicted or less-characterized gene with no specific function readily available from my training data.', 'Celf5': 'CUGBP, Elav-like family member 5, is involved in RNA binding and plays a role in the regulation of splicing and stability of target RNAs. It may influence neural development and function.', 'Stab1': 'Stabilin-1 is involved in the clearance of hyaluronan and can act as a scavenger receptor in the liver and lymphatic system, affecting immune response and lipid metabolism.', 'Ccdc136': 'Coiled-coil domain containing 136. This gene is likely involved in structural organization or complex formation within cells, but specific functions in mice might not be well-characterized.', 'Dppa2': 'Developmental pluripotency associated 2 is involved in the maintenance of pluripotency in embryonic stem cells. It plays a role in early embryonic development and cellular reprogramming.', 'Mid1': 'Midline 1 is implicated in the development and maintenance of the midline structures in embryonic development. Mutations in this gene are associated with Opitz G/BBB syndrome in humans, suggesting a role in developmental patterning.', 'Sp6': 'A transcription factor that plays a role in tooth and limb development.', 'Vax2': 'Involved in eye development and dorsoventral specification in the brain.', 'Hoxc13': 'A homeobox gene important for hair, nail, and skin development.', 'Rims3': 'Regulates synaptic vesicle exocytosis, important for neuronal function.', 'Fgf15': '(in humans FGF19): Involved in bile acid synthesis, development, and metabolic regulation.', 'Slc9a3r2': 'Solute carrier family 9, subfamily A (NHE3, cation proton antiporter 3), regulator 2, involved in ion transport and pH regulation.', 'Nxph4': 'Neurexophilin 4, likely involved in neuronal function and signaling.', 'Slc30a3': 'Zinc transporter, involved in the transport of zinc into vesicles for regulation of synaptic function and neuronal development.', 'Lhx6': 'LIM homeobox 6, important for neuronal differentiation and development.', 'Espn': 'Essential for the proper development of auditory and vestibular systems.', 'Tpm2': 'Tropomyosin 2, involved in cytoskeletal structure.', 'Npr2': 'Natriuretic peptide receptor, involved in cell signaling and vasodilation.', 'Ppp1r1b': 'Protein phosphatase inhibitor, involved in dopamine signaling and synaptic transmission.', 'Slc17a7': 'Vesicular glutamate transporter, involved in neurotransmitter release.', 'Ciart': 'Circadian associated repressor of transcription, involved in circadian rhythm regulation.', 'Krt19': 'Keratin 19, involved in structural integrity of epithelial cells.', 'Amhr2': 'Anti-Müllerian hormone receptor, involved in reproductive system development.', 'Cryaa': 'Crystallin alpha A, a structural protein in the lens of the eye.', 'Tbx15': 'T-box transcription factor, involved in developmental processes.', 'Zfp57': 'Zinc finger protein involved in epigenetic regulation and development.', 'Hoxc5': 'A homeobox gene that plays a critical role in the development and differentiation of tissues and organs, including roles in axial skeleton development and regulation of limb morphogenesis.', 'Dpysl5': 'Dihydropyrimidinase-like 5, involved in neuronal development and axon guidance.', 'Tekt2': 'Tektin 2, involved in ciliary and flagellar movement.', 'Gm43305': 'Predicted gene with unknown function.', 'Igsf11': 'Immunoglobulin superfamily member, involved in cellular adhesion and possibly in synaptic function.', '2610203C22Rik': 'A gene with unknown specific function, likely a non-coding RNA or a gene with regulatory functions.', 'Sim2': 'Single-minded homolog 2, involved in neurodevelopment.', 'Gm30246': 'Predicted gene with unknown function.', 'Gm13583': 'Predicted gene with unknown function.', '4931428F04Rik': 'This gene is likely a novel or less-characterized gene.', 'Gvin2': 'Presumably a less-characterized gene, possibly related to GVIN (GTPase, very large interferon inducible) family.', 'Avil': '(Advillin):Involved in actin filament organization and possibly in the regulation of cell motility and morphology.', 'Ostn': '(Osteocrin):A muscle and bone-related protein that may be involved in bone growth and muscle function.', 'Erv3': '(Endogenous retrovirus group 3 member 1):Part of endogenous retroviral elements that can influence gene expression.', 'Aig1': '(Androgen-induced 1):Involved in androgen response. (hormone signaling)', 'Radil': '(Ras association and dilute domain-containing protein):Involved in cell adhesion and migration. It could potentially influence cancer cell behavior.', 'Spryd7': '(SPRY domain-containing 7):Part of the SPRY domain-containing proteins that can be involved in signaling pathways.', 'Rtn4rl1': '(Reticulon 4 receptor-like 1):Involved in neuronal growth and repair.', 'Rnf17': '(Ring finger protein 17):A protein involved in spermatogenesis.', 'Lct': '(Lactase):Enzyme that breaks down lactose into glucose and galactose.', 'Cilp2': '(Cartilage intermediate layer protein 2):Involved in cartilage structure and function..', 'Panx3': '(Pannexin 3):Plays a role in cell communication and possibly in bone formation.', 'Megf6': '(Multiple EGF-like-domains 6):Part of the EGF (epidermal growth factor) family, which could be involved in cell growth and proliferation. EGF signaling can influence cancer cell survival and drug resistance.', 'Lurap1l': 'Leucine-rich adaptor protein 1-like; involved in signal transduction and cell communication.', 'Scube3': 'Signal peptide, CUB domain, EGF-like 3; involved in cell signaling and possibly in the regulation of developmental processes.', 'Podnl1': 'Podocan-like 1; may play a role in cell adhesion and extracellular matrix organization.', 'Cracd': 'CRAC channel regulator; involved in calcium ion regulation in cells. Variations in calcium signaling could influence cell survival mechanisms, potentially affecting statin sensitivity indirectly.', 'Frmd4b': 'FERM domain containing 4B; involved in cell signaling and cytoskeletal organization.', '2610528A11Rik': 'A gene with currently unclear function, possibly involved in regulatory processes or encoding a novel protein.', 'Gng2': 'Guanine nucleotide-binding protein G(I)/G(S)/G(O) subunit gamma 2; involved in signal transduction.', 'Sohlh2': 'Spermatogenesis and oogenesis specific basic helix-loop-helix 2; involved in the regulation of gametogenesis.', 'Fmod': 'Fibromodulin; involved in collagen fibril organization in the extracellular matrix.', 'Tuba3a': 'Tubulin alpha 3a; a component of microtubules, crucial for cell structure and division.', 'Bcam': 'Basal cell adhesion molecule (Lutheran blood group); involved in cell adhesion and possibly in signal transduction..', 'Tex101': 'Testis expressed 101; involved in spermatogenesis. No direct impact on statin sensitivity noted.', 'Btbd11': 'BTB domain containing 11; its precise role is not well understood, but BTB domain proteins are involved in various cellular processes including regulation of transcription.', 'Tcf24': 'Transcription factor 24; involved in the regulation of gene expression.', 'Ndufa4l2': 'NADH dehydrogenase (ubiquinone) 1 alpha subcomplex, 4-like 2; involved in mitochondrial function and energy metabolism. Could impact cellular metabolism and potentially influence statin sensitivity indirectly through metabolic pathways.', 'Il17rd': 'Interleukin 17 receptor D; involved in the IL-17 signaling pathway, affecting inflammatory responses.', 'Kcnh3': 'Potassium voltage-gated channel subfamily H member 3; involved in regulating potassium ion flow across membranes.', 'Slc29a4': 'Solute carrier family 29 (nucleoside transporters), member 4; involved in the transport of nucleosides across cell membranes.', 'Cacng7': 'Calcium channel, voltage-dependent, gamma subunit 7; involved in calcium signaling pathways. Variations in calcium signaling could influence cell survival mechanisms, potentially affecting statin sensitivity indirectly.', 'Npnt': 'Nephronectin; involved in cell-matrix interactions and important for kidney development.', 'Zfp365': 'Zinc finger protein 365; involved in DNA binding and the regulation of transcription.', 'Rab11fip4': 'Rab11 family interacting protein 4; involved in endocytic recycling and trafficking.', 'Igsf3': 'Immunoglobulin superfamily member 3; involved in cell adhesion and possibly signal transduction.', 'Gm4779': 'A predicted gene with unclear function.', 'Pard6g': 'Partitioning defective 6 homolog gamma; involved in cell polarity and signal transduction pathways.', '8030474K03Rik': 'A gene with currently unclear function, possibly involved in regulatory processes or encoding a novel protein.', 'Dock11': 'Dedicator of cytokinesis 11; involved in guanine nucleotide exchange factor (GEF) activity, affecting cytoskeletal organization.', 'Tuba3b': 'Tubulin alpha 3b; a component of microtubules, crucial for cell structure, division, and intracellular trafficking.', 'Clmn': 'Calmin; involved in cell adhesion and possibly in cytoskeletal organization.', 'Prr5': 'Proline-rich 5; involved in mTOR signaling pathways that regulate cell growth and metabolism, potentially affecting cell proliferation and survival.', 'Arhgap8': 'Rho GTPase activating protein 8; involved in the regulation of the actin cytoskeleton and cell morphology.', 'Txndc16': 'Thioredoxin domain containing 16; involved in oxidative stress response. May influence statin sensitivity indirectly through effects on cellular redox states and apoptosis pathways.', 'Ankrd35': 'Ankyrin repeat domain 35; its function is not well characterized, but ankyrin repeat domains are involved in protein-protein interactions.', 'Epha4': 'Eph receptor A4; involved in axon guidance, synaptic plasticity, and possibly in cancer through effects on cell migration and invasion.', 'Ggh': 'Gamma-glutamyl hydrolase; involved in folate metabolism. Variations in folate metabolism could potentially affect DNA synthesis and repair mechanisms.', 'Tacstd2': 'Tumor-associated calcium signal transducer 2; involved in cell signaling and may play a role in cancer progression.', 'Dstn': 'Destrin; involved in actin filament depolymerization, affecting cell shape and motility.', 'Hnrnpm': 'Heterogeneous nuclear ribonucleoprotein M; involved in mRNA processing.', 'Poldip3': 'Polymerase (DNA-directed) delta interacting protein 3; involved in DNA replication and repair. Could influence statin sensitivity indirectly through effects on cell cycle progression and DNA damage responses.', 'Hnrnpl': 'Heterogeneous nuclear ribonucleoprotein L; involved in mRNA processing. alterations in mRNA processing can affect the expression of proteins involved in drug metabolism and resistance.', 'Sf3b2': 'Splicing factor 3b subunit 2; a component of the spliceosome, involved in pre-mRNA splicing. By affecting splicing, it could influence the expression of proteins related to statin metabolism or cellular uptake mechanisms.', 'Anp32a': 'Acidic nuclear phosphoprotein 32 family member A; involved in histone chaperoning and apoptosis.', 'Dbn1': 'Drebrin 1; involved in actin cytoskeleton organization. While primarily affecting cell shape and motility, alterations in cytoskeletal organization might indirectly impact cellular uptake mechanisms, including endocytosis.', 'Prdx2': 'Peroxiredoxin 2; involved in the detoxification of peroxides. It plays a role in the cellular antioxidant defense mechanism, which can influence statin-induced oxidative stress and cellular responses to statins.', 'Asah1': 'N-acylsphingosine amidohydrolase (acid ceramidase) 1; involved in sphingolipid metabolism. Alterations in lipid metabolism could influence cell membrane composition and function, potentially affecting drug uptake and distribution within the cell.', 'Myo6': 'Myosin VI; involved in endocytosis and intracellular trafficking. Myo6 directly impacts the cellular uptake mechanisms by mediating endocytic processes and could influence how effectively cells internalize and respond to statins.', 'Ranbp2': \"RAN binding protein 2; involved in nucleocytoplasmic transport. While its primary role is in transport across the nuclear envelope, it's also implicated in sumoylation processes.\", 'Sord': 'Sorbitol dehydrogenase; involved in the polyol pathway of glucose metabolism.'}\n"
     ]
    }
   ],
   "source": [
    "# Function to read a .docx file and return a dictionary with gene names as keys and descriptions as values\n",
    "def docx_to_dict(docx_path):\n",
    "    doc = Document(docx_path)\n",
    "    gene_dict = {}\n",
    "\n",
    "    for para in doc.paragraphs:\n",
    "        text = para.text\n",
    "        # Find the positions of ':' and '('\n",
    "        colon_pos = text.find(':')\n",
    "        paren_pos = text.find('(')\n",
    "\n",
    "        # Determine the position to split based on which character comes first (ignoring cases where either is not found)\n",
    "        split_pos = None\n",
    "        if colon_pos != -1 and paren_pos != -1:\n",
    "            split_pos = min(colon_pos, paren_pos)\n",
    "        elif colon_pos != -1:\n",
    "            split_pos = colon_pos\n",
    "        elif paren_pos != -1:\n",
    "            split_pos = paren_pos\n",
    "\n",
    "        # If a valid split position was found, split the text and populate the dictionary\n",
    "        if split_pos is not None:\n",
    "            key = text[:split_pos].strip()\n",
    "            value = text[split_pos:].strip().lstrip(':').strip()\n",
    "            gene_dict[key] = value\n",
    "\n",
    "    return gene_dict\n",
    "\n",
    "# Path to .docx document\n",
    "docx_path = '/Users/elizabeth 1/Library/CloudStorage/Box-Box/Wu Lab/Project - 2024/Functional screening/Elizabeth/All Descriptions.docx'\n",
    "\n",
    "# Convert the .docx content to a dictionary\n",
    "gene_description_dict = docx_to_dict(docx_path)\n",
    "\n",
    "# Example usage\n",
    "print(gene_description_dict)\n"
   ],
   "metadata": {
    "collapsed": false,
    "ExecuteTime": {
     "end_time": "2024-03-01T02:19:01.093742Z",
     "start_time": "2024-03-01T02:19:00.981897Z"
    }
   },
   "id": "b0f70aa65b9c7c8c",
   "execution_count": 17
  },
  {
   "cell_type": "code",
   "outputs": [
    {
     "name": "stdout",
     "output_type": "stream",
     "text": [
      "1 ---\n",
      "2 ---\n"
     ]
    }
   ],
   "source": [
    "i=1\n",
    "for gene in functional_screening['gene_name']:\n",
    "    if gene not in gene_description_dict:\n",
    "        print(i, gene)\n",
    "        i = i+1"
   ],
   "metadata": {
    "collapsed": false,
    "ExecuteTime": {
     "end_time": "2024-03-01T02:15:53.798521Z",
     "start_time": "2024-03-01T02:15:53.784093Z"
    }
   },
   "id": "3f91c829f6e3969c",
   "execution_count": 16
  },
  {
   "cell_type": "code",
   "outputs": [],
   "source": [
    "functional_screening['description'] = None\n",
    "functional_screening.set_index('gene_name', inplace=True)"
   ],
   "metadata": {
    "collapsed": false
   },
   "id": "cfec278d119aec93",
   "execution_count": null
  },
  {
   "cell_type": "code",
   "outputs": [
    {
     "name": "stdout",
     "output_type": "stream",
     "text": [
      "--- missing from dict\n",
      "--- missing from dict\n"
     ]
    }
   ],
   "source": [
    "# add the descriptions into the dataframe\n",
    "for index, row in functional_screening.iterrows():\n",
    "    # Check if 'gene_regulation' is None\n",
    "    if index in gene_description_dict:\n",
    "        functional_screening.at[index, 'description'] = gene_description_dict[index]\n",
    "    else:\n",
    "        print(index, 'missing from dict')\n"
   ],
   "metadata": {
    "collapsed": false,
    "ExecuteTime": {
     "end_time": "2024-03-01T02:29:41.316882Z",
     "start_time": "2024-03-01T02:29:41.023747Z"
    }
   },
   "id": "333328c9ca4eb7c8",
   "execution_count": 20
  },
  {
   "cell_type": "code",
   "outputs": [
    {
     "name": "stdout",
     "output_type": "stream",
     "text": [
      "--- missing from dict\n",
      "--- missing from dict\n"
     ]
    }
   ],
   "source": [
    "# Path to your .docx document\n",
    "docx_path = '/Users/elizabeth 1/Library/CloudStorage/Box-Box/Wu Lab/Project - 2024/Functional screening/Elizabeth/Gene Categorization.docx'\n",
    "\n",
    "# Convert the .docx content to a dictionary\n",
    "gene_categorization_dict = docx_to_dict(docx_path)\n",
    "\n",
    "# for index, row in functional_screening.iterrows():\n",
    "#     if index not in gene_categorization_dict:\n",
    "#         print(index, row['description'])\n",
    "\n",
    "functional_screening['category'] = None\n",
    "# add the descriptions into the dataframe\n",
    "for index, row in functional_screening.iterrows():\n",
    "    # Check if 'gene_regulation' is None\n",
    "    if index in gene_description_dict:\n",
    "        functional_screening.at[index, 'category'] = gene_categorization_dict[index]\n",
    "    else:\n",
    "        print(index, 'missing from dict')"
   ],
   "metadata": {
    "collapsed": false,
    "ExecuteTime": {
     "end_time": "2024-03-01T04:11:34.212627Z",
     "start_time": "2024-03-01T04:11:34.024078Z"
    }
   },
   "id": "e51f4c191cfe664a",
   "execution_count": 33
  },
  {
   "cell_type": "code",
   "outputs": [],
   "source": [
    "\n",
    "# Assuming df is your DataFrame\n",
    "columns = functional_screening.columns.tolist()  # Get the list of all column names\n",
    "# Swap the last two column names\n",
    "columns[-2], columns[-1] = columns[-1], columns[-2]\n",
    "# Reorder the DataFrame according to the new list of column names\n",
    "functional_screening = functional_screening[columns]\n"
   ],
   "metadata": {
    "collapsed": false,
    "ExecuteTime": {
     "end_time": "2024-03-01T04:13:00.618086Z",
     "start_time": "2024-03-01T04:13:00.522488Z"
    }
   },
   "id": "d4c77e0d2e6d0621",
   "execution_count": 35
  },
  {
   "cell_type": "code",
   "outputs": [],
   "source": [
    "# save functional_screening df\n",
    "os.chdir('/Users/elizabeth 1/Library/CloudStorage/Box-Box/Wu Lab/Project - 2024/Functional screening/Elizabeth')\n",
    "functional_screening.to_excel('EB_functional_screening.xlsx')"
   ],
   "metadata": {
    "collapsed": false,
    "ExecuteTime": {
     "end_time": "2024-03-01T04:13:46.756670Z",
     "start_time": "2024-03-01T04:13:45.786193Z"
    }
   },
   "id": "ed5146889b6d0607",
   "execution_count": 36
  },
  {
   "cell_type": "code",
   "outputs": [],
   "source": [
    "df = pd.read_excel('EB_functional_screening.xlsx')\n",
    "df.to_html('EB_functional_screening.html', index=False)"
   ],
   "metadata": {
    "collapsed": false,
    "ExecuteTime": {
     "end_time": "2024-03-04T07:59:28.709643Z",
     "start_time": "2024-03-04T07:59:27.423460Z"
    }
   },
   "id": "55eed508efd50cf0",
   "execution_count": 45
  },
  {
   "cell_type": "code",
   "outputs": [],
   "source": [
    "# bolding a cell\n",
    "\n",
    "# Create a sample DataFrame\n",
    "df = pd.DataFrame({\n",
    "    'Name': ['Alice', 'Bob', 'Charlie'],\n",
    "    'Age': [25, 30, 35],\n",
    "    'City': ['New York', 'Paris', 'London']\n",
    "})\n",
    "\n",
    "# Path to save the Excel file\n",
    "file_path = 'sample.xlsx'\n",
    "\n",
    "# Save the DataFrame to an Excel file\n",
    "df.to_excel(file_path, index=False, engine='openpyxl')\n",
    "\n",
    "# Load the workbook and select the active sheet\n",
    "wb = load_workbook(file_path)\n",
    "sheet = wb.active\n",
    "\n",
    "# Make the first row (header) bold\n",
    "for cell in sheet[\"1:1\"]:\n",
    "    cell.font = Font(bold=True)\n",
    "\n",
    "# Make the cell for Alice bold as an example\n",
    "sheet[\"A2\"].font = Font(bold=True)\n",
    "\n",
    "# Save the workbook with the changes\n",
    "wb.save(file_path)\n"
   ],
   "metadata": {
    "collapsed": false
   },
   "id": "2cd5a36068ce298e"
  }
 ],
 "metadata": {
  "kernelspec": {
   "display_name": "Python 3",
   "language": "python",
   "name": "python3"
  },
  "language_info": {
   "codemirror_mode": {
    "name": "ipython",
    "version": 2
   },
   "file_extension": ".py",
   "mimetype": "text/x-python",
   "name": "python",
   "nbconvert_exporter": "python",
   "pygments_lexer": "ipython2",
   "version": "2.7.6"
  }
 },
 "nbformat": 4,
 "nbformat_minor": 5
}
