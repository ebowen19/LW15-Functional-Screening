{
 "cells": [
  {
   "cell_type": "code",
   "execution_count": 2,
   "metadata": {},
   "outputs": [
    {
     "data": {
      "text/plain": [
       "'/workspaces/LW15-Functional-Screening'"
      ]
     },
     "execution_count": 2,
     "metadata": {},
     "output_type": "execute_result"
    }
   ],
   "source": [
    "import os\n",
    "from bs4 import BeautifulSoup, NavigableString\n",
    "import pandas as pd\n",
    "\n",
    "os.chdir('..')\n",
    "os.getcwd()"
   ]
  },
  {
   "cell_type": "code",
   "execution_count": 10,
   "metadata": {},
   "outputs": [
    {
     "data": {
      "text/html": [
       "<div>\n",
       "<style scoped>\n",
       "    .dataframe tbody tr th:only-of-type {\n",
       "        vertical-align: middle;\n",
       "    }\n",
       "\n",
       "    .dataframe tbody tr th {\n",
       "        vertical-align: top;\n",
       "    }\n",
       "\n",
       "    .dataframe thead th {\n",
       "        text-align: right;\n",
       "    }\n",
       "</style>\n",
       "<table border=\"1\" class=\"dataframe\">\n",
       "  <thead>\n",
       "    <tr style=\"text-align: right;\">\n",
       "      <th></th>\n",
       "      <th>gene_name</th>\n",
       "      <th>higher_survival_group</th>\n",
       "    </tr>\n",
       "  </thead>\n",
       "  <tbody>\n",
       "    <tr>\n",
       "      <th>1</th>\n",
       "      <td>SCARF2</td>\n",
       "      <td>Low</td>\n",
       "    </tr>\n",
       "    <tr>\n",
       "      <th>2</th>\n",
       "      <td>REEP6</td>\n",
       "      <td>Low</td>\n",
       "    </tr>\n",
       "    <tr>\n",
       "      <th>3</th>\n",
       "      <td>GFER</td>\n",
       "      <td>Low</td>\n",
       "    </tr>\n",
       "    <tr>\n",
       "      <th>4</th>\n",
       "      <td>B4GALT3</td>\n",
       "      <td>Low</td>\n",
       "    </tr>\n",
       "    <tr>\n",
       "      <th>5</th>\n",
       "      <td>SH3BP1</td>\n",
       "      <td>Low</td>\n",
       "    </tr>\n",
       "    <tr>\n",
       "      <th>...</th>\n",
       "      <td>...</td>\n",
       "      <td>...</td>\n",
       "    </tr>\n",
       "    <tr>\n",
       "      <th>144</th>\n",
       "      <td>PRDX2</td>\n",
       "      <td>High</td>\n",
       "    </tr>\n",
       "    <tr>\n",
       "      <th>145</th>\n",
       "      <td>ASAH1</td>\n",
       "      <td>High</td>\n",
       "    </tr>\n",
       "    <tr>\n",
       "      <th>146</th>\n",
       "      <td>MYO6</td>\n",
       "      <td>High</td>\n",
       "    </tr>\n",
       "    <tr>\n",
       "      <th>147</th>\n",
       "      <td>RANBP2</td>\n",
       "      <td>High</td>\n",
       "    </tr>\n",
       "    <tr>\n",
       "      <th>148</th>\n",
       "      <td>SORD</td>\n",
       "      <td>High</td>\n",
       "    </tr>\n",
       "  </tbody>\n",
       "</table>\n",
       "<p>148 rows × 2 columns</p>\n",
       "</div>"
      ],
      "text/plain": [
       "    gene_name higher_survival_group\n",
       "1      SCARF2                   Low\n",
       "2       REEP6                   Low\n",
       "3        GFER                   Low\n",
       "4     B4GALT3                   Low\n",
       "5      SH3BP1                   Low\n",
       "..        ...                   ...\n",
       "144     PRDX2                  High\n",
       "145     ASAH1                  High\n",
       "146      MYO6                  High\n",
       "147    RANBP2                  High\n",
       "148      SORD                  High\n",
       "\n",
       "[148 rows x 2 columns]"
      ]
     },
     "execution_count": 10,
     "metadata": {},
     "output_type": "execute_result"
    }
   ],
   "source": [
    "# Load the CSV file\n",
    "data = pd.read_csv('TCGA/survival_summary.csv', index_col=0)\n",
    "data\n"
   ]
  },
  {
   "cell_type": "code",
   "execution_count": 11,
   "metadata": {},
   "outputs": [
    {
     "name": "stdout",
     "output_type": "stream",
     "text": [
      "{'SCARF2': 'Low', 'REEP6': 'Low', 'GFER': 'Low', 'B4GALT3': 'Low', 'SH3BP1': 'Low', 'ARID3C': 'Low', 'RFNG': 'Low', 'NLGN2': 'Low', 'SYCE2': 'Low', 'ZCWPW1': 'Low', 'PRRX2': 'Low', 'LDHD': 'High', 'ARSI': 'Low', 'PLVAP': 'High', 'TRIM62': 'High', 'PTPN6': 'Low', 'PGF': 'Low', 'MYPOP': 'Low', 'HOXC11': 'Low', 'GRIK5': 'Low', 'BRSK1': 'Low', 'CRNDE': 'Low', 'DPF1': 'Low', 'ADAM11': 'Low', 'HOXC5': 'Low', 'BATF3': 'Low', 'CBARP': 'Low', 'MPZL1': 'Low', 'DLGAP3': 'Low', 'MAP4K1': 'Low', 'FNDC4': 'Low', 'PCSK4': 'Low', 'FBXL14': 'High', 'RCOR2': 'Low', 'NCKIPSD': 'High', 'CADM4': 'Low', 'ECD': 'High', 'IRF6': 'High', 'MDFI': 'Low', 'MAFA': 'High', 'WNT5B': 'Low', 'UCK2': 'Low', 'SYNGAP1': 'Low', 'TRNP1': 'Low', 'MLKL': 'Low', 'WNT1': 'Low', 'TUBG2': 'Low', 'DDN': 'Low', 'NTN3': 'Low', 'IRF5': 'Low', 'LTK': 'Low', 'SMARCD1': 'Low', 'GPC2': 'Low', 'FBXL19': 'Low', 'NPR3': 'High', 'ZFTA': 'High', 'CELF5': 'Low', 'PIM2': 'Low', 'CCDC136': 'Low', 'CALCOCO2': 'High', 'AGAP2': 'Low', 'LARGE2': 'Low', 'PGK1': 'High', 'HOXC13': 'Low', 'NDRG2': 'High', 'SLC9A3R2': 'High', 'SLC30A3': 'Low', 'GLIPR2': 'Low', 'SEPTIN5': 'Low', 'ESPN': 'High', 'TCEA3': 'High', 'TPM2': 'Low', 'NPR2': 'Low', 'PPP1R1B': 'Low', 'ADGRG3': 'Low', 'SLC17A7': 'Low', 'CIART': 'High', 'TBX15': 'Low', 'DPYSL5': 'Low', 'DIRAS2': 'High', 'TEKT2': 'High', 'CYP2S1': 'Low', 'EFNA3': 'Low', 'HSD17B1': 'Low', 'CCDC85C': 'High', 'VPS26A': 'High', 'IGSF11': 'Low', 'ENPEP': 'High', 'PPARGC1A': 'High', 'LCN2': 'Low', 'SIM2': 'Low', 'CD68': 'Low', 'SIRPA': 'Low', 'TFEC': 'High', 'ACSS3': 'High', 'AVIL': 'Low', 'SLC16A12': 'High', 'AIG1': 'High', 'STRA6': 'Low', 'SPRYD7': 'High', 'KALRN': 'High', 'RET': 'Low', 'RTN4RL1': 'Low', 'RNF17': 'Low', 'FLNC': 'High', 'CILP2': 'Low', 'LURAP1L': 'High', 'PODNL1': 'Low', 'FRMD4B': 'High', 'BMP7': 'High', 'SLC16A14': 'High', 'SLC2A3': 'Low', 'SOHLH2': 'Low', 'IGF2': 'High', 'SLC25A23': 'High', 'FMOD': 'Low', 'TEX101': 'Low', 'MMP17': 'Low', 'TCF24': 'Low', 'IL17RD': 'High', 'KCNH3': 'Low', 'CACNG7': 'Low', 'NPNT': 'High', 'PARD6G': 'High', 'ALCAM': 'High', 'AGMO': 'High', 'CLMN': 'High', 'PRR5': 'Low', 'TXNDC16': 'High', 'MYH10': 'High', 'WNT4': 'Low', 'ANKRD35': 'Low', 'NT5E': 'High', 'EPHA4': 'High', 'GGH': 'High', 'IGF2BP1': 'Low', 'VIM': 'Low', 'DSTN': 'High', 'HNRNPM': 'High', 'COL1A1': 'Low', 'POLDIP3': 'High', 'HNRNPL': 'Low', 'DBN1': 'Low', 'PRDX2': 'High', 'ASAH1': 'High', 'MYO6': 'High', 'RANBP2': 'High', 'SORD': 'High'}\n"
     ]
    }
   ],
   "source": [
    "# create survival dict\n",
    "survival_dict = {}\n",
    "for index, row in data.iterrows():\n",
    "    gene_name = row['gene_name']\n",
    "    survival_dict[gene_name] = row['higher_survival_group']\n",
    "print(survival_dict)"
   ]
  },
  {
   "cell_type": "code",
   "execution_count": 13,
   "metadata": {},
   "outputs": [],
   "source": [
    "\n",
    "# Load the HTML content\n",
    "with open('index.html', 'r') as file:\n",
    "    html_content = file.read()\n",
    "    \n",
    "soup = BeautifulSoup(html_content, 'html.parser')\n",
    "\n",
    "table = soup.find('table', {'id': 'functionalScreening'})\n",
    "\n",
    "# Add a header cell for the new column if necessary\n",
    "header_row = table.find('tr')\n",
    "new_header_cell = soup.new_tag('th')\n",
    "new_header_cell.string = \"P-Value\"\n",
    "header_row.append(new_header_cell)\n",
    "\n",
    "# Iterate over each row in the table to add a new cell with the p_value\n",
    "for row in table.find_all('tr')[1:]:  # Skip the header row\n",
    "    cells = row.find_all('td')\n",
    "    if not cells:\n",
    "        continue  # Skip if no cells found\n",
    "    gene_name = cells[0].text.strip().upper()  # Assuming gene name is in the first cell\n",
    "    survival = survival_dict.get(gene_name, \"\")  # Use \"\" as default if p_value not found\n",
    "    \n",
    "    # Create a new cell and append it to the current row\n",
    "    new_cell = soup.new_tag('td')\n",
    "    new_cell.string = survival  # Convert p_value to string\n",
    "    row.append(new_cell)\n",
    "\n",
    "# Save the modified HTML\n",
    "with open('updated_index.html', 'w') as file:\n",
    "    file.write(str(soup))\n"
   ]
  },
  {
   "cell_type": "markdown",
   "metadata": {},
   "source": [
    "# TCGA vs LW15 Comparison\n",
    "\n",
    "For each gene with a non-empty “Expression of Higher Survival group” (13th) column, look in the Regulation in Sensitive (12th) column\n",
    "\n",
    "if it’s Upregulated & the expression low, it’s same trend, else if upregulated & high it’s dif else if downregulated & low dif, else if downregulated & high same\n",
    "\n",
    "put this into a new column called TCGA vs LW15 comparison"
   ]
  },
  {
   "cell_type": "code",
   "execution_count": null,
   "metadata": {},
   "outputs": [],
   "source": [
    "# Load the HTML content\n",
    "with open('index.html', 'r') as file:\n",
    "    html_content = file.read()\n",
    "    \n",
    "soup = BeautifulSoup(html_content, 'html.parser')\n",
    "\n",
    "table = soup.find('table', {'id': 'functionalScreening'})\n",
    "\n",
    "# Add a header cell for the new column if necessary\n",
    "header_row = table.find('tr')\n",
    "new_header_cell = soup.new_tag('th')\n",
    "new_header_cell.string = \"LW15 vs TCGA\"\n",
    "header_row.append(new_header_cell)\n",
    "\n",
    "# Iterate over each row in the table to add a new cell with the p_value\n",
    "for row in table.find_all('tr')[1:]:  # Skip the header row\n",
    "    cells = row.find_all('td')\n",
    "    if not cells:\n",
    "        continue  # Skip if no cells found\n",
    "    expression = cells[12].text.strip()\n",
    "    regulation = cells[1].text.strip()\n",
    "\n",
    "    if expression != \"\": # check that expression cell isn't empty\n",
    "\n",
    "        # Low expression cases:\n",
    "        if regulation == \"Upregulated\" and expression == \"Low\":\n",
    "            trend = \"same\"\n",
    "        elif regulation == \"Downregulated\" and expression == \"Low\": \n",
    "            trend = \"dif\"\n",
    "\n",
    "        # High expression cases:\n",
    "        elif regulation == \"Upregulated\" and expression == \"High\": \n",
    "            trend = \"dif\"\n",
    "        elif regulation == \"Downregulated\" and expression == \"High\": \n",
    "            trend = \"same\"\n",
    "    else: # if the expression cell is empty\n",
    "        trend = \"\" \n",
    "\n",
    "    # Create a new cell and append it to the current row\n",
    "    new_cell = soup.new_tag('td')\n",
    "    new_cell.string = trend  # Convert p_value to string\n",
    "    row.append(new_cell)\n",
    "\n",
    "# Save the modified HTML\n",
    "with open('updated_index.html', 'w') as file:\n",
    "    file.write(str(soup))\n"
   ]
  }
 ],
 "metadata": {
  "kernelspec": {
   "display_name": "Python 3",
   "language": "python",
   "name": "python3"
  },
  "language_info": {
   "codemirror_mode": {
    "name": "ipython",
    "version": 3
   },
   "file_extension": ".py",
   "mimetype": "text/x-python",
   "name": "python",
   "nbconvert_exporter": "python",
   "pygments_lexer": "ipython3",
   "version": "3.10.13"
  }
 },
 "nbformat": 4,
 "nbformat_minor": 2
}
