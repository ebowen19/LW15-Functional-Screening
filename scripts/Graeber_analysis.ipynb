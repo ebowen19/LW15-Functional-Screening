{
 "cells": [
  {
   "cell_type": "markdown",
   "source": [
    "# Initial Analysis"
   ],
   "metadata": {
    "collapsed": false
   },
   "id": "103a74f8364e966"
  },
  {
   "cell_type": "code",
   "outputs": [],
   "source": [
    "import pandas as pd\n",
    "import os"
   ],
   "metadata": {
    "collapsed": true,
    "ExecuteTime": {
     "end_time": "2024-04-09T02:33:22.601246Z",
     "start_time": "2024-04-09T02:33:15.522093Z"
    }
   },
   "id": "initial_id",
   "execution_count": 1
  },
  {
   "cell_type": "code",
   "outputs": [],
   "source": [
    "os.chdir('LW15-Functional-Screening')"
   ],
   "metadata": {
    "collapsed": false,
    "ExecuteTime": {
     "end_time": "2024-04-09T02:37:00.891066Z",
     "start_time": "2024-04-09T02:37:00.865270Z"
    }
   },
   "id": "8f08d311060f3c36",
   "execution_count": 5
  },
  {
   "cell_type": "code",
   "outputs": [
    {
     "data": {
      "text/plain": "              gene     P1-TP1     P1-TP2     P1-TP3     P1-TP4     P1-TP5  \\\n0        5_8S_rRNA   0.000000   0.000000   0.000000   0.000000   0.000000   \n1      5_8S_rRNA.2   0.000000   0.000000   0.000000   0.000000   0.000000   \n2          5S_rRNA   0.000000   0.000000   0.000000   0.000000   0.000000   \n3       5S_rRNA.10   0.000000   0.000000   0.000000   0.000000   0.000000   \n4       5S_rRNA.11   0.000000   0.000000   0.000000   0.000000   0.000000   \n...            ...        ...        ...        ...        ...        ...   \n60443       ZYG11B   9.900484  10.405564   9.510299   9.516295   9.753907   \n60444          ZYX  13.221719  12.750075  12.710939  11.957797  11.895792   \n60445        ZYXP1   0.000000   0.000000   0.000000   0.000000   0.000000   \n60446        ZZEF1  11.666913  11.255013  11.773243  11.951420  11.873730   \n60447         ZZZ3  10.608908  10.635367  10.700500  11.209194  10.916778   \n\n          P2-TP1     P2-TP2     P2-TP3     P2-TP4  ...     P9-TP1     P9-TP2  \\\n0       0.000000   0.000000   0.000000   0.000000  ...   0.000000   0.000000   \n1       0.000000   0.000000   0.000000   0.000000  ...   0.000000   0.000000   \n2       0.000000   0.000000   0.000000   0.000000  ...   0.000000   0.000000   \n3       0.000000   0.000000   0.000000   0.000000  ...   0.000000   0.106214   \n4       0.000000   0.000000   0.000000   0.000000  ...   0.000000   0.106214   \n...          ...        ...        ...        ...  ...        ...        ...   \n60443   9.741255   9.944033   9.719683  10.201404  ...  11.059999  11.263870   \n60444  13.301668  12.904858  12.007877  11.454684  ...  13.223963  13.077306   \n60445   0.000000   0.000000   0.000000   0.000000  ...   0.000000   0.000000   \n60446  11.761521  11.167974  11.596049  11.397000  ...  12.441159  12.063330   \n60447  10.734618  10.488418  10.403582  10.984965  ...  11.631223  11.664249   \n\n          P9-TP3     P9-TP4     P9-TP5    P10-TP1    P10-TP2    P10-TP3  \\\n0       0.000000   0.000000   0.000000   0.000000   0.000000   0.000000   \n1       0.000000   0.000000   0.000000   0.000000   0.000000   0.000000   \n2       0.000000   0.000000   0.000000   0.000000   0.000000   0.000000   \n3       0.000000   0.000000   0.000000   0.000000   0.232906   0.000000   \n4       0.000000   0.000000   0.000000   0.000000   0.232906   0.000000   \n...          ...        ...        ...        ...        ...        ...   \n60443  10.993410  11.112287  11.161109  11.000757  11.829798  10.365257   \n60444  12.043960  11.863807  11.471668  13.329028  13.324183  13.391347   \n60445   0.000000   0.000000   0.000000   0.000000   0.000000   0.000000   \n60446  11.937488  11.961771  12.321317  12.395578  12.590291  11.940696   \n60447  11.505914  11.397266  11.590143  11.416604  11.600426  10.971756   \n\n         P10-TP4    P10-TP5  \n0       0.000000   0.000000  \n1       0.000000   0.000000  \n2       0.000000   0.000000  \n3       0.000000   0.000000  \n4       0.000000   0.000000  \n...          ...        ...  \n60443   9.128969  11.302044  \n60444  11.370569  11.851857  \n60445   0.000000   0.000000  \n60446  11.871098  11.392457  \n60447  11.264973  11.200624  \n\n[60448 rows x 56 columns]",
      "text/html": "<div>\n<style scoped>\n    .dataframe tbody tr th:only-of-type {\n        vertical-align: middle;\n    }\n\n    .dataframe tbody tr th {\n        vertical-align: top;\n    }\n\n    .dataframe thead th {\n        text-align: right;\n    }\n</style>\n<table border=\"1\" class=\"dataframe\">\n  <thead>\n    <tr style=\"text-align: right;\">\n      <th></th>\n      <th>gene</th>\n      <th>P1-TP1</th>\n      <th>P1-TP2</th>\n      <th>P1-TP3</th>\n      <th>P1-TP4</th>\n      <th>P1-TP5</th>\n      <th>P2-TP1</th>\n      <th>P2-TP2</th>\n      <th>P2-TP3</th>\n      <th>P2-TP4</th>\n      <th>...</th>\n      <th>P9-TP1</th>\n      <th>P9-TP2</th>\n      <th>P9-TP3</th>\n      <th>P9-TP4</th>\n      <th>P9-TP5</th>\n      <th>P10-TP1</th>\n      <th>P10-TP2</th>\n      <th>P10-TP3</th>\n      <th>P10-TP4</th>\n      <th>P10-TP5</th>\n    </tr>\n  </thead>\n  <tbody>\n    <tr>\n      <th>0</th>\n      <td>5_8S_rRNA</td>\n      <td>0.000000</td>\n      <td>0.000000</td>\n      <td>0.000000</td>\n      <td>0.000000</td>\n      <td>0.000000</td>\n      <td>0.000000</td>\n      <td>0.000000</td>\n      <td>0.000000</td>\n      <td>0.000000</td>\n      <td>...</td>\n      <td>0.000000</td>\n      <td>0.000000</td>\n      <td>0.000000</td>\n      <td>0.000000</td>\n      <td>0.000000</td>\n      <td>0.000000</td>\n      <td>0.000000</td>\n      <td>0.000000</td>\n      <td>0.000000</td>\n      <td>0.000000</td>\n    </tr>\n    <tr>\n      <th>1</th>\n      <td>5_8S_rRNA.2</td>\n      <td>0.000000</td>\n      <td>0.000000</td>\n      <td>0.000000</td>\n      <td>0.000000</td>\n      <td>0.000000</td>\n      <td>0.000000</td>\n      <td>0.000000</td>\n      <td>0.000000</td>\n      <td>0.000000</td>\n      <td>...</td>\n      <td>0.000000</td>\n      <td>0.000000</td>\n      <td>0.000000</td>\n      <td>0.000000</td>\n      <td>0.000000</td>\n      <td>0.000000</td>\n      <td>0.000000</td>\n      <td>0.000000</td>\n      <td>0.000000</td>\n      <td>0.000000</td>\n    </tr>\n    <tr>\n      <th>2</th>\n      <td>5S_rRNA</td>\n      <td>0.000000</td>\n      <td>0.000000</td>\n      <td>0.000000</td>\n      <td>0.000000</td>\n      <td>0.000000</td>\n      <td>0.000000</td>\n      <td>0.000000</td>\n      <td>0.000000</td>\n      <td>0.000000</td>\n      <td>...</td>\n      <td>0.000000</td>\n      <td>0.000000</td>\n      <td>0.000000</td>\n      <td>0.000000</td>\n      <td>0.000000</td>\n      <td>0.000000</td>\n      <td>0.000000</td>\n      <td>0.000000</td>\n      <td>0.000000</td>\n      <td>0.000000</td>\n    </tr>\n    <tr>\n      <th>3</th>\n      <td>5S_rRNA.10</td>\n      <td>0.000000</td>\n      <td>0.000000</td>\n      <td>0.000000</td>\n      <td>0.000000</td>\n      <td>0.000000</td>\n      <td>0.000000</td>\n      <td>0.000000</td>\n      <td>0.000000</td>\n      <td>0.000000</td>\n      <td>...</td>\n      <td>0.000000</td>\n      <td>0.106214</td>\n      <td>0.000000</td>\n      <td>0.000000</td>\n      <td>0.000000</td>\n      <td>0.000000</td>\n      <td>0.232906</td>\n      <td>0.000000</td>\n      <td>0.000000</td>\n      <td>0.000000</td>\n    </tr>\n    <tr>\n      <th>4</th>\n      <td>5S_rRNA.11</td>\n      <td>0.000000</td>\n      <td>0.000000</td>\n      <td>0.000000</td>\n      <td>0.000000</td>\n      <td>0.000000</td>\n      <td>0.000000</td>\n      <td>0.000000</td>\n      <td>0.000000</td>\n      <td>0.000000</td>\n      <td>...</td>\n      <td>0.000000</td>\n      <td>0.106214</td>\n      <td>0.000000</td>\n      <td>0.000000</td>\n      <td>0.000000</td>\n      <td>0.000000</td>\n      <td>0.232906</td>\n      <td>0.000000</td>\n      <td>0.000000</td>\n      <td>0.000000</td>\n    </tr>\n    <tr>\n      <th>...</th>\n      <td>...</td>\n      <td>...</td>\n      <td>...</td>\n      <td>...</td>\n      <td>...</td>\n      <td>...</td>\n      <td>...</td>\n      <td>...</td>\n      <td>...</td>\n      <td>...</td>\n      <td>...</td>\n      <td>...</td>\n      <td>...</td>\n      <td>...</td>\n      <td>...</td>\n      <td>...</td>\n      <td>...</td>\n      <td>...</td>\n      <td>...</td>\n      <td>...</td>\n      <td>...</td>\n    </tr>\n    <tr>\n      <th>60443</th>\n      <td>ZYG11B</td>\n      <td>9.900484</td>\n      <td>10.405564</td>\n      <td>9.510299</td>\n      <td>9.516295</td>\n      <td>9.753907</td>\n      <td>9.741255</td>\n      <td>9.944033</td>\n      <td>9.719683</td>\n      <td>10.201404</td>\n      <td>...</td>\n      <td>11.059999</td>\n      <td>11.263870</td>\n      <td>10.993410</td>\n      <td>11.112287</td>\n      <td>11.161109</td>\n      <td>11.000757</td>\n      <td>11.829798</td>\n      <td>10.365257</td>\n      <td>9.128969</td>\n      <td>11.302044</td>\n    </tr>\n    <tr>\n      <th>60444</th>\n      <td>ZYX</td>\n      <td>13.221719</td>\n      <td>12.750075</td>\n      <td>12.710939</td>\n      <td>11.957797</td>\n      <td>11.895792</td>\n      <td>13.301668</td>\n      <td>12.904858</td>\n      <td>12.007877</td>\n      <td>11.454684</td>\n      <td>...</td>\n      <td>13.223963</td>\n      <td>13.077306</td>\n      <td>12.043960</td>\n      <td>11.863807</td>\n      <td>11.471668</td>\n      <td>13.329028</td>\n      <td>13.324183</td>\n      <td>13.391347</td>\n      <td>11.370569</td>\n      <td>11.851857</td>\n    </tr>\n    <tr>\n      <th>60445</th>\n      <td>ZYXP1</td>\n      <td>0.000000</td>\n      <td>0.000000</td>\n      <td>0.000000</td>\n      <td>0.000000</td>\n      <td>0.000000</td>\n      <td>0.000000</td>\n      <td>0.000000</td>\n      <td>0.000000</td>\n      <td>0.000000</td>\n      <td>...</td>\n      <td>0.000000</td>\n      <td>0.000000</td>\n      <td>0.000000</td>\n      <td>0.000000</td>\n      <td>0.000000</td>\n      <td>0.000000</td>\n      <td>0.000000</td>\n      <td>0.000000</td>\n      <td>0.000000</td>\n      <td>0.000000</td>\n    </tr>\n    <tr>\n      <th>60446</th>\n      <td>ZZEF1</td>\n      <td>11.666913</td>\n      <td>11.255013</td>\n      <td>11.773243</td>\n      <td>11.951420</td>\n      <td>11.873730</td>\n      <td>11.761521</td>\n      <td>11.167974</td>\n      <td>11.596049</td>\n      <td>11.397000</td>\n      <td>...</td>\n      <td>12.441159</td>\n      <td>12.063330</td>\n      <td>11.937488</td>\n      <td>11.961771</td>\n      <td>12.321317</td>\n      <td>12.395578</td>\n      <td>12.590291</td>\n      <td>11.940696</td>\n      <td>11.871098</td>\n      <td>11.392457</td>\n    </tr>\n    <tr>\n      <th>60447</th>\n      <td>ZZZ3</td>\n      <td>10.608908</td>\n      <td>10.635367</td>\n      <td>10.700500</td>\n      <td>11.209194</td>\n      <td>10.916778</td>\n      <td>10.734618</td>\n      <td>10.488418</td>\n      <td>10.403582</td>\n      <td>10.984965</td>\n      <td>...</td>\n      <td>11.631223</td>\n      <td>11.664249</td>\n      <td>11.505914</td>\n      <td>11.397266</td>\n      <td>11.590143</td>\n      <td>11.416604</td>\n      <td>11.600426</td>\n      <td>10.971756</td>\n      <td>11.264973</td>\n      <td>11.200624</td>\n    </tr>\n  </tbody>\n</table>\n<p>60448 rows × 56 columns</p>\n</div>"
     },
     "execution_count": 10,
     "metadata": {},
     "output_type": "execute_result"
    }
   ],
   "source": [
    "expected_counts = pd.read_csv('Graeber/GSE240057_PARCB_timecourse_expected_counts_all_batches.txt', sep='\\t')\n",
    "norm_counts = pd.read_csv('Graeber/GSE240057_PARCB_timecourse_log2_upper_norm_counts_all_batches.txt', sep='\\t')\n",
    "norm_counts"
   ],
   "metadata": {
    "collapsed": false,
    "ExecuteTime": {
     "end_time": "2024-04-09T03:09:21.107471Z",
     "start_time": "2024-04-09T03:09:17.978104Z"
    }
   },
   "id": "528c3e1e2d68652f",
   "execution_count": 10
  },
  {
   "cell_type": "code",
   "outputs": [
    {
     "data": {
      "text/plain": "0      4931428F04Rik\n1            Caskin1\n2             Scarf2\n3              Vps4a\n4             Card10\n           ...      \n315            Asah1\n316             Myo6\n317           Ranbp2\n318             Sord\n319             Tfrc\nName: Gene Name, Length: 320, dtype: object"
     },
     "execution_count": 18,
     "metadata": {},
     "output_type": "execute_result"
    }
   ],
   "source": [
    "genes = pd.read_html('updated_index.html')[0]['Gene Name']\n",
    "genes"
   ],
   "metadata": {
    "collapsed": false,
    "ExecuteTime": {
     "end_time": "2024-04-09T03:12:55.500252Z",
     "start_time": "2024-04-09T03:12:55.247869Z"
    }
   },
   "id": "92ce06cfe8be42ee",
   "execution_count": 18
  },
  {
   "cell_type": "code",
   "outputs": [],
   "source": [
    "# create a dict with the corresponding rows for each of the 320 genes\n",
    "norm_genes = norm_counts['gene'] \n",
    "missing_genes = []\n",
    "i = 1\n",
    "for gene in genes:\n",
    "    # find every instance of norm_counts['gene'] that contains the gene name substring\n",
    "    matches_bool = norm_genes.str.contains(gene, case=False)\n",
    "    # matches_list = norm_genes[matches_bool]\n",
    "    if not matches_bool.any(): # if it's empty\n",
    "        missing_genes.append(gene)\n",
    "        print(i)\n",
    "        i += 1\n",
    "\n",
    "# genes_dict\n",
    "    \n",
    "missing_genes = pd.Series(missing_genes)\n",
    "missing_genes.to_csv('missing_genes.csv')"
   ],
   "metadata": {
    "collapsed": false,
    "ExecuteTime": {
     "end_time": "2024-04-09T18:25:10.251612Z",
     "start_time": "2024-04-09T18:25:10.160334Z"
    }
   },
   "id": "80f9cc14c6f42eef",
   "execution_count": 32
  },
  {
   "cell_type": "markdown",
   "source": [
    "# Heat Maps"
   ],
   "metadata": {
    "collapsed": false
   },
   "id": "810cffead029e0d0"
  },
  {
   "cell_type": "code",
   "outputs": [],
   "source": [],
   "metadata": {
    "collapsed": false
   },
   "id": "bb17575b29e6f10c"
  },
  {
   "cell_type": "code",
   "outputs": [],
   "source": [],
   "metadata": {
    "collapsed": false
   },
   "id": "d84e252c2de3c880"
  },
  {
   "cell_type": "markdown",
   "source": [
    "**Notebook scratch**\n"
   ],
   "metadata": {
    "collapsed": false
   },
   "id": "b0592c4ef68849ba"
  },
  {
   "cell_type": "code",
   "outputs": [
    {
     "data": {
      "text/plain": "'/Users/elizabeth 1/Library/CloudStorage/Box-Box/Wu Lab/Project - statin/8. RNA-seq/Elizabeth/LW15 analysis/LW15-Functional-Screening'"
     },
     "execution_count": 33,
     "metadata": {},
     "output_type": "execute_result"
    }
   ],
   "source": [
    "os.getcwd()"
   ],
   "metadata": {
    "collapsed": false,
    "ExecuteTime": {
     "end_time": "2024-04-09T18:26:50.301116Z",
     "start_time": "2024-04-09T18:26:50.278921Z"
    }
   },
   "id": "ab53de4b5cbd99d5",
   "execution_count": 33
  }
 ],
 "metadata": {
  "kernelspec": {
   "display_name": "Python 3",
   "language": "python",
   "name": "python3"
  },
  "language_info": {
   "codemirror_mode": {
    "name": "ipython",
    "version": 2
   },
   "file_extension": ".py",
   "mimetype": "text/x-python",
   "name": "python",
   "nbconvert_exporter": "python",
   "pygments_lexer": "ipython2",
   "version": "2.7.6"
  }
 },
 "nbformat": 4,
 "nbformat_minor": 5
}
