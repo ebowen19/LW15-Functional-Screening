{
 "cells": [
  {
   "cell_type": "code",
   "execution_count": 1,
   "metadata": {},
   "outputs": [
    {
     "name": "stderr",
     "output_type": "stream",
     "text": [
      "/tmp/ipykernel_44469/3277302689.py:3: DeprecationWarning: \n",
      "Pyarrow will become a required dependency of pandas in the next major release of pandas (pandas 3.0),\n",
      "(to allow more performant data types, such as the Arrow string type, and better interoperability with other libraries)\n",
      "but was not found to be installed on your system.\n",
      "If this would cause problems for you,\n",
      "please provide us feedback at https://github.com/pandas-dev/pandas/issues/54466\n",
      "        \n",
      "  import pandas as pd\n"
     ]
    },
    {
     "data": {
      "text/plain": [
       "'/workspaces/LW15-Functional-Screening'"
      ]
     },
     "execution_count": 1,
     "metadata": {},
     "output_type": "execute_result"
    }
   ],
   "source": [
    "import os\n",
    "from bs4 import BeautifulSoup, NavigableString\n",
    "import pandas as pd\n",
    "\n",
    "# os.chdir('..')\n",
    "os.getcwd()"
   ]
  },
  {
   "cell_type": "code",
   "execution_count": 14,
   "metadata": {},
   "outputs": [],
   "source": [
    "# add sorting index as a column to the html (hide w/ javascript)\n",
    "# Load the HTML content\n",
    "with open('index.html', 'r') as file:\n",
    "    html_content = file.read()\n",
    "\n",
    "soup = BeautifulSoup(html_content, 'html.parser')\n",
    "\n",
    "# Find the table by ID\n",
    "table = soup.find('table', {'id': 'functionalScreening'})\n",
    "\n",
    "# Add a new header cell for the new column if your table has a header\n",
    "header_row = table.find('tr')\n",
    "new_header = soup.new_tag('th')\n",
    "new_header.string = 'pval sorting index'  # You can name this header appropriately\n",
    "header_row.append(new_header)\n",
    "\n",
    "# Iterate over each row in the table to add a new column\n",
    "for row in table.find_all('tr')[1:]:  # Skip the header row\n",
    "    cells = row.find_all('td')\n",
    "    if not cells:\n",
    "        continue\n",
    "    gene_name = cells[0].text.strip()  # Assuming gene name is in the first cell\n",
    "\n",
    "    # Create a new cell\n",
    "    new_cell = soup.new_tag('td')\n",
    "    # Retrieve the index or related value from p_value_dict using gene_name\n",
    "    index = p_value_dict.get(gene_name, 500)  # Use a default value if gene_name is not found\n",
    "    \n",
    "    # Add the index or value to the new cell\n",
    "    new_cell.string = str(index)\n",
    "    # Append the new cell to the row\n",
    "    row.append(new_cell)\n",
    "\n",
    "\n",
    "# Save the modified HTML\n",
    "with open('updated_index.html', 'w') as file:\n",
    "    file.write(str(soup))"
   ]
  },
  {
   "cell_type": "code",
   "execution_count": 13,
   "metadata": {},
   "outputs": [],
   "source": [
    "\n",
    "# Load the HTML content\n",
    "with open('index.html', 'r') as file:\n",
    "    html_content = file.read()\n",
    "\n",
    "soup = BeautifulSoup(html_content, 'html.parser')\n",
    "\n",
    "# Find the table by ID or another unique identifier\n",
    "table = soup.find('table', {'id': 'functionalScreening'})  # Replace 'yourTableId' with your table's actual ID\n",
    "\n",
    "# Iterate over each row in the table, including the header row\n",
    "for row in table.find_all('tr'):\n",
    "    # Find all cells in the row (both 'td' and 'th' to cover data and header rows)\n",
    "    cells = row.find_all(['td', 'th'])\n",
    "    if len(cells) > 1:  # Ensure there are at least two cells to remove the second-to-last one\n",
    "        cells[-2].decompose()  # Remove the second-to-last cell\n",
    "\n",
    "# Save the modified HTML\n",
    "with open('updated_index.html', 'w') as file:\n",
    "    file.write(str(soup))\n"
   ]
  }
 ],
 "metadata": {
  "kernelspec": {
   "display_name": "Python 3",
   "language": "python",
   "name": "python3"
  },
  "language_info": {
   "codemirror_mode": {
    "name": "ipython",
    "version": 3
   },
   "file_extension": ".py",
   "mimetype": "text/x-python",
   "name": "python",
   "nbconvert_exporter": "python",
   "pygments_lexer": "ipython3",
   "version": "3.10.13"
  }
 },
 "nbformat": 4,
 "nbformat_minor": 2
}
