{
 "cells": [
  {
   "cell_type": "code",
   "outputs": [],
   "source": [
    "import matplotlib.pyplot as plt\n",
    "import pandas as pd\n",
    "import os\n",
    "import numpy as np\n",
    "%matplotlib inline"
   ],
   "metadata": {
    "collapsed": false,
    "ExecuteTime": {
     "end_time": "2024-03-05T01:46:18.894574Z",
     "start_time": "2024-03-05T01:46:16.032734Z"
    }
   },
   "id": "1c5278930284778e",
   "execution_count": 1
  },
  {
   "cell_type": "code",
   "outputs": [
    {
     "data": {
      "text/plain": "                  gene_id gene_name\n0      ENSMUSG00000000001     Gnai3\n1      ENSMUSG00000000028     Cdc45\n2      ENSMUSG00000000031       H19\n3      ENSMUSG00000000049      Apoh\n4      ENSMUSG00000000056      Narf\n...                   ...       ...\n24637  ENSMUSG00002076463       ---\n24638  ENSMUSG00002076508       ---\n24639  ENSMUSG00002076570       7SK\n24640  ENSMUSG00002076650       ---\n24641  ENSMUSG00002076801       7SK\n\n[24642 rows x 2 columns]",
      "text/html": "<div>\n<style scoped>\n    .dataframe tbody tr th:only-of-type {\n        vertical-align: middle;\n    }\n\n    .dataframe tbody tr th {\n        vertical-align: top;\n    }\n\n    .dataframe thead th {\n        text-align: right;\n    }\n</style>\n<table border=\"1\" class=\"dataframe\">\n  <thead>\n    <tr style=\"text-align: right;\">\n      <th></th>\n      <th>gene_id</th>\n      <th>gene_name</th>\n    </tr>\n  </thead>\n  <tbody>\n    <tr>\n      <th>0</th>\n      <td>ENSMUSG00000000001</td>\n      <td>Gnai3</td>\n    </tr>\n    <tr>\n      <th>1</th>\n      <td>ENSMUSG00000000028</td>\n      <td>Cdc45</td>\n    </tr>\n    <tr>\n      <th>2</th>\n      <td>ENSMUSG00000000031</td>\n      <td>H19</td>\n    </tr>\n    <tr>\n      <th>3</th>\n      <td>ENSMUSG00000000049</td>\n      <td>Apoh</td>\n    </tr>\n    <tr>\n      <th>4</th>\n      <td>ENSMUSG00000000056</td>\n      <td>Narf</td>\n    </tr>\n    <tr>\n      <th>...</th>\n      <td>...</td>\n      <td>...</td>\n    </tr>\n    <tr>\n      <th>24637</th>\n      <td>ENSMUSG00002076463</td>\n      <td>---</td>\n    </tr>\n    <tr>\n      <th>24638</th>\n      <td>ENSMUSG00002076508</td>\n      <td>---</td>\n    </tr>\n    <tr>\n      <th>24639</th>\n      <td>ENSMUSG00002076570</td>\n      <td>7SK</td>\n    </tr>\n    <tr>\n      <th>24640</th>\n      <td>ENSMUSG00002076650</td>\n      <td>---</td>\n    </tr>\n    <tr>\n      <th>24641</th>\n      <td>ENSMUSG00002076801</td>\n      <td>7SK</td>\n    </tr>\n  </tbody>\n</table>\n<p>24642 rows × 2 columns</p>\n</div>"
     },
     "execution_count": 29,
     "metadata": {},
     "output_type": "execute_result"
    }
   ],
   "source": [
    "path = '/Users/elizabeth 1/Library/CloudStorage/Box-Box/Wu Lab/Project - statin/8. RNA-seq/Elizabeth/LW15 analysis/LW15_normalized.csv'\n",
    "data = pd.read_csv(path)\n",
    "data.head(5)\n",
    "gene_conversions = data[['gene_id','gene_name']]\n",
    "# gene_conversions.set_index('gene_id', inplace=True)\n",
    "gene_conversions"
   ],
   "metadata": {
    "collapsed": false,
    "ExecuteTime": {
     "end_time": "2024-03-05T03:14:49.612068Z",
     "start_time": "2024-03-05T03:14:49.369008Z"
    }
   },
   "id": "6f2d9d874ded6bc6",
   "execution_count": 29
  },
  {
   "cell_type": "code",
   "outputs": [
    {
     "data": {
      "text/plain": "                          RC.1        RC.2        RC.3        H1.1  \\\ngene_id                                                              \nENSMUSG00000000001  231.612000  230.273000  155.366000  142.313000   \nENSMUSG00000000028   71.304500   67.238700   75.939800   76.444600   \nENSMUSG00000000031    0.000003    0.000003    0.000003    0.000003   \nENSMUSG00000000049    0.060922    0.000003    0.026207    0.058292   \nENSMUSG00000000056   33.078700   32.345900   27.514600   15.388400   \n\n                          H1.2        H1.3       H12.1       H12.2  \\\ngene_id                                                              \nENSMUSG00000000001  203.244000  169.737000  134.572000  125.387000   \nENSMUSG00000000028   73.306700   81.362700   65.952100   56.257800   \nENSMUSG00000000031    0.000003    0.000003    0.000002    0.000003   \nENSMUSG00000000049    0.000003    0.000003    0.023422    0.000003   \nENSMUSG00000000056   20.395100   18.795900   18.267600   14.648800   \n\n                         H12.3       RVN.1       RVN.2       RVN.3  \\\ngene_id                                                              \nENSMUSG00000000001  152.344000  284.066000  242.846000  229.793000   \nENSMUSG00000000028   70.416500   65.270700   73.563000   75.933100   \nENSMUSG00000000031    0.000003    0.971353    0.989254    0.952513   \nENSMUSG00000000049    0.000003    0.107931    0.239821    0.148833   \nENSMUSG00000000056   20.454900   33.457600   31.626100   31.313800   \n\n                          H2.1        H2.2        H2.3  \ngene_id                                                 \nENSMUSG00000000001  139.686000  296.971000  279.698000  \nENSMUSG00000000028   62.730700   78.365200   73.653300  \nENSMUSG00000000031    0.028285    0.000003    0.053162  \nENSMUSG00000000049    0.000003    0.061660    0.079742  \nENSMUSG00000000056   14.282500   22.504800   23.018000  ",
      "text/html": "<div>\n<style scoped>\n    .dataframe tbody tr th:only-of-type {\n        vertical-align: middle;\n    }\n\n    .dataframe tbody tr th {\n        vertical-align: top;\n    }\n\n    .dataframe thead th {\n        text-align: right;\n    }\n</style>\n<table border=\"1\" class=\"dataframe\">\n  <thead>\n    <tr style=\"text-align: right;\">\n      <th></th>\n      <th>RC.1</th>\n      <th>RC.2</th>\n      <th>RC.3</th>\n      <th>H1.1</th>\n      <th>H1.2</th>\n      <th>H1.3</th>\n      <th>H12.1</th>\n      <th>H12.2</th>\n      <th>H12.3</th>\n      <th>RVN.1</th>\n      <th>RVN.2</th>\n      <th>RVN.3</th>\n      <th>H2.1</th>\n      <th>H2.2</th>\n      <th>H2.3</th>\n    </tr>\n    <tr>\n      <th>gene_id</th>\n      <th></th>\n      <th></th>\n      <th></th>\n      <th></th>\n      <th></th>\n      <th></th>\n      <th></th>\n      <th></th>\n      <th></th>\n      <th></th>\n      <th></th>\n      <th></th>\n      <th></th>\n      <th></th>\n      <th></th>\n    </tr>\n  </thead>\n  <tbody>\n    <tr>\n      <th>ENSMUSG00000000001</th>\n      <td>231.612000</td>\n      <td>230.273000</td>\n      <td>155.366000</td>\n      <td>142.313000</td>\n      <td>203.244000</td>\n      <td>169.737000</td>\n      <td>134.572000</td>\n      <td>125.387000</td>\n      <td>152.344000</td>\n      <td>284.066000</td>\n      <td>242.846000</td>\n      <td>229.793000</td>\n      <td>139.686000</td>\n      <td>296.971000</td>\n      <td>279.698000</td>\n    </tr>\n    <tr>\n      <th>ENSMUSG00000000028</th>\n      <td>71.304500</td>\n      <td>67.238700</td>\n      <td>75.939800</td>\n      <td>76.444600</td>\n      <td>73.306700</td>\n      <td>81.362700</td>\n      <td>65.952100</td>\n      <td>56.257800</td>\n      <td>70.416500</td>\n      <td>65.270700</td>\n      <td>73.563000</td>\n      <td>75.933100</td>\n      <td>62.730700</td>\n      <td>78.365200</td>\n      <td>73.653300</td>\n    </tr>\n    <tr>\n      <th>ENSMUSG00000000031</th>\n      <td>0.000003</td>\n      <td>0.000003</td>\n      <td>0.000003</td>\n      <td>0.000003</td>\n      <td>0.000003</td>\n      <td>0.000003</td>\n      <td>0.000002</td>\n      <td>0.000003</td>\n      <td>0.000003</td>\n      <td>0.971353</td>\n      <td>0.989254</td>\n      <td>0.952513</td>\n      <td>0.028285</td>\n      <td>0.000003</td>\n      <td>0.053162</td>\n    </tr>\n    <tr>\n      <th>ENSMUSG00000000049</th>\n      <td>0.060922</td>\n      <td>0.000003</td>\n      <td>0.026207</td>\n      <td>0.058292</td>\n      <td>0.000003</td>\n      <td>0.000003</td>\n      <td>0.023422</td>\n      <td>0.000003</td>\n      <td>0.000003</td>\n      <td>0.107931</td>\n      <td>0.239821</td>\n      <td>0.148833</td>\n      <td>0.000003</td>\n      <td>0.061660</td>\n      <td>0.079742</td>\n    </tr>\n    <tr>\n      <th>ENSMUSG00000000056</th>\n      <td>33.078700</td>\n      <td>32.345900</td>\n      <td>27.514600</td>\n      <td>15.388400</td>\n      <td>20.395100</td>\n      <td>18.795900</td>\n      <td>18.267600</td>\n      <td>14.648800</td>\n      <td>20.454900</td>\n      <td>33.457600</td>\n      <td>31.626100</td>\n      <td>31.313800</td>\n      <td>14.282500</td>\n      <td>22.504800</td>\n      <td>23.018000</td>\n    </tr>\n  </tbody>\n</table>\n</div>"
     },
     "execution_count": 42,
     "metadata": {},
     "output_type": "execute_result"
    }
   ],
   "source": [
    "data = data[['RC.1','RC.2','RC.3','H1.1','H1.2','H1.3', 'H12.1','H12.2','H12.3','RVN.1','RVN.2','RVN.3','H2.1','H2.2','H2.3']]\n",
    "# data.set_index('gene_id', inplace=True)\n",
    "data.head(5)"
   ],
   "metadata": {
    "collapsed": false,
    "ExecuteTime": {
     "end_time": "2024-03-05T03:45:22.843615Z",
     "start_time": "2024-03-05T03:45:22.761748Z"
    }
   },
   "id": "112d7f0a66eed449",
   "execution_count": 42
  },
  {
   "cell_type": "code",
   "outputs": [
    {
     "name": "stdout",
     "output_type": "stream",
     "text": [
      "Total number of genes accounted for: 320\n"
     ]
    }
   ],
   "source": [
    "excel_file_path = '/Users/elizabeth 1/Library/CloudStorage/Box-Box/Wu Lab/Project - 2024/Functional screening/240122_MI_320genes_list.xlsx'\n",
    "new_genes = pd.read_excel(excel_file_path, sheet_name='Sheet2')\n",
    "new_genes = new_genes[['Ensembl','found in']]\n",
    "genes_dict = {}\n",
    "categories = new_genes['found in'].unique()\n",
    "# print(categories)\n",
    "# add category keys to dict\n",
    "for category in categories:\n",
    "    genes_dict[category] = []\n",
    "\n",
    "# Iterate through the rows of the DataFrame\n",
    "for index, row in new_genes.iterrows():\n",
    "    gene = row['Ensembl']\n",
    "    category = row['found in']\n",
    "    genes_dict[category].append(gene)\n",
    "    \n",
    "# genes_dict\n",
    "total_elements = sum(len(lst) for lst in genes_dict.values())\n",
    "\n",
    "print(\"Total number of genes accounted for:\", total_elements)"
   ],
   "metadata": {
    "collapsed": false,
    "ExecuteTime": {
     "end_time": "2024-03-05T01:49:58.521120Z",
     "start_time": "2024-03-05T01:49:57.622884Z"
    }
   },
   "id": "9cc82a817291609c",
   "execution_count": 5
  },
  {
   "cell_type": "code",
   "outputs": [],
   "source": [
    "import numpy as np\n",
    "import matplotlib.pyplot as plt\n",
    "\n",
    "def create_gene_plots(target_genes, data, gene_conversions, axis_labels):\n",
    "    \"\"\"\n",
    "    Creates a dictionary of matplotlib figures for individual genes with gene names converted from gene IDs.\n",
    "    \n",
    "    Parameters:\n",
    "    - target_genes (dict): Dictionary with categories as keys and lists of gene names (IDs) as values.\n",
    "    - data (pd.DataFrame): DataFrame indexed by gene names (IDs) with numerical data in columns.\n",
    "    - gene_conversions (pd.DataFrame): DataFrame mapping gene IDs to gene names.\n",
    "    - axis_labels (list): List of strings for the x-axis labels of the bar plots.\n",
    "    \n",
    "    Returns:\n",
    "    - dict: A dictionary with gene names as keys and corresponding figure objects as values.\n",
    "    \n",
    "    Usage:\n",
    "    gene_figures = create_individual_gene_figures(target_genes, data, gene_conversions, axis_labels)\n",
    "    \"\"\"\n",
    "    gene_figures = {}\n",
    "    colors = ['#D81B60', 'orange', 'orange', 'green', 'blue']  # Define color scheme\n",
    "\n",
    "    for category, genes in target_genes.items():\n",
    "        for gene in genes:\n",
    "            if gene in data.index:\n",
    "                # Convert gene ID to gene name\n",
    "                gene_name = gene_conversions.loc[gene_conversions['gene_id'] == gene, 'gene_name'].iloc[0]\n",
    "                if gene_name == '---':\n",
    "                    gene_name = gene  # Use gene ID if no name conversion is available\n",
    "\n",
    "                fig, ax = plt.subplots(figsize=(5, 5))\n",
    "                means = data.loc[gene].values.reshape(-1, 3).mean(axis=1)\n",
    "                stds = data.loc[gene].values.reshape(-1, 3).std(axis=1)\n",
    "\n",
    "                ax.bar(axis_labels, means, yerr=stds, capsize=5, color=colors)\n",
    "                ax.set_title(gene_name)\n",
    "                ax.set_ylabel('Expression Level')\n",
    "\n",
    "                plt.tight_layout()  # Adjust layout\n",
    "                gene_figures[gene_name] = fig\n",
    "                plt.close(fig)  # Close the figure to prevent it from displaying in a notebook environment\n",
    "\n",
    "    return gene_figures\n",
    "\n",
    "\n",
    "axis_labels = ['vhl+', 'vhl-,hif1-', 'vhl-,hif1&2-', 'vhl-', 'vhl-,hif2-']\n",
    "plots_dict = create_gene_plots(genes_dict, data, gene_conversions, axis_labels)\n"
   ],
   "metadata": {
    "collapsed": false,
    "ExecuteTime": {
     "end_time": "2024-03-05T03:46:35.146596Z",
     "start_time": "2024-03-05T03:45:29.620084Z"
    }
   },
   "id": "71b35a903fbb2e1b",
   "execution_count": 43
  },
  {
   "cell_type": "code",
   "outputs": [],
   "source": [
    "os.chdir('/Users/elizabeth 1/Library/CloudStorage/Box-Box/Wu Lab/Project - 2024/Functional screening/Elizabeth/LW15-Functional-Screening/gene plots')\n",
    "for category, fig in plots_dict.items():\n",
    "    fig.savefig(f\"{category}.png\")"
   ],
   "metadata": {
    "collapsed": false,
    "ExecuteTime": {
     "end_time": "2024-03-05T03:49:50.840002Z",
     "start_time": "2024-03-05T03:48:22.244558Z"
    }
   },
   "id": "3c43da6186cb8699",
   "execution_count": 45
  },
  {
   "cell_type": "code",
   "outputs": [
    {
     "data": {
      "text/plain": "<Figure size 500x500 with 1 Axes>",
      "image/png": "[encoded data removed]"
     },
     "metadata": {},
     "output_type": "display_data"
    }
   ],
   "source": [
    "gene_name = 'ENSMUSG00000096847'\n",
    "colors = ['#D81B60', 'orange', 'orange', 'green', 'blue']  # Define color scheme\n",
    "\n",
    "fig, ax = plt.subplots(figsize=(5, 5))\n",
    "means = data.loc[gene].values.reshape(-1, 3).mean(axis=1)\n",
    "stds = data.loc[gene].values.reshape(-1, 3).std(axis=1)\n",
    "\n",
    "ax.bar(axis_labels, means, yerr=stds, capsize=5, color=colors)\n",
    "ax.set_title(gene_name)\n",
    "ax.set_ylabel('Expression Level')\n",
    "\n",
    "plt.tight_layout()  # Adjust layout\n",
    "fig.savefig(f\"{gene_name}.png\")\n"
   ],
   "metadata": {
    "collapsed": false,
    "ExecuteTime": {
     "end_time": "2024-03-05T04:02:02.908628Z",
     "start_time": "2024-03-05T04:02:01.350593Z"
    }
   },
   "id": "f8a5b810ade87a3",
   "execution_count": 48
  },
  {
   "cell_type": "code",
   "outputs": [
    {
     "data": {
      "text/plain": "                          RC.1        RC.2        RC.3        H1.1  \\\ngene_id                                                              \nENSMUSG00000000001  231.612000  230.273000  155.366000  142.313000   \nENSMUSG00000000028   71.304500   67.238700   75.939800   76.444600   \nENSMUSG00000000031    0.000003    0.000003    0.000003    0.000003   \nENSMUSG00000000049    0.060922    0.000003    0.026207    0.058292   \nENSMUSG00000000056   33.078700   32.345900   27.514600   15.388400   \n...                        ...         ...         ...         ...   \nENSMUSG00002076463    0.030462    0.088501    0.026524    0.058876   \nENSMUSG00002076508    0.102223    0.217590    0.348718    0.247061   \nENSMUSG00002076570    0.030462    0.000003    0.078616    0.000003   \nENSMUSG00002076650    0.315086    0.223123    0.404634    0.454867   \nENSMUSG00002076801    0.030462    0.202708    0.052411    0.029147   \n\n                          H1.2        H1.3       H12.1       H12.2  \\\ngene_id                                                              \nENSMUSG00000000001  203.244000  169.737000  134.572000  125.387000   \nENSMUSG00000000028   73.306700   81.362700   65.952100   56.257800   \nENSMUSG00000000031    0.000003    0.000003    0.000002    0.000003   \nENSMUSG00000000049    0.000003    0.000003    0.023422    0.000003   \nENSMUSG00000000056   20.395100   18.795900   18.267600   14.648800   \n...                        ...         ...         ...         ...   \nENSMUSG00002076463    0.000003    0.026280    0.000002    0.062932   \nENSMUSG00002076508    0.466930    0.093601    0.211611    0.108948   \nENSMUSG00002076570    0.000003    0.000003    0.093683    0.155841   \nENSMUSG00002076650    0.313932    0.232419    0.430510    0.936082   \nENSMUSG00002076801    0.000003    0.000003    0.000002    0.000003   \n\n                         H12.3       RVN.1       RVN.2       RVN.3  \\\ngene_id                                                              \nENSMUSG00000000001  152.344000  284.066000  242.846000  229.793000   \nENSMUSG00000000028   70.416500   65.270700   73.563000   75.933100   \nENSMUSG00000000031    0.000003    0.971353    0.989254    0.952513   \nENSMUSG00000000049    0.000003    0.107931    0.239821    0.148833   \nENSMUSG00000000056   20.454900   33.457600   31.626100   31.313800   \n...                        ...         ...         ...         ...   \nENSMUSG00002076463    0.000003    0.000003    0.059958    0.090724   \nENSMUSG00002076508    0.420132    0.425389    0.305658    0.577771   \nENSMUSG00002076570    0.162129    0.080949    0.029980    0.059535   \nENSMUSG00002076650    0.528197    0.994711    0.832589    0.832298   \nENSMUSG00002076801    0.000003    0.080949    0.029980    0.148833   \n\n                          H2.1        H2.2        H2.3  \ngene_id                                                 \nENSMUSG00000000001  139.686000  296.971000  279.698000  \nENSMUSG00000000028   62.730700   78.365200   73.653300  \nENSMUSG00000000031    0.028285    0.000003    0.053162  \nENSMUSG00000000049    0.000003    0.061660    0.079742  \nENSMUSG00000000056   14.282500   22.504800   23.018000  \n...                        ...         ...         ...  \nENSMUSG00002076463    0.028285    0.000003    0.106321  \nENSMUSG00002076508    0.347501    0.320089    0.272560  \nENSMUSG00002076570    0.311107    0.061660    0.079742  \nENSMUSG00002076650    2.931420    0.947203    1.148910  \nENSMUSG00002076801    0.197978    0.061660    0.026582  \n\n[24642 rows x 15 columns]",
      "text/html": "<div>\n<style scoped>\n    .dataframe tbody tr th:only-of-type {\n        vertical-align: middle;\n    }\n\n    .dataframe tbody tr th {\n        vertical-align: top;\n    }\n\n    .dataframe thead th {\n        text-align: right;\n    }\n</style>\n<table border=\"1\" class=\"dataframe\">\n  <thead>\n    <tr style=\"text-align: right;\">\n      <th></th>\n      <th>RC.1</th>\n      <th>RC.2</th>\n      <th>RC.3</th>\n      <th>H1.1</th>\n      <th>H1.2</th>\n      <th>H1.3</th>\n      <th>H12.1</th>\n      <th>H12.2</th>\n      <th>H12.3</th>\n      <th>RVN.1</th>\n      <th>RVN.2</th>\n      <th>RVN.3</th>\n      <th>H2.1</th>\n      <th>H2.2</th>\n      <th>H2.3</th>\n    </tr>\n    <tr>\n      <th>gene_id</th>\n      <th></th>\n      <th></th>\n      <th></th>\n      <th></th>\n      <th></th>\n      <th></th>\n      <th></th>\n      <th></th>\n      <th></th>\n      <th></th>\n      <th></th>\n      <th></th>\n      <th></th>\n      <th></th>\n      <th></th>\n    </tr>\n  </thead>\n  <tbody>\n    <tr>\n      <th>ENSMUSG00000000001</th>\n      <td>231.612000</td>\n      <td>230.273000</td>\n      <td>155.366000</td>\n      <td>142.313000</td>\n      <td>203.244000</td>\n      <td>169.737000</td>\n      <td>134.572000</td>\n      <td>125.387000</td>\n      <td>152.344000</td>\n      <td>284.066000</td>\n      <td>242.846000</td>\n      <td>229.793000</td>\n      <td>139.686000</td>\n      <td>296.971000</td>\n      <td>279.698000</td>\n    </tr>\n    <tr>\n      <th>ENSMUSG00000000028</th>\n      <td>71.304500</td>\n      <td>67.238700</td>\n      <td>75.939800</td>\n      <td>76.444600</td>\n      <td>73.306700</td>\n      <td>81.362700</td>\n      <td>65.952100</td>\n      <td>56.257800</td>\n      <td>70.416500</td>\n      <td>65.270700</td>\n      <td>73.563000</td>\n      <td>75.933100</td>\n      <td>62.730700</td>\n      <td>78.365200</td>\n      <td>73.653300</td>\n    </tr>\n    <tr>\n      <th>ENSMUSG00000000031</th>\n      <td>0.000003</td>\n      <td>0.000003</td>\n      <td>0.000003</td>\n      <td>0.000003</td>\n      <td>0.000003</td>\n      <td>0.000003</td>\n      <td>0.000002</td>\n      <td>0.000003</td>\n      <td>0.000003</td>\n      <td>0.971353</td>\n      <td>0.989254</td>\n      <td>0.952513</td>\n      <td>0.028285</td>\n      <td>0.000003</td>\n      <td>0.053162</td>\n    </tr>\n    <tr>\n      <th>ENSMUSG00000000049</th>\n      <td>0.060922</td>\n      <td>0.000003</td>\n      <td>0.026207</td>\n      <td>0.058292</td>\n      <td>0.000003</td>\n      <td>0.000003</td>\n      <td>0.023422</td>\n      <td>0.000003</td>\n      <td>0.000003</td>\n      <td>0.107931</td>\n      <td>0.239821</td>\n      <td>0.148833</td>\n      <td>0.000003</td>\n      <td>0.061660</td>\n      <td>0.079742</td>\n    </tr>\n    <tr>\n      <th>ENSMUSG00000000056</th>\n      <td>33.078700</td>\n      <td>32.345900</td>\n      <td>27.514600</td>\n      <td>15.388400</td>\n      <td>20.395100</td>\n      <td>18.795900</td>\n      <td>18.267600</td>\n      <td>14.648800</td>\n      <td>20.454900</td>\n      <td>33.457600</td>\n      <td>31.626100</td>\n      <td>31.313800</td>\n      <td>14.282500</td>\n      <td>22.504800</td>\n      <td>23.018000</td>\n    </tr>\n    <tr>\n      <th>...</th>\n      <td>...</td>\n      <td>...</td>\n      <td>...</td>\n      <td>...</td>\n      <td>...</td>\n      <td>...</td>\n      <td>...</td>\n      <td>...</td>\n      <td>...</td>\n      <td>...</td>\n      <td>...</td>\n      <td>...</td>\n      <td>...</td>\n      <td>...</td>\n      <td>...</td>\n    </tr>\n    <tr>\n      <th>ENSMUSG00002076463</th>\n      <td>0.030462</td>\n      <td>0.088501</td>\n      <td>0.026524</td>\n      <td>0.058876</td>\n      <td>0.000003</td>\n      <td>0.026280</td>\n      <td>0.000002</td>\n      <td>0.062932</td>\n      <td>0.000003</td>\n      <td>0.000003</td>\n      <td>0.059958</td>\n      <td>0.090724</td>\n      <td>0.028285</td>\n      <td>0.000003</td>\n      <td>0.106321</td>\n    </tr>\n    <tr>\n      <th>ENSMUSG00002076508</th>\n      <td>0.102223</td>\n      <td>0.217590</td>\n      <td>0.348718</td>\n      <td>0.247061</td>\n      <td>0.466930</td>\n      <td>0.093601</td>\n      <td>0.211611</td>\n      <td>0.108948</td>\n      <td>0.420132</td>\n      <td>0.425389</td>\n      <td>0.305658</td>\n      <td>0.577771</td>\n      <td>0.347501</td>\n      <td>0.320089</td>\n      <td>0.272560</td>\n    </tr>\n    <tr>\n      <th>ENSMUSG00002076570</th>\n      <td>0.030462</td>\n      <td>0.000003</td>\n      <td>0.078616</td>\n      <td>0.000003</td>\n      <td>0.000003</td>\n      <td>0.000003</td>\n      <td>0.093683</td>\n      <td>0.155841</td>\n      <td>0.162129</td>\n      <td>0.080949</td>\n      <td>0.029980</td>\n      <td>0.059535</td>\n      <td>0.311107</td>\n      <td>0.061660</td>\n      <td>0.079742</td>\n    </tr>\n    <tr>\n      <th>ENSMUSG00002076650</th>\n      <td>0.315086</td>\n      <td>0.223123</td>\n      <td>0.404634</td>\n      <td>0.454867</td>\n      <td>0.313932</td>\n      <td>0.232419</td>\n      <td>0.430510</td>\n      <td>0.936082</td>\n      <td>0.528197</td>\n      <td>0.994711</td>\n      <td>0.832589</td>\n      <td>0.832298</td>\n      <td>2.931420</td>\n      <td>0.947203</td>\n      <td>1.148910</td>\n    </tr>\n    <tr>\n      <th>ENSMUSG00002076801</th>\n      <td>0.030462</td>\n      <td>0.202708</td>\n      <td>0.052411</td>\n      <td>0.029147</td>\n      <td>0.000003</td>\n      <td>0.000003</td>\n      <td>0.000002</td>\n      <td>0.000003</td>\n      <td>0.000003</td>\n      <td>0.080949</td>\n      <td>0.029980</td>\n      <td>0.148833</td>\n      <td>0.197978</td>\n      <td>0.061660</td>\n      <td>0.026582</td>\n    </tr>\n  </tbody>\n</table>\n<p>24642 rows × 15 columns</p>\n</div>"
     },
     "execution_count": 44,
     "metadata": {},
     "output_type": "execute_result"
    }
   ],
   "source": [
    "# data.set_index('gene_id', inplace=True)\n",
    "# data.drop('gene_name', axis=1, inplace=True)\n",
    "data"
   ],
   "metadata": {
    "collapsed": false,
    "ExecuteTime": {
     "end_time": "2024-03-05T03:47:37.916201Z",
     "start_time": "2024-03-05T03:47:37.712008Z"
    }
   },
   "id": "8c40027ecf86615b",
   "execution_count": 44
  },
  {
   "cell_type": "code",
   "outputs": [
    {
     "data": {
      "text/plain": "dict_keys(['PCA', 'PCA & GSEA up', 'PCA & combined volcano', 'combined volcano & individual volcano down', 'combined volcano', 'combined volcano & individual volcano up', 'combined volcano & individual volcano up & GSEA up', 'GSEA up', 'GSEA down'])"
     },
     "execution_count": 9,
     "metadata": {},
     "output_type": "execute_result"
    }
   ],
   "source": [
    "# os.chdir('/Users/elizabeth 1/Library/CloudStorage/Box-Box/Wu Lab/Project - statin/8. RNA-seq/Elizabeth/LW15 analysis/LW15-Target-Genes/gene_plots/320 LW15 Genes/composite figures')\n",
    "# os.getcwd()\n",
    "genes_dict.keys()"
   ],
   "metadata": {
    "collapsed": false,
    "ExecuteTime": {
     "end_time": "2024-03-05T01:52:25.688319Z",
     "start_time": "2024-03-05T01:52:25.617996Z"
    }
   },
   "id": "ab84736bc2ce623c",
   "execution_count": 9
  },
  {
   "cell_type": "code",
   "outputs": [
    {
     "name": "stdout",
     "output_type": "stream",
     "text": [
      "gene Ensembl missing from data\n",
      "gene found in missing from data\n"
     ]
    }
   ],
   "source": [
    "\n",
    "def plot_genes(gene_list, data, axis_labels):\n",
    "    gene_plots = {}\n",
    "\n",
    "    for gene in gene_list:\n",
    "        if gene in data.index:\n",
    "            # Create the plot for the gene\n",
    "            fig, ax = plt.subplots()\n",
    "            means = data.loc[gene].values.reshape(-1, 3).mean(axis=1)\n",
    "            stds = data.loc[gene].values.reshape(-1, 3).std(axis=1)\n",
    "            \n",
    "            #convert ensembl id to gene name to use in title/dict key\n",
    "            gene_name = gene_conversions.loc[gene_conversions['gene_id'] == gene, 'gene_name'].iloc[0]\n",
    "            if gene_name == '---':\n",
    "                gene_name = gene\n",
    "\n",
    "            # Ensure the color list matches the # of bars (adjust as needed)\n",
    "            colors = ['#D81B60', 'orange', 'orange', 'green', 'blue'][:len(axis_labels)]\n",
    "\n",
    "            ax.bar(axis_labels, means, yerr=stds, capsize=5, color=colors)\n",
    "            ax.set_title(gene_name)\n",
    "            ax.set_ylabel('Gene Expression Level')  # Changed 'Gene Count' to 'Gene Expression Level' for clarity\n",
    "\n",
    "            # Store the figure\n",
    "            gene_plots[gene_name] = fig\n",
    "            plt.close(fig)  # Prevent the immediate display\n",
    "        else:\n",
    "            print(f\"gene {gene} missing from data\")\n",
    "\n",
    "    return gene_plots\n",
    "\n",
    "axis_labels = ['vhl+','vhl-,hif1-','vhl-,hif1&2-','vhl-','vhl-,hif2-']\n",
    "\n",
    "plots_dict = plot_genes(new_genes, data, axis_labels)\n"
   ],
   "metadata": {
    "collapsed": false,
    "ExecuteTime": {
     "end_time": "2024-03-05T01:52:45.312862Z",
     "start_time": "2024-03-05T01:52:45.292885Z"
    }
   },
   "id": "af77f921d692f759",
   "execution_count": 10
  },
  {
   "cell_type": "code",
   "outputs": [],
   "source": [
    "def save_plots(plots_dict):\n",
    "    for gene, fig in plots_dict.items():\n",
    "        fig.savefig(f\"{gene}.png\")\n",
    "\n",
    "save_plots(plots_dict)\n"
   ],
   "metadata": {
    "collapsed": false,
    "ExecuteTime": {
     "end_time": "2024-02-09T23:34:33.091129Z",
     "start_time": "2024-02-09T23:34:29.949824Z"
    }
   },
   "id": "c4c27cec3e382bae",
   "execution_count": 138
  },
  {
   "cell_type": "code",
   "outputs": [
    {
     "name": "stdout",
     "output_type": "stream",
     "text": [
      "['ENSMUSG00000000303', 'ENSMUSG00000000440', 'ENSMUSG00000001847', 'ENSMUSG00000002250', 'ENSMUSG00000003814']\n",
      "70\n"
     ]
    }
   ],
   "source": [
    "70_target_genes = {'Main 8 Genes':['Atp1a1','Cltc','Ifngr1','Gpx3','Srebf2','Alyref','Niban1','Mybbp1a'], 'SREBF':['Ldlr','Srebf1','Srebf2'], 'HMGCR':['Acat1','Acat2','Hmgcr','Mvd','Pmvk','Fdps','Ggps1'],'Hypoxia':['Hif1a','Vhl','Arnt','Epas1','Vegfa','Vegfb','Slc2a1','Vegfd'],'EMT':['Cdh1','Cdh2','Acta2','Mmp9','Snai2','Snai1','Zeb1','Ntn1','Zeb2'],'Cholesterol':['Acaca','Ldlr','Fasn','Scd1','Srebf1','Spring1'], 'Other 1':['Myc','Kras','Nras','Mki67','Casp3','Uchl1'], 'Other 2':['Agfg1','Rab11a','Rptor','Lrp1','Rac1','Rac2','Rock1','Rock2'], 'Other 3':['Txnrd1','Txnrd2','Mdm2','E2f1','Trp53','Pparg','Ppard','Prdx5','Mtor'], 'Other 4':['Usp7','Mdm4','Arf1','Calr','Trib3','Ddit3','Mapk1','Sqstm1','P4ha1']}\n",
    "\n",
    "# convert the target_genes to ensembl IDs\n",
    "# Flatten the list of genes from target_genes dict\n",
    "all_gene_names = [gene for category in 70_target_genes.values() for gene in category]\n",
    "\n",
    "# Ensure unique gene names\n",
    "unique_gene_names = set(all_gene_names)\n",
    "len(unique_gene_names)\n",
    "# Map gene names to gene IDs using the gene_conversions DataFrame\n",
    "gene_ids = gene_conversions[gene_conversions['gene_name'].isin(unique_gene_names)]['gene_id'].tolist()\n",
    "\n",
    "# gene_ids now contains the list of gene IDs\n",
    "print(gene_ids[0:5])\n",
    "print(len(gene_ids))"
   ],
   "metadata": {
    "collapsed": false,
    "ExecuteTime": {
     "end_time": "2024-02-09T02:08:57.143443Z",
     "start_time": "2024-02-09T02:08:56.422646Z"
    }
   },
   "id": "900c535ea6b6e099",
   "execution_count": 71
  },
  {
   "cell_type": "code",
   "outputs": [
    {
     "name": "stdout",
     "output_type": "stream",
     "text": [
      "Missing genes: ['ENSMUSG00000000303', 'ENSMUSG00000000440', 'ENSMUSG00000001847', 'ENSMUSG00000002250', 'ENSMUSG00000003814', 'ENSMUSG00000004771', 'ENSMUSG00000006517', 'ENSMUSG00000015522', 'ENSMUSG00000015837', 'ENSMUSG00000017737', 'ENSMUSG00000018339', 'ENSMUSG00000019916', 'ENSMUSG00000020009', 'ENSMUSG00000020184', 'ENSMUSG00000020250', 'ENSMUSG00000020532', 'ENSMUSG00000020538', 'ENSMUSG00000020580', 'ENSMUSG00000020902', 'ENSMUSG00000021109', 'ENSMUSG00000021302', 'ENSMUSG00000021670', 'ENSMUSG00000022346', 'ENSMUSG00000022463', 'ENSMUSG00000022676', 'ENSMUSG00000022710', 'ENSMUSG00000023832', 'ENSMUSG00000023951', 'ENSMUSG00000024140', 'ENSMUSG00000024238', 'ENSMUSG00000024290', 'ENSMUSG00000024304', 'ENSMUSG00000024953', 'ENSMUSG00000024962', 'ENSMUSG00000025134', 'ENSMUSG00000025153', 'ENSMUSG00000025408', 'ENSMUSG00000025583', 'ENSMUSG00000026159', 'ENSMUSG00000026483', 'ENSMUSG00000026872', 'ENSMUSG00000027490', 'ENSMUSG00000027852', 'ENSMUSG00000027952', 'ENSMUSG00000028645', 'ENSMUSG00000028991', 'ENSMUSG00000029223', 'ENSMUSG00000030265', 'ENSMUSG00000031004', 'ENSMUSG00000031380', 'ENSMUSG00000031628', 'ENSMUSG00000032047', 'ENSMUSG00000032193', 'ENSMUSG00000032715', 'ENSMUSG00000032840', 'ENSMUSG00000033161', 'ENSMUSG00000033220', 'ENSMUSG00000033933', 'ENSMUSG00000035783', 'ENSMUSG00000037071', 'ENSMUSG00000040249', 'ENSMUSG00000040463', 'ENSMUSG00000042821', 'ENSMUSG00000047126', 'ENSMUSG00000048076', 'ENSMUSG00000054387', 'ENSMUSG00000059552', 'ENSMUSG00000059743', 'ENSMUSG00000063358', 'ENSMUSG00000075704']\n"
     ]
    },
    {
     "data": {
      "text/plain": "70"
     },
     "execution_count": 77,
     "metadata": {},
     "output_type": "execute_result"
    }
   ],
   "source": [
    "# Check which genes are in the new_genes list\n",
    "# Initialize a list to store genes that don't exist in the DataFrame\n",
    "missing_genes = []\n",
    "\n",
    "for gene in gene_ids: \n",
    "    if gene not in new_genes: # check all the already plotted genes\n",
    "        missing_genes.append(gene)\n",
    "\n",
    "# Print or otherwise handle missing genes\n",
    "if missing_genes:\n",
    "    print(\"Missing genes:\", missing_genes)\n",
    "else:\n",
    "    print(\"All genes found in the DataFrame.\")\n",
    "\n",
    "len(missing_genes)"
   ],
   "metadata": {
    "collapsed": false,
    "ExecuteTime": {
     "end_time": "2024-02-09T02:16:07.911880Z",
     "start_time": "2024-02-09T02:16:07.060600Z"
    }
   },
   "id": "1b098954d8fbc4c5",
   "execution_count": 77
  }
 ],
 "metadata": {
  "kernelspec": {
   "name": "python3",
   "language": "python",
   "display_name": "Python 3 (ipykernel)"
  },
  "language_info": {
   "codemirror_mode": {
    "name": "ipython",
    "version": 2
   },
   "file_extension": ".py",
   "mimetype": "text/x-python",
   "name": "python",
   "nbconvert_exporter": "python",
   "pygments_lexer": "ipython2",
   "version": "2.7.6"
  }
 },
 "nbformat": 4,
 "nbformat_minor": 5
}
