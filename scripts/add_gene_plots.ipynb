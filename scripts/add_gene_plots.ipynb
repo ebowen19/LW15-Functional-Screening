{
 "cells": [
  {
   "cell_type": "code",
   "execution_count": 2,
   "metadata": {},
   "outputs": [],
   "source": [
    "from bs4 import BeautifulSoup"
   ]
  },
  {
   "cell_type": "code",
   "execution_count": 3,
   "metadata": {},
   "outputs": [],
   "source": [
    "# Load HTML file\n",
    "with open('../index.html', 'r') as file:\n",
    "    html_content = file.read()\n",
    "\n",
    "# Parse the HTML\n",
    "soup = BeautifulSoup(html_content, 'html.parser')\n",
    "\n",
    "# Find the table by id\n",
    "table = soup.find('table', {'id': 'functionalScreening'})\n",
    "\n",
    "# Add a new header for the gene plots\n",
    "table.find('thead').find('tr').append(soup.new_tag('th', text='Gene Plot'))\n",
    "\n",
    "# Go through each row in the table body\n",
    "for row in table.find('tbody').find_all('tr'):\n",
    "    # Get the gene name from the first column\n",
    "    gene_name = row.find('td').text\n",
    "\n",
    "    # Create the new column with the image tag\n",
    "    new_col = soup.new_tag('td')\n",
    "    img_tag = soup.new_tag('img', alt=gene_name, src=f'gene plots/{gene_name}.png', height='150', width='150', class_='thumbnail')\n",
    "\n",
    "    new_col.append(img_tag)\n",
    "\n",
    "    # Add the new column to the row\n",
    "    row.append(new_col)\n",
    "\n",
    "# Write the modified HTML back to the file\n",
    "with open('../index.html', 'w') as file:\n",
    "    file.write(str(soup))"
   ]
  }
 ],
 "metadata": {
  "kernelspec": {
   "display_name": "Python 3",
   "language": "python",
   "name": "python3"
  },
  "language_info": {
   "codemirror_mode": {
    "name": "ipython",
    "version": 3
   },
   "file_extension": ".py",
   "mimetype": "text/x-python",
   "name": "python",
   "nbconvert_exporter": "python",
   "pygments_lexer": "ipython3",
   "version": "3.10.13"
  }
 },
 "nbformat": 4,
 "nbformat_minor": 2
}
