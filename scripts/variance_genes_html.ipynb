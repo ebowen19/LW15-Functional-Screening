{
 "cells": [
  {
   "cell_type": "code",
   "execution_count": 19,
   "metadata": {},
   "outputs": [
    {
     "name": "stdout",
     "output_type": "stream",
     "text": [
      "Modified HTML saved as 'variance_genes.html'\n"
     ]
    }
   ],
   "source": [
    "import pandas as pd\n",
    "from bs4 import BeautifulSoup\n",
    "\n",
    "# Load the unique variance genes from the CSV file\n",
    "unique_genes = pd.read_csv(\"../unique_variance_genes.csv\")  # Adjust the path if needed\n",
    "unique_gene_names = set(unique_genes['Gene Name'])  # Replace 'Gene Name' with the actual column name in your CSV\n",
    "unique_gene_ids = set(unique_genes['Gene'])  # Replace 'Gene ID' with the actual column name in your CSV\n",
    "\n",
    "# Load the HTML file\n",
    "with open(\"../variance_genes.html\", \"r\", encoding=\"utf-8\") as file:\n",
    "    soup = BeautifulSoup(file, \"html.parser\")\n",
    "\n",
    "# Find the table in the HTML\n",
    "table = soup.find(\"table\", {\"id\": \"functionalScreening\"})\n",
    "rows = table.find_all(\"tr\")\n",
    "\n",
    "# Track existing genes in the table\n",
    "existing_gene_ids = set()\n",
    "for row in rows[1:]:  # Skip the header row\n",
    "    cells = row.find_all(\"td\")\n",
    "    if len(cells) >= 2:  # Ensure the row has enough columns\n",
    "        gene_id = cells[4].get_text(strip=True)\n",
    "        existing_gene_ids.add(gene_id)\n",
    "\n",
    "# Add missing genes to the table\n",
    "for gene_name, gene_id in zip(unique_genes['Gene Name'], unique_genes['Gene']):\n",
    "    if gene_id not in existing_gene_ids:\n",
    "        # Create a new row\n",
    "        new_row = soup.new_tag(\"tr\")\n",
    "        \n",
    "        # Add cells to the row\n",
    "        for i in range(len(rows[0].find_all(\"th\"))):  # Match the number of columns in the header\n",
    "            new_cell = soup.new_tag(\"td\")\n",
    "            if i == 0:  # Gene Name column\n",
    "                new_cell.string = gene_name\n",
    "            elif i == 4:  # Gene ID column\n",
    "                new_cell.string = gene_id\n",
    "            else:  # Other columns\n",
    "                new_cell.string = \"\"\n",
    "            new_row.append(new_cell)\n",
    "        \n",
    "        # Append the new row to the table\n",
    "        table.append(new_row)\n",
    "\n",
    "# Save the modified HTML\n",
    "with open(\"../variance_genes.html\", \"w\", encoding=\"utf-8\") as file:\n",
    "    file.write(str(soup))\n",
    "\n",
    "print(\"Modified HTML saved as 'variance_genes.html'\")"
   ]
  },
  {
   "cell_type": "code",
   "execution_count": 18,
   "metadata": {},
   "outputs": [
    {
     "data": {
      "text/plain": [
       "{'ENSMUSG00000004473',\n",
       " 'ENSMUSG00000017969',\n",
       " 'ENSMUSG00000020376',\n",
       " 'ENSMUSG00000020963',\n",
       " 'ENSMUSG00000021895',\n",
       " 'ENSMUSG00000022221',\n",
       " 'ENSMUSG00000024164',\n",
       " 'ENSMUSG00000024529',\n",
       " 'ENSMUSG00000025089',\n",
       " 'ENSMUSG00000025092',\n",
       " 'ENSMUSG00000025194',\n",
       " 'ENSMUSG00000025268',\n",
       " 'ENSMUSG00000025498',\n",
       " 'ENSMUSG00000025810',\n",
       " 'ENSMUSG00000025889',\n",
       " 'ENSMUSG00000026365',\n",
       " 'ENSMUSG00000026463',\n",
       " 'ENSMUSG00000027514',\n",
       " 'ENSMUSG00000027820',\n",
       " 'ENSMUSG00000028037',\n",
       " 'ENSMUSG00000028268',\n",
       " 'ENSMUSG00000028270',\n",
       " 'ENSMUSG00000028972',\n",
       " 'ENSMUSG00000029561',\n",
       " 'ENSMUSG00000029838',\n",
       " 'ENSMUSG00000030107',\n",
       " 'ENSMUSG00000030921',\n",
       " 'ENSMUSG00000031209',\n",
       " 'ENSMUSG00000031297',\n",
       " 'ENSMUSG00000031845',\n",
       " 'ENSMUSG00000032625',\n",
       " 'ENSMUSG00000032690',\n",
       " 'ENSMUSG00000033207',\n",
       " 'ENSMUSG00000033355',\n",
       " 'ENSMUSG00000034459',\n",
       " 'ENSMUSG00000035246',\n",
       " 'ENSMUSG00000035775',\n",
       " 'ENSMUSG00000036192',\n",
       " 'ENSMUSG00000036381',\n",
       " 'ENSMUSG00000036523',\n",
       " 'ENSMUSG00000037206',\n",
       " 'ENSMUSG00000037405',\n",
       " 'ENSMUSG00000037922',\n",
       " 'ENSMUSG00000038305',\n",
       " 'ENSMUSG00000039542',\n",
       " 'ENSMUSG00000040170',\n",
       " 'ENSMUSG00000040264',\n",
       " 'ENSMUSG00000040464',\n",
       " 'ENSMUSG00000040483',\n",
       " 'ENSMUSG00000040728',\n",
       " 'ENSMUSG00000044217',\n",
       " 'ENSMUSG00000050875',\n",
       " 'ENSMUSG00000051497',\n",
       " 'ENSMUSG00000053318',\n",
       " 'ENSMUSG00000053965',\n",
       " 'ENSMUSG00000054072',\n",
       " 'ENSMUSG00000054266',\n",
       " 'ENSMUSG00000054932',\n",
       " 'ENSMUSG00000055737',\n",
       " 'ENSMUSG00000056220',\n",
       " 'ENSMUSG00000057836',\n",
       " 'ENSMUSG00000059412',\n",
       " 'ENSMUSG00000064373',\n",
       " 'ENSMUSG00000068245',\n",
       " 'ENSMUSG00000068246',\n",
       " 'ENSMUSG00000074151',\n",
       " 'ENSMUSG00000074653',\n",
       " 'ENSMUSG00000078922',\n",
       " 'ENSMUSG00000078952',\n",
       " 'ENSMUSG00000084762',\n",
       " 'ENSMUSG00000091971',\n",
       " 'ENSMUSG00000095180',\n",
       " 'ENSMUSG00000106334',\n",
       " 'ENSMUSG00000118607',\n",
       " 'ENSMUSG00000120364'}"
      ]
     },
     "execution_count": 18,
     "metadata": {},
     "output_type": "execute_result"
    }
   ],
   "source": [
    "unique_gene_ids"
   ]
  },
  {
   "cell_type": "code",
   "execution_count": 14,
   "metadata": {},
   "outputs": [
    {
     "data": {
      "text/plain": [
       "'c:\\\\Users\\\\ebowen\\\\Box\\\\Wu Lab\\\\Project - statin\\\\8. RNA-seq\\\\Elizabeth\\\\LW15 analysis\\\\LW15-Functional-Screening\\\\scripts'"
      ]
     },
     "execution_count": 14,
     "metadata": {},
     "output_type": "execute_result"
    }
   ],
   "source": [
    "import os\n",
    "os.getcwd()"
   ]
  },
  {
   "cell_type": "code",
   "execution_count": null,
   "metadata": {},
   "outputs": [],
   "source": [
    "table = soup.find(\"table\", id=\"functionalScreening\")\n",
    "table"
   ]
  },
  {
   "cell_type": "code",
   "execution_count": 9,
   "metadata": {},
   "outputs": [
    {
     "ename": "AttributeError",
     "evalue": "'NoneType' object has no attribute 'prettify'",
     "output_type": "error",
     "traceback": [
      "\u001b[31m---------------------------------------------------------------------------\u001b[39m",
      "\u001b[31mAttributeError\u001b[39m                            Traceback (most recent call last)",
      "\u001b[36mCell\u001b[39m\u001b[36m \u001b[39m\u001b[32mIn[9]\u001b[39m\u001b[32m, line 1\u001b[39m\n\u001b[32m----> \u001b[39m\u001b[32m1\u001b[39m \u001b[38;5;28mprint\u001b[39m(\u001b[43mtable\u001b[49m\u001b[43m.\u001b[49m\u001b[43mprettify\u001b[49m())\n",
      "\u001b[31mAttributeError\u001b[39m: 'NoneType' object has no attribute 'prettify'"
     ]
    }
   ],
   "source": [
    "print(table.prettify())"
   ]
  }
 ],
 "metadata": {
  "kernelspec": {
   "display_name": "Python 3",
   "language": "python",
   "name": "python3"
  },
  "language_info": {
   "codemirror_mode": {
    "name": "ipython",
    "version": 3
   },
   "file_extension": ".py",
   "mimetype": "text/x-python",
   "name": "python",
   "nbconvert_exporter": "python",
   "pygments_lexer": "ipython3",
   "version": "3.13.2"
  }
 },
 "nbformat": 4,
 "nbformat_minor": 2
}
