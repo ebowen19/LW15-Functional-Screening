{
 "cells": [
  {
   "cell_type": "code",
   "execution_count": 2,
   "id": "initial_id",
   "metadata": {
    "collapsed": true,
    "ExecuteTime": {
     "end_time": "2024-03-30T23:46:15.114275Z",
     "start_time": "2024-03-30T23:46:12.714848Z"
    }
   },
   "outputs": [
    {
     "data": {
      "text/plain": "'/Users/elizabeth 1/Library/CloudStorage/Box-Box/Wu Lab/Project - 2024/Functional screening/Elizabeth/LW15-Functional-Screening'"
     },
     "execution_count": 2,
     "metadata": {},
     "output_type": "execute_result"
    }
   ],
   "source": [
    "import os\n",
    "import pandas as pd\n",
    "\n",
    "os.chdir('..')\n",
    "os.getcwd()"
   ]
  },
  {
   "cell_type": "code",
   "outputs": [],
   "source": [
    "data = pd.read_html('index.html')[0]\n",
    "\n",
    "up_low = up_high = down_low = down_high = 0\n",
    "\n",
    "for index, row in data.iterrows():\n",
    "    if row[1] == \"Upregulated\":\n",
    "        if row[-2] == \"Low\":\n",
    "            up_low += 1\n",
    "        if row[-2] == \"High\":\n",
    "            up_high += 1\n",
    "    if row[1] == \"Downregulated\":\n",
    "        if row[-2] == \"Low\":\n",
    "            down_low += 1\n",
    "        if row[-2] == \"High\":\n",
    "            down_high += 1\n"
   ],
   "metadata": {
    "collapsed": false,
    "ExecuteTime": {
     "end_time": "2024-03-30T23:57:39.157951Z",
     "start_time": "2024-03-30T23:57:38.473617Z"
    }
   },
   "id": "bb545a92f7c288be",
   "execution_count": 7
  },
  {
   "cell_type": "code",
   "outputs": [
    {
     "name": "stdout",
     "output_type": "stream",
     "text": [
      "               High expression  Low expression\n",
      "Upregulated                 44              86\n",
      "Downregulated               11               7\n"
     ]
    }
   ],
   "source": [
    "comparison_stats = pd.DataFrame({'High expression':[up_high,down_high], 'Low expression':[up_low,down_low]})\n",
    "comparison_stats.index = ['Upregulated','Downregulated']\n",
    "print(comparison_stats)"
   ],
   "metadata": {
    "collapsed": false,
    "ExecuteTime": {
     "end_time": "2024-03-30T23:57:42.935361Z",
     "start_time": "2024-03-30T23:57:42.918934Z"
    }
   },
   "id": "1566320adb50cce0",
   "execution_count": 8
  },
  {
   "cell_type": "code",
   "outputs": [],
   "source": [
    "comparison_stats.to_html('TCGA/comparison_stats.html')"
   ],
   "metadata": {
    "collapsed": false,
    "ExecuteTime": {
     "end_time": "2024-03-30T23:59:35.919516Z",
     "start_time": "2024-03-30T23:59:35.831319Z"
    }
   },
   "id": "589ab4d66cb9eca1",
   "execution_count": 9
  }
 ],
 "metadata": {
  "kernelspec": {
   "name": "base",
   "language": "python",
   "display_name": "Python (base)"
  },
  "language_info": {
   "codemirror_mode": {
    "name": "ipython",
    "version": 2
   },
   "file_extension": ".py",
   "mimetype": "text/x-python",
   "name": "python",
   "nbconvert_exporter": "python",
   "pygments_lexer": "ipython2",
   "version": "2.7.6"
  }
 },
 "nbformat": 4,
 "nbformat_minor": 5
}
