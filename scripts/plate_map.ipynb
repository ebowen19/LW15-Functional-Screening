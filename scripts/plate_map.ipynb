{
 "cells": [
  {
   "cell_type": "code",
   "execution_count": 1,
   "id": "initial_id",
   "metadata": {
    "collapsed": true,
    "ExecuteTime": {
     "end_time": "2024-04-24T00:26:49.435878Z",
     "start_time": "2024-04-24T00:26:46.680538Z"
    }
   },
   "outputs": [],
   "source": [
    "import os\n",
    "import pandas as pd"
   ]
  },
  {
   "cell_type": "markdown",
   "source": [
    "Read in the data"
   ],
   "metadata": {
    "collapsed": false
   },
   "id": "4106bea7c46e965e"
  },
  {
   "cell_type": "code",
   "outputs": [],
   "source": [
    "data = pd.read_excel('/Users/elizabeth 1/Library/CloudStorage/Box-Box/Wu Lab/Project - 2024/Functional screening/240318_Natalie_Moe requested genes Query Sigma 226 for 162.xlsx')\n",
    "data = data.loc[:,['Quadrant/DNA plate #', 'Row', 'Col', 'Moe requested genes_Name']]"
   ],
   "metadata": {
    "collapsed": false,
    "ExecuteTime": {
     "end_time": "2024-04-24T02:09:35.002988Z",
     "start_time": "2024-04-24T02:09:19.590484Z"
    }
   },
   "id": "342926eb3fef5094",
   "execution_count": 77
  },
  {
   "cell_type": "code",
   "outputs": [
    {
     "data": {
      "text/plain": "     plate Row  Col     gene\n0      1.0   C    3    Ndrg2\n1      1.0   H    4   Ube2l6\n2      1.0   D    9     Dlx1\n3      1.0   H    1    Radil\n4      1.0   D    7     sord\n..     ...  ..  ...      ...\n221    NaN   D   12  poldip3\n222    NaN   A   10     Prph\n223    NaN   B   12      Ret\n224    NaN   C    8  Slc32a1\n225    NaN   A    4     tfrc\n\n[226 rows x 4 columns]",
      "text/html": "<div>\n<style scoped>\n    .dataframe tbody tr th:only-of-type {\n        vertical-align: middle;\n    }\n\n    .dataframe tbody tr th {\n        vertical-align: top;\n    }\n\n    .dataframe thead th {\n        text-align: right;\n    }\n</style>\n<table border=\"1\" class=\"dataframe\">\n  <thead>\n    <tr style=\"text-align: right;\">\n      <th></th>\n      <th>plate</th>\n      <th>Row</th>\n      <th>Col</th>\n      <th>gene</th>\n    </tr>\n  </thead>\n  <tbody>\n    <tr>\n      <th>0</th>\n      <td>1.0</td>\n      <td>C</td>\n      <td>3</td>\n      <td>Ndrg2</td>\n    </tr>\n    <tr>\n      <th>1</th>\n      <td>1.0</td>\n      <td>H</td>\n      <td>4</td>\n      <td>Ube2l6</td>\n    </tr>\n    <tr>\n      <th>2</th>\n      <td>1.0</td>\n      <td>D</td>\n      <td>9</td>\n      <td>Dlx1</td>\n    </tr>\n    <tr>\n      <th>3</th>\n      <td>1.0</td>\n      <td>H</td>\n      <td>1</td>\n      <td>Radil</td>\n    </tr>\n    <tr>\n      <th>4</th>\n      <td>1.0</td>\n      <td>D</td>\n      <td>7</td>\n      <td>sord</td>\n    </tr>\n    <tr>\n      <th>...</th>\n      <td>...</td>\n      <td>...</td>\n      <td>...</td>\n      <td>...</td>\n    </tr>\n    <tr>\n      <th>221</th>\n      <td>NaN</td>\n      <td>D</td>\n      <td>12</td>\n      <td>poldip3</td>\n    </tr>\n    <tr>\n      <th>222</th>\n      <td>NaN</td>\n      <td>A</td>\n      <td>10</td>\n      <td>Prph</td>\n    </tr>\n    <tr>\n      <th>223</th>\n      <td>NaN</td>\n      <td>B</td>\n      <td>12</td>\n      <td>Ret</td>\n    </tr>\n    <tr>\n      <th>224</th>\n      <td>NaN</td>\n      <td>C</td>\n      <td>8</td>\n      <td>Slc32a1</td>\n    </tr>\n    <tr>\n      <th>225</th>\n      <td>NaN</td>\n      <td>A</td>\n      <td>4</td>\n      <td>tfrc</td>\n    </tr>\n  </tbody>\n</table>\n<p>226 rows × 4 columns</p>\n</div>"
     },
     "execution_count": 80,
     "metadata": {},
     "output_type": "execute_result"
    }
   ],
   "source": [
    "data = data.rename(columns={'Quadrant/DNA plate #' : 'plate', 'Moe requested genes_Name' : 'gene'})\n",
    "data"
   ],
   "metadata": {
    "collapsed": false,
    "ExecuteTime": {
     "end_time": "2024-04-24T02:10:47.960385Z",
     "start_time": "2024-04-24T02:10:47.923383Z"
    }
   },
   "id": "bccd471f5f94525f",
   "execution_count": 80
  },
  {
   "cell_type": "code",
   "outputs": [
    {
     "name": "stdout",
     "output_type": "stream",
     "text": [
      "226\n",
      "192\n"
     ]
    }
   ],
   "source": [
    "print(len(data))\n",
    "# Use a Boolean condition directly to filter out rows where 'A' is not equal to 2\n",
    "data = data[(data['plate'] == 1.0) | (data['plate'] == 2.0)]       \n",
    "print(len(data))     "
   ],
   "metadata": {
    "collapsed": false,
    "ExecuteTime": {
     "end_time": "2024-04-24T02:08:42.488201Z",
     "start_time": "2024-04-24T02:08:42.467380Z"
    }
   },
   "id": "e14fd7617b3e0490",
   "execution_count": 74
  },
  {
   "cell_type": "markdown",
   "source": [
    "Create the Plate Map Dataframes"
   ],
   "metadata": {
    "collapsed": false
   },
   "id": "893fb9df841cb7e2"
  },
  {
   "cell_type": "code",
   "outputs": [],
   "source": [
    "cols = list(range(1,25)) # half-open range (start @ start, up to but not including stop) -- also used for list slicing & iteration/loops\n",
    "rows = [chr(i) for i in range(ord('A'), ord('H')+1)] # list comprehension\n",
    "# ord for ordinal --> numeric value assigned to a character, returns char's ASCII val. Go up to H+1 b/c of half-open range (any string char has an ASCII val)\n",
    "# chr(i) returns character that corresponds to the number, the numbers 'i' being the ASCII values from A-I"
   ],
   "metadata": {
    "collapsed": false,
    "ExecuteTime": {
     "end_time": "2024-04-24T02:08:46.802504Z",
     "start_time": "2024-04-24T02:08:46.785404Z"
    }
   },
   "id": "1a9a90ee584d39b2",
   "execution_count": 75
  },
  {
   "cell_type": "code",
   "outputs": [
    {
     "data": {
      "text/plain": "          1    2    3    4    5    6    7    8    9    10  ...   15   16   17  \\\nPlate 1                                                    ...                  \nA        NaN  NaN  NaN  NaN  NaN  NaN  NaN  NaN  NaN  NaN  ...  NaN  NaN  NaN   \nB        NaN  NaN  NaN  NaN  NaN  NaN  NaN  NaN  NaN  NaN  ...  NaN  NaN  NaN   \nC        NaN  NaN  NaN  NaN  NaN  NaN  NaN  NaN  NaN  NaN  ...  NaN  NaN  NaN   \nD        NaN  NaN  NaN  NaN  NaN  NaN  NaN  NaN  NaN  NaN  ...  NaN  NaN  NaN   \nE        NaN  NaN  NaN  NaN  NaN  NaN  NaN  NaN  NaN  NaN  ...  NaN  NaN  NaN   \nF        NaN  NaN  NaN  NaN  NaN  NaN  NaN  NaN  NaN  NaN  ...  NaN  NaN  NaN   \nG        NaN  NaN  NaN  NaN  NaN  NaN  NaN  NaN  NaN  NaN  ...  NaN  NaN  NaN   \nH        NaN  NaN  NaN  NaN  NaN  NaN  NaN  NaN  NaN  NaN  ...  NaN  NaN  NaN   \n\n          18   19   20   21   22   23   24  \nPlate 1                                     \nA        NaN  NaN  NaN  NaN  NaN  NaN  NaN  \nB        NaN  NaN  NaN  NaN  NaN  NaN  NaN  \nC        NaN  NaN  NaN  NaN  NaN  NaN  NaN  \nD        NaN  NaN  NaN  NaN  NaN  NaN  NaN  \nE        NaN  NaN  NaN  NaN  NaN  NaN  NaN  \nF        NaN  NaN  NaN  NaN  NaN  NaN  NaN  \nG        NaN  NaN  NaN  NaN  NaN  NaN  NaN  \nH        NaN  NaN  NaN  NaN  NaN  NaN  NaN  \n\n[8 rows x 24 columns]",
      "text/html": "<div>\n<style scoped>\n    .dataframe tbody tr th:only-of-type {\n        vertical-align: middle;\n    }\n\n    .dataframe tbody tr th {\n        vertical-align: top;\n    }\n\n    .dataframe thead th {\n        text-align: right;\n    }\n</style>\n<table border=\"1\" class=\"dataframe\">\n  <thead>\n    <tr style=\"text-align: right;\">\n      <th></th>\n      <th>1</th>\n      <th>2</th>\n      <th>3</th>\n      <th>4</th>\n      <th>5</th>\n      <th>6</th>\n      <th>7</th>\n      <th>8</th>\n      <th>9</th>\n      <th>10</th>\n      <th>...</th>\n      <th>15</th>\n      <th>16</th>\n      <th>17</th>\n      <th>18</th>\n      <th>19</th>\n      <th>20</th>\n      <th>21</th>\n      <th>22</th>\n      <th>23</th>\n      <th>24</th>\n    </tr>\n    <tr>\n      <th>Plate 1</th>\n      <th></th>\n      <th></th>\n      <th></th>\n      <th></th>\n      <th></th>\n      <th></th>\n      <th></th>\n      <th></th>\n      <th></th>\n      <th></th>\n      <th></th>\n      <th></th>\n      <th></th>\n      <th></th>\n      <th></th>\n      <th></th>\n      <th></th>\n      <th></th>\n      <th></th>\n      <th></th>\n      <th></th>\n    </tr>\n  </thead>\n  <tbody>\n    <tr>\n      <th>A</th>\n      <td>NaN</td>\n      <td>NaN</td>\n      <td>NaN</td>\n      <td>NaN</td>\n      <td>NaN</td>\n      <td>NaN</td>\n      <td>NaN</td>\n      <td>NaN</td>\n      <td>NaN</td>\n      <td>NaN</td>\n      <td>...</td>\n      <td>NaN</td>\n      <td>NaN</td>\n      <td>NaN</td>\n      <td>NaN</td>\n      <td>NaN</td>\n      <td>NaN</td>\n      <td>NaN</td>\n      <td>NaN</td>\n      <td>NaN</td>\n      <td>NaN</td>\n    </tr>\n    <tr>\n      <th>B</th>\n      <td>NaN</td>\n      <td>NaN</td>\n      <td>NaN</td>\n      <td>NaN</td>\n      <td>NaN</td>\n      <td>NaN</td>\n      <td>NaN</td>\n      <td>NaN</td>\n      <td>NaN</td>\n      <td>NaN</td>\n      <td>...</td>\n      <td>NaN</td>\n      <td>NaN</td>\n      <td>NaN</td>\n      <td>NaN</td>\n      <td>NaN</td>\n      <td>NaN</td>\n      <td>NaN</td>\n      <td>NaN</td>\n      <td>NaN</td>\n      <td>NaN</td>\n    </tr>\n    <tr>\n      <th>C</th>\n      <td>NaN</td>\n      <td>NaN</td>\n      <td>NaN</td>\n      <td>NaN</td>\n      <td>NaN</td>\n      <td>NaN</td>\n      <td>NaN</td>\n      <td>NaN</td>\n      <td>NaN</td>\n      <td>NaN</td>\n      <td>...</td>\n      <td>NaN</td>\n      <td>NaN</td>\n      <td>NaN</td>\n      <td>NaN</td>\n      <td>NaN</td>\n      <td>NaN</td>\n      <td>NaN</td>\n      <td>NaN</td>\n      <td>NaN</td>\n      <td>NaN</td>\n    </tr>\n    <tr>\n      <th>D</th>\n      <td>NaN</td>\n      <td>NaN</td>\n      <td>NaN</td>\n      <td>NaN</td>\n      <td>NaN</td>\n      <td>NaN</td>\n      <td>NaN</td>\n      <td>NaN</td>\n      <td>NaN</td>\n      <td>NaN</td>\n      <td>...</td>\n      <td>NaN</td>\n      <td>NaN</td>\n      <td>NaN</td>\n      <td>NaN</td>\n      <td>NaN</td>\n      <td>NaN</td>\n      <td>NaN</td>\n      <td>NaN</td>\n      <td>NaN</td>\n      <td>NaN</td>\n    </tr>\n    <tr>\n      <th>E</th>\n      <td>NaN</td>\n      <td>NaN</td>\n      <td>NaN</td>\n      <td>NaN</td>\n      <td>NaN</td>\n      <td>NaN</td>\n      <td>NaN</td>\n      <td>NaN</td>\n      <td>NaN</td>\n      <td>NaN</td>\n      <td>...</td>\n      <td>NaN</td>\n      <td>NaN</td>\n      <td>NaN</td>\n      <td>NaN</td>\n      <td>NaN</td>\n      <td>NaN</td>\n      <td>NaN</td>\n      <td>NaN</td>\n      <td>NaN</td>\n      <td>NaN</td>\n    </tr>\n    <tr>\n      <th>F</th>\n      <td>NaN</td>\n      <td>NaN</td>\n      <td>NaN</td>\n      <td>NaN</td>\n      <td>NaN</td>\n      <td>NaN</td>\n      <td>NaN</td>\n      <td>NaN</td>\n      <td>NaN</td>\n      <td>NaN</td>\n      <td>...</td>\n      <td>NaN</td>\n      <td>NaN</td>\n      <td>NaN</td>\n      <td>NaN</td>\n      <td>NaN</td>\n      <td>NaN</td>\n      <td>NaN</td>\n      <td>NaN</td>\n      <td>NaN</td>\n      <td>NaN</td>\n    </tr>\n    <tr>\n      <th>G</th>\n      <td>NaN</td>\n      <td>NaN</td>\n      <td>NaN</td>\n      <td>NaN</td>\n      <td>NaN</td>\n      <td>NaN</td>\n      <td>NaN</td>\n      <td>NaN</td>\n      <td>NaN</td>\n      <td>NaN</td>\n      <td>...</td>\n      <td>NaN</td>\n      <td>NaN</td>\n      <td>NaN</td>\n      <td>NaN</td>\n      <td>NaN</td>\n      <td>NaN</td>\n      <td>NaN</td>\n      <td>NaN</td>\n      <td>NaN</td>\n      <td>NaN</td>\n    </tr>\n    <tr>\n      <th>H</th>\n      <td>NaN</td>\n      <td>NaN</td>\n      <td>NaN</td>\n      <td>NaN</td>\n      <td>NaN</td>\n      <td>NaN</td>\n      <td>NaN</td>\n      <td>NaN</td>\n      <td>NaN</td>\n      <td>NaN</td>\n      <td>...</td>\n      <td>NaN</td>\n      <td>NaN</td>\n      <td>NaN</td>\n      <td>NaN</td>\n      <td>NaN</td>\n      <td>NaN</td>\n      <td>NaN</td>\n      <td>NaN</td>\n      <td>NaN</td>\n      <td>NaN</td>\n    </tr>\n  </tbody>\n</table>\n<p>8 rows × 24 columns</p>\n</div>"
     },
     "execution_count": 76,
     "metadata": {},
     "output_type": "execute_result"
    }
   ],
   "source": [
    "# create empty dataframes\n",
    "plate_1 = pd.DataFrame(index=rows, columns=cols)\n",
    "plate_2 = pd.DataFrame(index=rows, columns=cols) # can't se it equal to plate_1 bc plate_2 will be a variable pointing to plate_1, so any changes in plate_2 will be reflected in plate_1 and vice versa\n",
    "plate_1.index.name = 'Plate 1'\n",
    "plate_2.index.name = 'Plate 2'\n",
    "plate_1"
   ],
   "metadata": {
    "collapsed": false,
    "ExecuteTime": {
     "end_time": "2024-04-24T02:08:48.791879Z",
     "start_time": "2024-04-24T02:08:48.762353Z"
    }
   },
   "id": "d93b42bf2298d17b",
   "execution_count": 76
  },
  {
   "cell_type": "code",
   "outputs": [
    {
     "data": {
      "text/plain": "dtype('int64')"
     },
     "execution_count": 82,
     "metadata": {},
     "output_type": "execute_result"
    }
   ],
   "source": [
    "data['Col'].dtype"
   ],
   "metadata": {
    "collapsed": false,
    "ExecuteTime": {
     "end_time": "2024-04-24T02:12:04.232839Z",
     "start_time": "2024-04-24T02:12:04.214520Z"
    }
   },
   "id": "183dc28ca44d5c42",
   "execution_count": 82
  },
  {
   "cell_type": "code",
   "outputs": [
    {
     "data": {
      "text/plain": "               1          2         3       4       5       6       7   \\\nPlate 1                                                                  \nA             NaN  Rab11fip4       NaN  Fbxo17     NaN    Bcam     NaN   \nB        Slc9a3r2        NaN   Lurap1l     NaN    Osr2    Rpia     NaN   \nC         Ccdc85c       Tcf7  Calcoco2   Tubg2     Ret  Gpr157  Higd1a   \nD             NaN    B4galt3       NaN  Ptpn18     NaN     NaN   Enpep   \nE             NaN        NaN     Esrrb   Tead2  Igfbp2    Igf2   Batf3   \nF          Slc2a3     Higd1a      Lhx6     NaN    Cib2    myo6   Mypop   \nG             Sp6        NaN      Glo1    Wnt4     NaN    Npr2    Npr3   \nH            Npr2       Npr2       NaN  Ube2l6     Fes     NaN  Higd1a   \n\n              8        9       10  ...   15   16   17   18   19   20   21  \\\nPlate 1                            ...                                      \nA        Slc29a4      NaN     NaN  ...  NaN  NaN  NaN  NaN  NaN  NaN  NaN   \nB           Mdfi  Spata2l   Amhr2  ...  NaN  NaN  NaN  NaN  NaN  NaN  NaN   \nC            NaN      NaN     NaN  ...  NaN  NaN  NaN  NaN  NaN  NaN  NaN   \nD         Eps8l2  Txndc16    Aig1  ...  NaN  NaN  NaN  NaN  NaN  NaN  NaN   \nE            NaN   Gpr157    Gfer  ...  NaN  NaN  NaN  NaN  NaN  NaN  NaN   \nF          Nxph4  Smarcd1   Gsta3  ...  NaN  NaN  NaN  NaN  NaN  NaN  NaN   \nG          Foxa3   Sema4d  Tex101  ...  NaN  NaN  NaN  NaN  NaN  NaN  NaN   \nH            NaN     Lcn2     vim  ...  NaN  NaN  NaN  NaN  NaN  NaN  NaN   \n\n          22   23   24  \nPlate 1                 \nA        NaN  NaN  NaN  \nB        NaN  NaN  NaN  \nC        NaN  NaN  NaN  \nD        NaN  NaN  NaN  \nE        NaN  NaN  NaN  \nF        NaN  NaN  NaN  \nG        NaN  NaN  NaN  \nH        NaN  NaN  NaN  \n\n[8 rows x 24 columns]",
      "text/html": "<div>\n<style scoped>\n    .dataframe tbody tr th:only-of-type {\n        vertical-align: middle;\n    }\n\n    .dataframe tbody tr th {\n        vertical-align: top;\n    }\n\n    .dataframe thead th {\n        text-align: right;\n    }\n</style>\n<table border=\"1\" class=\"dataframe\">\n  <thead>\n    <tr style=\"text-align: right;\">\n      <th></th>\n      <th>1</th>\n      <th>2</th>\n      <th>3</th>\n      <th>4</th>\n      <th>5</th>\n      <th>6</th>\n      <th>7</th>\n      <th>8</th>\n      <th>9</th>\n      <th>10</th>\n      <th>...</th>\n      <th>15</th>\n      <th>16</th>\n      <th>17</th>\n      <th>18</th>\n      <th>19</th>\n      <th>20</th>\n      <th>21</th>\n      <th>22</th>\n      <th>23</th>\n      <th>24</th>\n    </tr>\n    <tr>\n      <th>Plate 1</th>\n      <th></th>\n      <th></th>\n      <th></th>\n      <th></th>\n      <th></th>\n      <th></th>\n      <th></th>\n      <th></th>\n      <th></th>\n      <th></th>\n      <th></th>\n      <th></th>\n      <th></th>\n      <th></th>\n      <th></th>\n      <th></th>\n      <th></th>\n      <th></th>\n      <th></th>\n      <th></th>\n      <th></th>\n    </tr>\n  </thead>\n  <tbody>\n    <tr>\n      <th>A</th>\n      <td>NaN</td>\n      <td>Rab11fip4</td>\n      <td>NaN</td>\n      <td>Fbxo17</td>\n      <td>NaN</td>\n      <td>Bcam</td>\n      <td>NaN</td>\n      <td>Slc29a4</td>\n      <td>NaN</td>\n      <td>NaN</td>\n      <td>...</td>\n      <td>NaN</td>\n      <td>NaN</td>\n      <td>NaN</td>\n      <td>NaN</td>\n      <td>NaN</td>\n      <td>NaN</td>\n      <td>NaN</td>\n      <td>NaN</td>\n      <td>NaN</td>\n      <td>NaN</td>\n    </tr>\n    <tr>\n      <th>B</th>\n      <td>Slc9a3r2</td>\n      <td>NaN</td>\n      <td>Lurap1l</td>\n      <td>NaN</td>\n      <td>Osr2</td>\n      <td>Rpia</td>\n      <td>NaN</td>\n      <td>Mdfi</td>\n      <td>Spata2l</td>\n      <td>Amhr2</td>\n      <td>...</td>\n      <td>NaN</td>\n      <td>NaN</td>\n      <td>NaN</td>\n      <td>NaN</td>\n      <td>NaN</td>\n      <td>NaN</td>\n      <td>NaN</td>\n      <td>NaN</td>\n      <td>NaN</td>\n      <td>NaN</td>\n    </tr>\n    <tr>\n      <th>C</th>\n      <td>Ccdc85c</td>\n      <td>Tcf7</td>\n      <td>Calcoco2</td>\n      <td>Tubg2</td>\n      <td>Ret</td>\n      <td>Gpr157</td>\n      <td>Higd1a</td>\n      <td>NaN</td>\n      <td>NaN</td>\n      <td>NaN</td>\n      <td>...</td>\n      <td>NaN</td>\n      <td>NaN</td>\n      <td>NaN</td>\n      <td>NaN</td>\n      <td>NaN</td>\n      <td>NaN</td>\n      <td>NaN</td>\n      <td>NaN</td>\n      <td>NaN</td>\n      <td>NaN</td>\n    </tr>\n    <tr>\n      <th>D</th>\n      <td>NaN</td>\n      <td>B4galt3</td>\n      <td>NaN</td>\n      <td>Ptpn18</td>\n      <td>NaN</td>\n      <td>NaN</td>\n      <td>Enpep</td>\n      <td>Eps8l2</td>\n      <td>Txndc16</td>\n      <td>Aig1</td>\n      <td>...</td>\n      <td>NaN</td>\n      <td>NaN</td>\n      <td>NaN</td>\n      <td>NaN</td>\n      <td>NaN</td>\n      <td>NaN</td>\n      <td>NaN</td>\n      <td>NaN</td>\n      <td>NaN</td>\n      <td>NaN</td>\n    </tr>\n    <tr>\n      <th>E</th>\n      <td>NaN</td>\n      <td>NaN</td>\n      <td>Esrrb</td>\n      <td>Tead2</td>\n      <td>Igfbp2</td>\n      <td>Igf2</td>\n      <td>Batf3</td>\n      <td>NaN</td>\n      <td>Gpr157</td>\n      <td>Gfer</td>\n      <td>...</td>\n      <td>NaN</td>\n      <td>NaN</td>\n      <td>NaN</td>\n      <td>NaN</td>\n      <td>NaN</td>\n      <td>NaN</td>\n      <td>NaN</td>\n      <td>NaN</td>\n      <td>NaN</td>\n      <td>NaN</td>\n    </tr>\n    <tr>\n      <th>F</th>\n      <td>Slc2a3</td>\n      <td>Higd1a</td>\n      <td>Lhx6</td>\n      <td>NaN</td>\n      <td>Cib2</td>\n      <td>myo6</td>\n      <td>Mypop</td>\n      <td>Nxph4</td>\n      <td>Smarcd1</td>\n      <td>Gsta3</td>\n      <td>...</td>\n      <td>NaN</td>\n      <td>NaN</td>\n      <td>NaN</td>\n      <td>NaN</td>\n      <td>NaN</td>\n      <td>NaN</td>\n      <td>NaN</td>\n      <td>NaN</td>\n      <td>NaN</td>\n      <td>NaN</td>\n    </tr>\n    <tr>\n      <th>G</th>\n      <td>Sp6</td>\n      <td>NaN</td>\n      <td>Glo1</td>\n      <td>Wnt4</td>\n      <td>NaN</td>\n      <td>Npr2</td>\n      <td>Npr3</td>\n      <td>Foxa3</td>\n      <td>Sema4d</td>\n      <td>Tex101</td>\n      <td>...</td>\n      <td>NaN</td>\n      <td>NaN</td>\n      <td>NaN</td>\n      <td>NaN</td>\n      <td>NaN</td>\n      <td>NaN</td>\n      <td>NaN</td>\n      <td>NaN</td>\n      <td>NaN</td>\n      <td>NaN</td>\n    </tr>\n    <tr>\n      <th>H</th>\n      <td>Npr2</td>\n      <td>Npr2</td>\n      <td>NaN</td>\n      <td>Ube2l6</td>\n      <td>Fes</td>\n      <td>NaN</td>\n      <td>Higd1a</td>\n      <td>NaN</td>\n      <td>Lcn2</td>\n      <td>vim</td>\n      <td>...</td>\n      <td>NaN</td>\n      <td>NaN</td>\n      <td>NaN</td>\n      <td>NaN</td>\n      <td>NaN</td>\n      <td>NaN</td>\n      <td>NaN</td>\n      <td>NaN</td>\n      <td>NaN</td>\n      <td>NaN</td>\n    </tr>\n  </tbody>\n</table>\n<p>8 rows × 24 columns</p>\n</div>"
     },
     "execution_count": 83,
     "metadata": {},
     "output_type": "execute_result"
    }
   ],
   "source": [
    "for index, row in data.iterrows():\n",
    "    plate = row['plate']\n",
    "    gene = row['gene']   \n",
    "    plate_row = row['Row'] \n",
    "    plate_col = row['Col']\n",
    "    \n",
    "    if plate == 1.0:\n",
    "        plate_1.loc[plate_row,plate_col] = gene # use loc instead of iloc to access by index name instead of #\n",
    "    elif plate == 2.0:\n",
    "        plate_2.loc[plate_row,plate_col] = gene\n",
    "        \n",
    "plate_1\n",
    "        "
   ],
   "metadata": {
    "collapsed": false,
    "ExecuteTime": {
     "end_time": "2024-04-24T02:12:11.988120Z",
     "start_time": "2024-04-24T02:12:11.930914Z"
    }
   },
   "id": "70a4893b3b06f475",
   "execution_count": 83
  },
  {
   "cell_type": "code",
   "outputs": [],
   "source": [
    "# save the unlinked plate maps\n",
    "os.chdir('/Users/elizabeth 1/Library/CloudStorage/Box-Box/Wu Lab/Project - statin/8. RNA-seq/Elizabeth/LW15 analysis/LW15-Functional-Screening/plate_map')\n",
    "plate_1.to_html('plate_1.html')\n",
    "plate_2.to_html('plate_2.html')"
   ],
   "metadata": {
    "collapsed": false,
    "ExecuteTime": {
     "end_time": "2024-04-24T02:12:31.328303Z",
     "start_time": "2024-04-24T02:12:31.294899Z"
    }
   },
   "id": "9613919684ba2664",
   "execution_count": 84
  },
  {
   "cell_type": "markdown",
   "source": [
    "### Troubleshooting\n",
    "check how many duplicate well instances there are"
   ],
   "metadata": {
    "collapsed": false
   },
   "id": "f7aeb5d33fc69c6f"
  },
  {
   "cell_type": "code",
   "outputs": [
    {
     "data": {
      "text/plain": "     plate Row  Col     gene\n0      1.0   C    3    Ndrg2\n1      1.0   H    4   Ube2l6\n2      1.0   D    9     Dlx1\n3      1.0   H    1    Radil\n4      1.0   D    7     sord\n..     ...  ..  ...      ...\n221    NaN   D   12  poldip3\n222    NaN   A   10     Prph\n223    NaN   B   12      Ret\n224    NaN   C    8  Slc32a1\n225    NaN   A    4     tfrc\n\n[226 rows x 4 columns]",
      "text/html": "<div>\n<style scoped>\n    .dataframe tbody tr th:only-of-type {\n        vertical-align: middle;\n    }\n\n    .dataframe tbody tr th {\n        vertical-align: top;\n    }\n\n    .dataframe thead th {\n        text-align: right;\n    }\n</style>\n<table border=\"1\" class=\"dataframe\">\n  <thead>\n    <tr style=\"text-align: right;\">\n      <th></th>\n      <th>plate</th>\n      <th>Row</th>\n      <th>Col</th>\n      <th>gene</th>\n    </tr>\n  </thead>\n  <tbody>\n    <tr>\n      <th>0</th>\n      <td>1.0</td>\n      <td>C</td>\n      <td>3</td>\n      <td>Ndrg2</td>\n    </tr>\n    <tr>\n      <th>1</th>\n      <td>1.0</td>\n      <td>H</td>\n      <td>4</td>\n      <td>Ube2l6</td>\n    </tr>\n    <tr>\n      <th>2</th>\n      <td>1.0</td>\n      <td>D</td>\n      <td>9</td>\n      <td>Dlx1</td>\n    </tr>\n    <tr>\n      <th>3</th>\n      <td>1.0</td>\n      <td>H</td>\n      <td>1</td>\n      <td>Radil</td>\n    </tr>\n    <tr>\n      <th>4</th>\n      <td>1.0</td>\n      <td>D</td>\n      <td>7</td>\n      <td>sord</td>\n    </tr>\n    <tr>\n      <th>...</th>\n      <td>...</td>\n      <td>...</td>\n      <td>...</td>\n      <td>...</td>\n    </tr>\n    <tr>\n      <th>221</th>\n      <td>NaN</td>\n      <td>D</td>\n      <td>12</td>\n      <td>poldip3</td>\n    </tr>\n    <tr>\n      <th>222</th>\n      <td>NaN</td>\n      <td>A</td>\n      <td>10</td>\n      <td>Prph</td>\n    </tr>\n    <tr>\n      <th>223</th>\n      <td>NaN</td>\n      <td>B</td>\n      <td>12</td>\n      <td>Ret</td>\n    </tr>\n    <tr>\n      <th>224</th>\n      <td>NaN</td>\n      <td>C</td>\n      <td>8</td>\n      <td>Slc32a1</td>\n    </tr>\n    <tr>\n      <th>225</th>\n      <td>NaN</td>\n      <td>A</td>\n      <td>4</td>\n      <td>tfrc</td>\n    </tr>\n  </tbody>\n</table>\n<p>226 rows × 4 columns</p>\n</div>"
     },
     "execution_count": 85,
     "metadata": {},
     "output_type": "execute_result"
    }
   ],
   "source": [
    "data"
   ],
   "metadata": {
    "collapsed": false,
    "ExecuteTime": {
     "end_time": "2024-04-24T03:01:47.594730Z",
     "start_time": "2024-04-24T03:01:47.547415Z"
    }
   },
   "id": "98ba1dfb760433cf",
   "execution_count": 85
  },
  {
   "cell_type": "code",
   "outputs": [],
   "source": [
    "data_1 = data[data['plate'] == 1.0] \n",
    "data_2 = data[data['plate'] == 2.0]       "
   ],
   "metadata": {
    "collapsed": false,
    "ExecuteTime": {
     "end_time": "2024-04-24T03:04:25.201574Z",
     "start_time": "2024-04-24T03:04:25.102453Z"
    }
   },
   "id": "2f11bd255ecf8ecb",
   "execution_count": 86
  },
  {
   "cell_type": "markdown",
   "source": [
    "note:\n",
    "- if there were to be a full plate map, there's 8*24 = 192 wells per plate. \n",
    "- but the data var with plates 1&2 has 226 rows (should have 384 if complete)\n",
    "- and each plate 1 and plate 2 have 96 rows, respectively"
   ],
   "metadata": {
    "collapsed": false
   },
   "id": "4fe33b944dbc88da"
  },
  {
   "cell_type": "code",
   "outputs": [
    {
     "name": "stdout",
     "output_type": "stream",
     "text": [
      "C3 2\n",
      "D9 3\n",
      "H1 2\n",
      "D7 2\n",
      "H11 2\n",
      "D11 2\n",
      "B5 2\n",
      "A11 3\n",
      "D12 2\n",
      "C5 3\n",
      "A2 2\n",
      "G7 5\n",
      "F6 2\n",
      "E11 2\n",
      "H7 2\n",
      "D4 2\n",
      "E9 2\n",
      "G1 2\n",
      "C2 2\n",
      "F8 2\n",
      "F1 2\n",
      "E12 2\n",
      "B8 2\n",
      "B6 2\n",
      "F2 2\n"
     ]
    }
   ],
   "source": [
    "wells = []\n",
    "for index, row in data_1.iterrows():\n",
    "    row_name = row['Row']\n",
    "    col_name = str(row['Col'])\n",
    "    well = row_name + col_name\n",
    "    wells.append(well)\n",
    "    \n",
    "\n",
    "counts_dict = {}\n",
    "\n",
    "for well in wells:\n",
    "    if well not in counts_dict:\n",
    "        counts_dict[well] = 1\n",
    "    else:\n",
    "        counts_dict[well] += 1\n",
    "\n",
    "for well, num in counts_dict.items():\n",
    "    if num >1:\n",
    "        print(well, num)"
   ],
   "metadata": {
    "collapsed": false,
    "ExecuteTime": {
     "end_time": "2024-04-24T03:21:13.621932Z",
     "start_time": "2024-04-24T03:21:13.503476Z"
    }
   },
   "id": "83b5a7df137156e7",
   "execution_count": 91
  },
  {
   "cell_type": "code",
   "outputs": [
    {
     "name": "stdout",
     "output_type": "stream",
     "text": [
      "F10 [101, 106, 146, 183]\n",
      "D2 [102, 131, 136, 141, 163]\n",
      "F4 [103, 126, 151, 158]\n",
      "G11 [104, 119]\n",
      "E3 [105, 169]\n",
      "B6 [108, 153]\n",
      "F6 [109, 129]\n",
      "H5 [111, 114]\n",
      "A9 [112, 145]\n",
      "D3 [115, 157, 166]\n",
      "D9 [116, 188]\n",
      "C7 [117, 124, 134, 154]\n",
      "B12 [123, 133]\n",
      "D6 [125, 127]\n",
      "H4 [130, 132, 182]\n",
      "H9 [139, 143]\n",
      "E4 [142, 191]\n",
      "A8 [144, 162, 172]\n",
      "A6 [152, 161]\n",
      "A1 [171, 190]\n",
      "E2 [173, 181]\n",
      "D7 [178, 187]\n"
     ]
    }
   ],
   "source": [
    "def duplicate_wells(plate):\n",
    "    wells = {}\n",
    "    for index, row in plate.iterrows():\n",
    "        # print(row)\n",
    "        row_name = row['Row']\n",
    "        col_name = str(row['Col'])\n",
    "        well = row_name + col_name\n",
    "        wells[index] = well\n",
    "    \n",
    "    counts_dict = {} # {A1:\n",
    "    \n",
    "    for index, well in wells.items():\n",
    "        if well in counts_dict:\n",
    "            counts_dict[well].append(index)\n",
    "        else:\n",
    "            counts_dict[well] = []\n",
    "            counts_dict[well].append(index)\n",
    "    \n",
    "    for well, indices in counts_dict.items():\n",
    "       indices = [index + 2 for index in indices] # update by 2 to correct for the indexing\n",
    "       counts_dict[well] = indices\n",
    "    \n",
    "    for well, indices in counts_dict.items():\n",
    "        if len(indices) > 1:\n",
    "            print(well, indices)\n",
    "            \n",
    "duplicate_wells(data_2)\n"
   ],
   "metadata": {
    "collapsed": false,
    "ExecuteTime": {
     "end_time": "2024-04-24T04:12:41.042591Z",
     "start_time": "2024-04-24T04:12:40.966790Z"
    }
   },
   "id": "2cbc5468b64da834",
   "execution_count": 118
  },
  {
   "cell_type": "code",
   "outputs": [
    {
     "name": "stdout",
     "output_type": "stream",
     "text": [
      "C3 [2, 93]\n",
      "D9 [4, 61, 74]\n",
      "H1 [5, 20]\n",
      "D7 [6, 83]\n",
      "H11 [7, 63]\n",
      "D11 [8, 71]\n",
      "B5 [9, 35]\n",
      "A11 [10, 58, 65]\n",
      "D12 [11, 80]\n",
      "C5 [13, 32, 37]\n",
      "A2 [15, 89]\n",
      "G7 [18, 33, 60, 76, 88]\n",
      "F6 [22, 95]\n",
      "E11 [27, 86]\n",
      "H7 [34, 72]\n",
      "D4 [38, 73]\n",
      "E9 [39, 56]\n",
      "G1 [41, 82]\n",
      "C2 [42, 52]\n",
      "F8 [50, 59]\n",
      "F1 [54, 64]\n",
      "E12 [57, 85]\n",
      "B8 [62, 94]\n",
      "B6 [70, 84]\n",
      "F2 [96, 97]\n"
     ]
    }
   ],
   "source": [
    "duplicate_wells(data_1)"
   ],
   "metadata": {
    "collapsed": false,
    "ExecuteTime": {
     "end_time": "2024-04-24T04:13:02.280144Z",
     "start_time": "2024-04-24T04:13:02.223385Z"
    }
   },
   "id": "b406ae04c9d182f9",
   "execution_count": 119
  },
  {
   "cell_type": "code",
   "outputs": [
    {
     "data": {
      "text/plain": "[6, 7, 8, 9]"
     },
     "execution_count": 110,
     "metadata": {},
     "output_type": "execute_result"
    }
   ],
   "source": [
    "list = [1,2,3,4]\n",
    "[item + 5 for item in list]"
   ],
   "metadata": {
    "collapsed": false,
    "ExecuteTime": {
     "end_time": "2024-04-24T03:53:18.192268Z",
     "start_time": "2024-04-24T03:53:18.142832Z"
    }
   },
   "id": "dc3dfb583b6c4957",
   "execution_count": 110
  }
 ],
 "metadata": {
  "kernelspec": {
   "display_name": "Python 3",
   "language": "python",
   "name": "python3"
  },
  "language_info": {
   "codemirror_mode": {
    "name": "ipython",
    "version": 2
   },
   "file_extension": ".py",
   "mimetype": "text/x-python",
   "name": "python",
   "nbconvert_exporter": "python",
   "pygments_lexer": "ipython2",
   "version": "2.7.6"
  }
 },
 "nbformat": 4,
 "nbformat_minor": 5
}
