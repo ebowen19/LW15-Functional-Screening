{
 "cells": [
  {
   "cell_type": "code",
   "execution_count": 139,
   "id": "initial_id",
   "metadata": {
    "collapsed": true,
    "ExecuteTime": {
     "end_time": "2024-04-30T01:30:02.934105Z",
     "start_time": "2024-04-30T01:30:02.897250Z"
    }
   },
   "outputs": [],
   "source": [
    "import os\n",
    "import pandas as pd"
   ]
  },
  {
   "cell_type": "markdown",
   "source": [
    "Read in the data"
   ],
   "metadata": {
    "collapsed": false
   },
   "id": "4106bea7c46e965e"
  },
  {
   "cell_type": "code",
   "outputs": [
    {
     "data": {
      "text/plain": "    DNA plate well     OD  Quadrant/DNA plate #  Vol of DNA for 20 ng/ul  \\\n0               A1  0.539                   1.0                12.334962   \n1              A11  0.490                   1.0                11.293759   \n2              A13  0.533                   1.0                13.215395   \n3              A15  0.513                   1.0                14.655386   \n4              A17  0.468                   1.0                12.892080   \n..             ...    ...                   ...                      ...   \n221            NaN    NaN                   NaN                      NaN   \n222            NaN    NaN                   NaN                      NaN   \n223            NaN    NaN                   NaN                      NaN   \n224            NaN    NaN                   NaN                      NaN   \n225            NaN    NaN                   NaN                      NaN   \n\n    Unnamed: 4  Unnamed: 5 Unnamed: 6  NCBI Gene ID             Ensembl  \\\n0       C-1F05           1   BAA-3C03         29811  ENSMUSG00000004558   \n1       C-1O07           1   BAA-1H04         56791  ENSMUSG00000027078   \n2      C-21G18          21  BAA-82D09         13390  ENSMUSG00000041911   \n3       C-1P01           1   BAA-3H01        231858  ENSMUSG00000029576   \n4      C-21H13          21  BAA-83D07         20322  ENSMUSG00000027227   \n..         ...         ...        ...           ...                 ...   \n221    C-46H24          46  BAB-85D12         73826  ENSMUSG00000041815   \n222    C-10A20          10  BAA-38A10         19132  ENSMUSG00000023484   \n223    C-37D24          37  BAB-49B12         19713  ENSMUSG00000030110   \n224    C-27F15          27   BAB-8C08         22348  ENSMUSG00000037771   \n225     C-4A08           4  BAA-14A04         22042  ENSMUSG00000022797   \n\n    Moe requested genes_Name  ...  \\\n0                      Ndrg2  ...   \n1                     Ube2l6  ...   \n2                       Dlx1  ...   \n3                      Radil  ...   \n4                       sord  ...   \n..                       ...  ...   \n221                  poldip3  ...   \n222                     Prph  ...   \n223                      Ret  ...   \n224                  Slc32a1  ...   \n225                     tfrc  ...   \n\n                                               5_Flank  \\\n0    tcttccatttcaggtgtcgtgaggctagcatcgattgatcaacaag...   \n1    tcttccatttcaggtgtcgtgaggctagcatcgattgatcaacaag...   \n2    tcttccatttcaggtgtcgtgaggctagcatcgattgatcaacaag...   \n3    tcttccatttcaggtgtcgtgaggctagcatcgattgatcaacaag...   \n4    tcttccatttcaggtgtcgtgaggctagcatcgattgatcaacaag...   \n..                                                 ...   \n221  tcttccatttcaggtgtcgtgaggctagcatcgattgatcaacaag...   \n222  tcttccatttcaggtgtcgtgaggctagcatcgattgatcaacaag...   \n223  tcttccatttcaggtgtcgtgaggctagcatcgattgatcaacaag...   \n224  tcttccatttcaggtgtcgtgaggctagcatcgattgatcaacaag...   \n225  tcttccatttcaggtgtcgtgaggctagcatcgattgatcaacaag...   \n\n                                               3_Flank  Annotation_ID  \\\n0    TGCCCAACTTTCTTGTACAAAGTGGTTGATATCGGTAAGCCTATCC...           6646   \n1    TACCCAACTTTCTTGTACAAAGTGGTTGATATCGGTAAGCCTATCC...          11372   \n2    TGCCCAACTTTCTTGTACAAAGTGGTTGATATCGGTAAGCCTATCC...           2782   \n3    TACCCAACTTTCTTGTACAAAGTGGTTGATATCGGTAAGCCTATCC...           8500   \n4    TGCCCAACTTTCTTGTACAAAGTGGTTGATATCGGTAAGCCTATCC...           9894   \n..                                                 ...            ...   \n221  TACCCAACTTTCTTGTACAAAGTGGTTGATATCGGTAAGCCTATCC...           7929   \n222  TGCCCAACTTTCTTGTACAAAGTGGTTGATATCGGTAAGCCTATCC...           8191   \n223  CCAACTTTCTTGTACAAAGTGGTTGATATCGGTAAGCCTATCCCTA...           8666   \n224  TACCCAACTTTCTTGTACAAAGTGGTTGATATCGGTAAGCCTATCC...           9600   \n225  TGCCCAACTTTCTTGTACAAAGTGGTTGATATCGGTAAGCCTATCC...          10584   \n\n       query  entrezgene                Sigma Curated Annotated_name  \\\n0      NDRG2       57447                        NDRG family member 2   \n1     UBE2L6        9246          ubiquitin conjugating enzyme E2 L6   \n2       DLX1        1745                      distal-less homeobox 1   \n3      RADIL       55698             Rap associating with DIL domain   \n4       SORD        6652                      sorbitol dehydrogenase   \n..       ...         ...                                         ...   \n221  POLDIP3       84271  DNA polymerase delta interacting protein 3   \n222     PRPH        5961                                peripherin 2   \n223      RET        5979                          ret proto-oncogene   \n224  SLC32A1      140679           solute carrier family 32 member 1   \n225     TFRC        7037                        transferrin receptor   \n\n     Annotation_symbol                                alias taxid        HGNC  \n0                NDRG2                                 SYLD  9606  HGNC:14460  \n1               UBE2L6                         RIG-B, UBCH8  9606  HGNC:12490  \n2                 DLX1                                  NaN  9606   HGNC:2914  \n3                RADIL                               RASIP2  9606  HGNC:22226  \n4                 SORD    HEL-S-95n, RDH, SDH, SORD1, SORDD  9606  HGNC:11184  \n..                 ...                                  ...   ...         ...  \n221            POLDIP3                  PDIP3, PDIP46, SKAR  9606  HGNC:23782  \n222              PRPH2        AOFMD, AVMD, CACD2, DS, MDBS1  9606   HGNC:9942  \n223                RET  CDHF12, CDHR16, HSCR1, MEN2A, MEN2B  9606   HGNC:9967  \n224            SLC32A1                          VGAT, VIAAT  9606  HGNC:11018  \n225               TFRC           CD71, IMD46, T9, TFR, TFR1  9606  HGNC:11763  \n\n[226 rows x 49 columns]",
      "text/html": "<div>\n<style scoped>\n    .dataframe tbody tr th:only-of-type {\n        vertical-align: middle;\n    }\n\n    .dataframe tbody tr th {\n        vertical-align: top;\n    }\n\n    .dataframe thead th {\n        text-align: right;\n    }\n</style>\n<table border=\"1\" class=\"dataframe\">\n  <thead>\n    <tr style=\"text-align: right;\">\n      <th></th>\n      <th>DNA plate well</th>\n      <th>OD</th>\n      <th>Quadrant/DNA plate #</th>\n      <th>Vol of DNA for 20 ng/ul</th>\n      <th>Unnamed: 4</th>\n      <th>Unnamed: 5</th>\n      <th>Unnamed: 6</th>\n      <th>NCBI Gene ID</th>\n      <th>Ensembl</th>\n      <th>Moe requested genes_Name</th>\n      <th>...</th>\n      <th>5_Flank</th>\n      <th>3_Flank</th>\n      <th>Annotation_ID</th>\n      <th>query</th>\n      <th>entrezgene</th>\n      <th>Sigma Curated Annotated_name</th>\n      <th>Annotation_symbol</th>\n      <th>alias</th>\n      <th>taxid</th>\n      <th>HGNC</th>\n    </tr>\n  </thead>\n  <tbody>\n    <tr>\n      <th>0</th>\n      <td>A1</td>\n      <td>0.539</td>\n      <td>1.0</td>\n      <td>12.334962</td>\n      <td>C-1F05</td>\n      <td>1</td>\n      <td>BAA-3C03</td>\n      <td>29811</td>\n      <td>ENSMUSG00000004558</td>\n      <td>Ndrg2</td>\n      <td>...</td>\n      <td>tcttccatttcaggtgtcgtgaggctagcatcgattgatcaacaag...</td>\n      <td>TGCCCAACTTTCTTGTACAAAGTGGTTGATATCGGTAAGCCTATCC...</td>\n      <td>6646</td>\n      <td>NDRG2</td>\n      <td>57447</td>\n      <td>NDRG family member 2</td>\n      <td>NDRG2</td>\n      <td>SYLD</td>\n      <td>9606</td>\n      <td>HGNC:14460</td>\n    </tr>\n    <tr>\n      <th>1</th>\n      <td>A11</td>\n      <td>0.490</td>\n      <td>1.0</td>\n      <td>11.293759</td>\n      <td>C-1O07</td>\n      <td>1</td>\n      <td>BAA-1H04</td>\n      <td>56791</td>\n      <td>ENSMUSG00000027078</td>\n      <td>Ube2l6</td>\n      <td>...</td>\n      <td>tcttccatttcaggtgtcgtgaggctagcatcgattgatcaacaag...</td>\n      <td>TACCCAACTTTCTTGTACAAAGTGGTTGATATCGGTAAGCCTATCC...</td>\n      <td>11372</td>\n      <td>UBE2L6</td>\n      <td>9246</td>\n      <td>ubiquitin conjugating enzyme E2 L6</td>\n      <td>UBE2L6</td>\n      <td>RIG-B, UBCH8</td>\n      <td>9606</td>\n      <td>HGNC:12490</td>\n    </tr>\n    <tr>\n      <th>2</th>\n      <td>A13</td>\n      <td>0.533</td>\n      <td>1.0</td>\n      <td>13.215395</td>\n      <td>C-21G18</td>\n      <td>21</td>\n      <td>BAA-82D09</td>\n      <td>13390</td>\n      <td>ENSMUSG00000041911</td>\n      <td>Dlx1</td>\n      <td>...</td>\n      <td>tcttccatttcaggtgtcgtgaggctagcatcgattgatcaacaag...</td>\n      <td>TGCCCAACTTTCTTGTACAAAGTGGTTGATATCGGTAAGCCTATCC...</td>\n      <td>2782</td>\n      <td>DLX1</td>\n      <td>1745</td>\n      <td>distal-less homeobox 1</td>\n      <td>DLX1</td>\n      <td>NaN</td>\n      <td>9606</td>\n      <td>HGNC:2914</td>\n    </tr>\n    <tr>\n      <th>3</th>\n      <td>A15</td>\n      <td>0.513</td>\n      <td>1.0</td>\n      <td>14.655386</td>\n      <td>C-1P01</td>\n      <td>1</td>\n      <td>BAA-3H01</td>\n      <td>231858</td>\n      <td>ENSMUSG00000029576</td>\n      <td>Radil</td>\n      <td>...</td>\n      <td>tcttccatttcaggtgtcgtgaggctagcatcgattgatcaacaag...</td>\n      <td>TACCCAACTTTCTTGTACAAAGTGGTTGATATCGGTAAGCCTATCC...</td>\n      <td>8500</td>\n      <td>RADIL</td>\n      <td>55698</td>\n      <td>Rap associating with DIL domain</td>\n      <td>RADIL</td>\n      <td>RASIP2</td>\n      <td>9606</td>\n      <td>HGNC:22226</td>\n    </tr>\n    <tr>\n      <th>4</th>\n      <td>A17</td>\n      <td>0.468</td>\n      <td>1.0</td>\n      <td>12.892080</td>\n      <td>C-21H13</td>\n      <td>21</td>\n      <td>BAA-83D07</td>\n      <td>20322</td>\n      <td>ENSMUSG00000027227</td>\n      <td>sord</td>\n      <td>...</td>\n      <td>tcttccatttcaggtgtcgtgaggctagcatcgattgatcaacaag...</td>\n      <td>TGCCCAACTTTCTTGTACAAAGTGGTTGATATCGGTAAGCCTATCC...</td>\n      <td>9894</td>\n      <td>SORD</td>\n      <td>6652</td>\n      <td>sorbitol dehydrogenase</td>\n      <td>SORD</td>\n      <td>HEL-S-95n, RDH, SDH, SORD1, SORDD</td>\n      <td>9606</td>\n      <td>HGNC:11184</td>\n    </tr>\n    <tr>\n      <th>...</th>\n      <td>...</td>\n      <td>...</td>\n      <td>...</td>\n      <td>...</td>\n      <td>...</td>\n      <td>...</td>\n      <td>...</td>\n      <td>...</td>\n      <td>...</td>\n      <td>...</td>\n      <td>...</td>\n      <td>...</td>\n      <td>...</td>\n      <td>...</td>\n      <td>...</td>\n      <td>...</td>\n      <td>...</td>\n      <td>...</td>\n      <td>...</td>\n      <td>...</td>\n      <td>...</td>\n    </tr>\n    <tr>\n      <th>221</th>\n      <td>NaN</td>\n      <td>NaN</td>\n      <td>NaN</td>\n      <td>NaN</td>\n      <td>C-46H24</td>\n      <td>46</td>\n      <td>BAB-85D12</td>\n      <td>73826</td>\n      <td>ENSMUSG00000041815</td>\n      <td>poldip3</td>\n      <td>...</td>\n      <td>tcttccatttcaggtgtcgtgaggctagcatcgattgatcaacaag...</td>\n      <td>TACCCAACTTTCTTGTACAAAGTGGTTGATATCGGTAAGCCTATCC...</td>\n      <td>7929</td>\n      <td>POLDIP3</td>\n      <td>84271</td>\n      <td>DNA polymerase delta interacting protein 3</td>\n      <td>POLDIP3</td>\n      <td>PDIP3, PDIP46, SKAR</td>\n      <td>9606</td>\n      <td>HGNC:23782</td>\n    </tr>\n    <tr>\n      <th>222</th>\n      <td>NaN</td>\n      <td>NaN</td>\n      <td>NaN</td>\n      <td>NaN</td>\n      <td>C-10A20</td>\n      <td>10</td>\n      <td>BAA-38A10</td>\n      <td>19132</td>\n      <td>ENSMUSG00000023484</td>\n      <td>Prph</td>\n      <td>...</td>\n      <td>tcttccatttcaggtgtcgtgaggctagcatcgattgatcaacaag...</td>\n      <td>TGCCCAACTTTCTTGTACAAAGTGGTTGATATCGGTAAGCCTATCC...</td>\n      <td>8191</td>\n      <td>PRPH</td>\n      <td>5961</td>\n      <td>peripherin 2</td>\n      <td>PRPH2</td>\n      <td>AOFMD, AVMD, CACD2, DS, MDBS1</td>\n      <td>9606</td>\n      <td>HGNC:9942</td>\n    </tr>\n    <tr>\n      <th>223</th>\n      <td>NaN</td>\n      <td>NaN</td>\n      <td>NaN</td>\n      <td>NaN</td>\n      <td>C-37D24</td>\n      <td>37</td>\n      <td>BAB-49B12</td>\n      <td>19713</td>\n      <td>ENSMUSG00000030110</td>\n      <td>Ret</td>\n      <td>...</td>\n      <td>tcttccatttcaggtgtcgtgaggctagcatcgattgatcaacaag...</td>\n      <td>CCAACTTTCTTGTACAAAGTGGTTGATATCGGTAAGCCTATCCCTA...</td>\n      <td>8666</td>\n      <td>RET</td>\n      <td>5979</td>\n      <td>ret proto-oncogene</td>\n      <td>RET</td>\n      <td>CDHF12, CDHR16, HSCR1, MEN2A, MEN2B</td>\n      <td>9606</td>\n      <td>HGNC:9967</td>\n    </tr>\n    <tr>\n      <th>224</th>\n      <td>NaN</td>\n      <td>NaN</td>\n      <td>NaN</td>\n      <td>NaN</td>\n      <td>C-27F15</td>\n      <td>27</td>\n      <td>BAB-8C08</td>\n      <td>22348</td>\n      <td>ENSMUSG00000037771</td>\n      <td>Slc32a1</td>\n      <td>...</td>\n      <td>tcttccatttcaggtgtcgtgaggctagcatcgattgatcaacaag...</td>\n      <td>TACCCAACTTTCTTGTACAAAGTGGTTGATATCGGTAAGCCTATCC...</td>\n      <td>9600</td>\n      <td>SLC32A1</td>\n      <td>140679</td>\n      <td>solute carrier family 32 member 1</td>\n      <td>SLC32A1</td>\n      <td>VGAT, VIAAT</td>\n      <td>9606</td>\n      <td>HGNC:11018</td>\n    </tr>\n    <tr>\n      <th>225</th>\n      <td>NaN</td>\n      <td>NaN</td>\n      <td>NaN</td>\n      <td>NaN</td>\n      <td>C-4A08</td>\n      <td>4</td>\n      <td>BAA-14A04</td>\n      <td>22042</td>\n      <td>ENSMUSG00000022797</td>\n      <td>tfrc</td>\n      <td>...</td>\n      <td>tcttccatttcaggtgtcgtgaggctagcatcgattgatcaacaag...</td>\n      <td>TGCCCAACTTTCTTGTACAAAGTGGTTGATATCGGTAAGCCTATCC...</td>\n      <td>10584</td>\n      <td>TFRC</td>\n      <td>7037</td>\n      <td>transferrin receptor</td>\n      <td>TFRC</td>\n      <td>CD71, IMD46, T9, TFR, TFR1</td>\n      <td>9606</td>\n      <td>HGNC:11763</td>\n    </tr>\n  </tbody>\n</table>\n<p>226 rows × 49 columns</p>\n</div>"
     },
     "execution_count": 164,
     "metadata": {},
     "output_type": "execute_result"
    }
   ],
   "source": [
    "data = pd.read_excel('/Users/elizabeth 1/Library/CloudStorage/Box-Box/Wu Lab/Project - 2024/Functional screening/240318_Natalie_Moe requested genes Query Sigma 226 for 162.xlsx')\n",
    "data"
   ],
   "metadata": {
    "collapsed": false,
    "ExecuteTime": {
     "end_time": "2024-04-30T01:54:46.439331Z",
     "start_time": "2024-04-30T01:54:44.743807Z"
    }
   },
   "id": "5aa31f8826e765f0",
   "execution_count": 164
  },
  {
   "cell_type": "code",
   "outputs": [],
   "source": [
    "data = data.loc[:,['DNA plate well', 'Quadrant/DNA plate #', 'Row', 'Col', 'Moe requested genes_Name']]\n",
    "plate_well = data['DNA plate well']"
   ],
   "metadata": {
    "collapsed": false,
    "ExecuteTime": {
     "end_time": "2024-04-30T01:54:51.137871Z",
     "start_time": "2024-04-30T01:54:51.081984Z"
    }
   },
   "id": "342926eb3fef5094",
   "execution_count": 165
  },
  {
   "cell_type": "code",
   "outputs": [
    {
     "name": "stdout",
     "output_type": "stream",
     "text": [
      "nan\n",
      "nan\n",
      "nan\n",
      "nan\n",
      "nan\n",
      "nan\n",
      "nan\n",
      "nan\n",
      "nan\n",
      "nan\n",
      "nan\n",
      "nan\n",
      "nan\n",
      "nan\n",
      "nan\n",
      "nan\n",
      "nan\n",
      "nan\n",
      "nan\n"
     ]
    }
   ],
   "source": [
    "# check if there's duplicates in the first column\n",
    "wells = []\n",
    "for well in plate_well:\n",
    "    if well not in wells:\n",
    "        wells.append(well)\n",
    "    else:\n",
    "        print(well)"
   ],
   "metadata": {
    "collapsed": false,
    "ExecuteTime": {
     "end_time": "2024-04-30T00:57:38.818459Z",
     "start_time": "2024-04-30T00:57:38.794438Z"
    }
   },
   "id": "2dd7248e2ab7552f",
   "execution_count": 123
  },
  {
   "cell_type": "code",
   "outputs": [
    {
     "data": {
      "text/plain": "    DNA plate well  Quadrant/DNA plate # Moe requested genes_Name\n0               A1                   1.0                    Ndrg2\n1              A11                   1.0                   Ube2l6\n2              A13                   1.0                     Dlx1\n3              A15                   1.0                    Radil\n4              A17                   1.0                     sord\n..             ...                   ...                      ...\n221            NaN                   NaN                  poldip3\n222            NaN                   NaN                     Prph\n223            NaN                   NaN                      Ret\n224            NaN                   NaN                  Slc32a1\n225            NaN                   NaN                     tfrc\n\n[226 rows x 3 columns]",
      "text/html": "<div>\n<style scoped>\n    .dataframe tbody tr th:only-of-type {\n        vertical-align: middle;\n    }\n\n    .dataframe tbody tr th {\n        vertical-align: top;\n    }\n\n    .dataframe thead th {\n        text-align: right;\n    }\n</style>\n<table border=\"1\" class=\"dataframe\">\n  <thead>\n    <tr style=\"text-align: right;\">\n      <th></th>\n      <th>DNA plate well</th>\n      <th>Quadrant/DNA plate #</th>\n      <th>Moe requested genes_Name</th>\n    </tr>\n  </thead>\n  <tbody>\n    <tr>\n      <th>0</th>\n      <td>A1</td>\n      <td>1.0</td>\n      <td>Ndrg2</td>\n    </tr>\n    <tr>\n      <th>1</th>\n      <td>A11</td>\n      <td>1.0</td>\n      <td>Ube2l6</td>\n    </tr>\n    <tr>\n      <th>2</th>\n      <td>A13</td>\n      <td>1.0</td>\n      <td>Dlx1</td>\n    </tr>\n    <tr>\n      <th>3</th>\n      <td>A15</td>\n      <td>1.0</td>\n      <td>Radil</td>\n    </tr>\n    <tr>\n      <th>4</th>\n      <td>A17</td>\n      <td>1.0</td>\n      <td>sord</td>\n    </tr>\n    <tr>\n      <th>...</th>\n      <td>...</td>\n      <td>...</td>\n      <td>...</td>\n    </tr>\n    <tr>\n      <th>221</th>\n      <td>NaN</td>\n      <td>NaN</td>\n      <td>poldip3</td>\n    </tr>\n    <tr>\n      <th>222</th>\n      <td>NaN</td>\n      <td>NaN</td>\n      <td>Prph</td>\n    </tr>\n    <tr>\n      <th>223</th>\n      <td>NaN</td>\n      <td>NaN</td>\n      <td>Ret</td>\n    </tr>\n    <tr>\n      <th>224</th>\n      <td>NaN</td>\n      <td>NaN</td>\n      <td>Slc32a1</td>\n    </tr>\n    <tr>\n      <th>225</th>\n      <td>NaN</td>\n      <td>NaN</td>\n      <td>tfrc</td>\n    </tr>\n  </tbody>\n</table>\n<p>226 rows × 3 columns</p>\n</div>"
     },
     "execution_count": 166,
     "metadata": {},
     "output_type": "execute_result"
    }
   ],
   "source": [
    "data.drop(columns=['Row', 'Col'], inplace=True)\n",
    "data"
   ],
   "metadata": {
    "collapsed": false,
    "ExecuteTime": {
     "end_time": "2024-04-30T01:54:57.153571Z",
     "start_time": "2024-04-30T01:54:57.114144Z"
    }
   },
   "id": "bccd471f5f94525f",
   "execution_count": 166
  },
  {
   "cell_type": "code",
   "outputs": [
    {
     "data": {
      "text/plain": "    well  plate     gene\n0     A1    1.0    Ndrg2\n1    A11    1.0   Ube2l6\n2    A13    1.0     Dlx1\n3    A15    1.0    Radil\n4    A17    1.0     sord\n..   ...    ...      ...\n221  NaN    NaN  poldip3\n222  NaN    NaN     Prph\n223  NaN    NaN      Ret\n224  NaN    NaN  Slc32a1\n225  NaN    NaN     tfrc\n\n[226 rows x 3 columns]",
      "text/html": "<div>\n<style scoped>\n    .dataframe tbody tr th:only-of-type {\n        vertical-align: middle;\n    }\n\n    .dataframe tbody tr th {\n        vertical-align: top;\n    }\n\n    .dataframe thead th {\n        text-align: right;\n    }\n</style>\n<table border=\"1\" class=\"dataframe\">\n  <thead>\n    <tr style=\"text-align: right;\">\n      <th></th>\n      <th>well</th>\n      <th>plate</th>\n      <th>gene</th>\n    </tr>\n  </thead>\n  <tbody>\n    <tr>\n      <th>0</th>\n      <td>A1</td>\n      <td>1.0</td>\n      <td>Ndrg2</td>\n    </tr>\n    <tr>\n      <th>1</th>\n      <td>A11</td>\n      <td>1.0</td>\n      <td>Ube2l6</td>\n    </tr>\n    <tr>\n      <th>2</th>\n      <td>A13</td>\n      <td>1.0</td>\n      <td>Dlx1</td>\n    </tr>\n    <tr>\n      <th>3</th>\n      <td>A15</td>\n      <td>1.0</td>\n      <td>Radil</td>\n    </tr>\n    <tr>\n      <th>4</th>\n      <td>A17</td>\n      <td>1.0</td>\n      <td>sord</td>\n    </tr>\n    <tr>\n      <th>...</th>\n      <td>...</td>\n      <td>...</td>\n      <td>...</td>\n    </tr>\n    <tr>\n      <th>221</th>\n      <td>NaN</td>\n      <td>NaN</td>\n      <td>poldip3</td>\n    </tr>\n    <tr>\n      <th>222</th>\n      <td>NaN</td>\n      <td>NaN</td>\n      <td>Prph</td>\n    </tr>\n    <tr>\n      <th>223</th>\n      <td>NaN</td>\n      <td>NaN</td>\n      <td>Ret</td>\n    </tr>\n    <tr>\n      <th>224</th>\n      <td>NaN</td>\n      <td>NaN</td>\n      <td>Slc32a1</td>\n    </tr>\n    <tr>\n      <th>225</th>\n      <td>NaN</td>\n      <td>NaN</td>\n      <td>tfrc</td>\n    </tr>\n  </tbody>\n</table>\n<p>226 rows × 3 columns</p>\n</div>"
     },
     "execution_count": 167,
     "metadata": {},
     "output_type": "execute_result"
    }
   ],
   "source": [
    "data.columns = ['well', 'plate', 'gene']\n",
    "data"
   ],
   "metadata": {
    "collapsed": false,
    "ExecuteTime": {
     "end_time": "2024-04-30T01:55:01.041768Z",
     "start_time": "2024-04-30T01:55:00.995149Z"
    }
   },
   "id": "7e5b58a9594f8a21",
   "execution_count": 167
  },
  {
   "cell_type": "code",
   "outputs": [
    {
     "name": "stdout",
     "output_type": "stream",
     "text": [
      "226\n",
      "192\n"
     ]
    }
   ],
   "source": [
    "print(len(data))\n",
    "# Use a Boolean condition directly to filter out rows where 'A' is not equal to 2\n",
    "data = data[(data['plate'] == 1.0) | (data['plate'] == 2.0)]       \n",
    "print(len(data))     "
   ],
   "metadata": {
    "collapsed": false,
    "ExecuteTime": {
     "end_time": "2024-04-30T01:27:58.690393Z",
     "start_time": "2024-04-30T01:27:58.663913Z"
    }
   },
   "id": "e14fd7617b3e0490",
   "execution_count": 136
  },
  {
   "cell_type": "markdown",
   "source": [
    "Create the Plate Map Dataframes"
   ],
   "metadata": {
    "collapsed": false
   },
   "id": "893fb9df841cb7e2"
  },
  {
   "cell_type": "code",
   "outputs": [],
   "source": [
    "cols = [i for i in range(1,25)] # half-open range (start @ start, up to but not including stop) -- also used for list slicing & iteration/loops\n",
    "rows = [chr(i) for i in range(ord('A'), ord('H')+1)] # list comprehension\n",
    "# ord for ordinal --> numeric value assigned to a character, returns char's ASCII val. Go up to H+1 b/c of half-open range (any string char has an ASCII val)\n",
    "# chr(i) returns character that corresponds to the number, the numbers 'i' being the ASCII values from A-I"
   ],
   "metadata": {
    "collapsed": false,
    "ExecuteTime": {
     "end_time": "2024-04-30T01:30:56.414226Z",
     "start_time": "2024-04-30T01:30:56.040755Z"
    }
   },
   "id": "1a9a90ee584d39b2",
   "execution_count": 144
  },
  {
   "cell_type": "code",
   "outputs": [
    {
     "data": {
      "text/plain": "          1    2    3    4    5    6    7    8    9    10  ...   15   16   17  \\\nPlate 1                                                    ...                  \nA        NaN  NaN  NaN  NaN  NaN  NaN  NaN  NaN  NaN  NaN  ...  NaN  NaN  NaN   \nB        NaN  NaN  NaN  NaN  NaN  NaN  NaN  NaN  NaN  NaN  ...  NaN  NaN  NaN   \nC        NaN  NaN  NaN  NaN  NaN  NaN  NaN  NaN  NaN  NaN  ...  NaN  NaN  NaN   \nD        NaN  NaN  NaN  NaN  NaN  NaN  NaN  NaN  NaN  NaN  ...  NaN  NaN  NaN   \nE        NaN  NaN  NaN  NaN  NaN  NaN  NaN  NaN  NaN  NaN  ...  NaN  NaN  NaN   \nF        NaN  NaN  NaN  NaN  NaN  NaN  NaN  NaN  NaN  NaN  ...  NaN  NaN  NaN   \nG        NaN  NaN  NaN  NaN  NaN  NaN  NaN  NaN  NaN  NaN  ...  NaN  NaN  NaN   \nH        NaN  NaN  NaN  NaN  NaN  NaN  NaN  NaN  NaN  NaN  ...  NaN  NaN  NaN   \n\n          18   19   20   21   22   23   24  \nPlate 1                                     \nA        NaN  NaN  NaN  NaN  NaN  NaN  NaN  \nB        NaN  NaN  NaN  NaN  NaN  NaN  NaN  \nC        NaN  NaN  NaN  NaN  NaN  NaN  NaN  \nD        NaN  NaN  NaN  NaN  NaN  NaN  NaN  \nE        NaN  NaN  NaN  NaN  NaN  NaN  NaN  \nF        NaN  NaN  NaN  NaN  NaN  NaN  NaN  \nG        NaN  NaN  NaN  NaN  NaN  NaN  NaN  \nH        NaN  NaN  NaN  NaN  NaN  NaN  NaN  \n\n[8 rows x 24 columns]",
      "text/html": "<div>\n<style scoped>\n    .dataframe tbody tr th:only-of-type {\n        vertical-align: middle;\n    }\n\n    .dataframe tbody tr th {\n        vertical-align: top;\n    }\n\n    .dataframe thead th {\n        text-align: right;\n    }\n</style>\n<table border=\"1\" class=\"dataframe\">\n  <thead>\n    <tr style=\"text-align: right;\">\n      <th></th>\n      <th>1</th>\n      <th>2</th>\n      <th>3</th>\n      <th>4</th>\n      <th>5</th>\n      <th>6</th>\n      <th>7</th>\n      <th>8</th>\n      <th>9</th>\n      <th>10</th>\n      <th>...</th>\n      <th>15</th>\n      <th>16</th>\n      <th>17</th>\n      <th>18</th>\n      <th>19</th>\n      <th>20</th>\n      <th>21</th>\n      <th>22</th>\n      <th>23</th>\n      <th>24</th>\n    </tr>\n    <tr>\n      <th>Plate 1</th>\n      <th></th>\n      <th></th>\n      <th></th>\n      <th></th>\n      <th></th>\n      <th></th>\n      <th></th>\n      <th></th>\n      <th></th>\n      <th></th>\n      <th></th>\n      <th></th>\n      <th></th>\n      <th></th>\n      <th></th>\n      <th></th>\n      <th></th>\n      <th></th>\n      <th></th>\n      <th></th>\n      <th></th>\n    </tr>\n  </thead>\n  <tbody>\n    <tr>\n      <th>A</th>\n      <td>NaN</td>\n      <td>NaN</td>\n      <td>NaN</td>\n      <td>NaN</td>\n      <td>NaN</td>\n      <td>NaN</td>\n      <td>NaN</td>\n      <td>NaN</td>\n      <td>NaN</td>\n      <td>NaN</td>\n      <td>...</td>\n      <td>NaN</td>\n      <td>NaN</td>\n      <td>NaN</td>\n      <td>NaN</td>\n      <td>NaN</td>\n      <td>NaN</td>\n      <td>NaN</td>\n      <td>NaN</td>\n      <td>NaN</td>\n      <td>NaN</td>\n    </tr>\n    <tr>\n      <th>B</th>\n      <td>NaN</td>\n      <td>NaN</td>\n      <td>NaN</td>\n      <td>NaN</td>\n      <td>NaN</td>\n      <td>NaN</td>\n      <td>NaN</td>\n      <td>NaN</td>\n      <td>NaN</td>\n      <td>NaN</td>\n      <td>...</td>\n      <td>NaN</td>\n      <td>NaN</td>\n      <td>NaN</td>\n      <td>NaN</td>\n      <td>NaN</td>\n      <td>NaN</td>\n      <td>NaN</td>\n      <td>NaN</td>\n      <td>NaN</td>\n      <td>NaN</td>\n    </tr>\n    <tr>\n      <th>C</th>\n      <td>NaN</td>\n      <td>NaN</td>\n      <td>NaN</td>\n      <td>NaN</td>\n      <td>NaN</td>\n      <td>NaN</td>\n      <td>NaN</td>\n      <td>NaN</td>\n      <td>NaN</td>\n      <td>NaN</td>\n      <td>...</td>\n      <td>NaN</td>\n      <td>NaN</td>\n      <td>NaN</td>\n      <td>NaN</td>\n      <td>NaN</td>\n      <td>NaN</td>\n      <td>NaN</td>\n      <td>NaN</td>\n      <td>NaN</td>\n      <td>NaN</td>\n    </tr>\n    <tr>\n      <th>D</th>\n      <td>NaN</td>\n      <td>NaN</td>\n      <td>NaN</td>\n      <td>NaN</td>\n      <td>NaN</td>\n      <td>NaN</td>\n      <td>NaN</td>\n      <td>NaN</td>\n      <td>NaN</td>\n      <td>NaN</td>\n      <td>...</td>\n      <td>NaN</td>\n      <td>NaN</td>\n      <td>NaN</td>\n      <td>NaN</td>\n      <td>NaN</td>\n      <td>NaN</td>\n      <td>NaN</td>\n      <td>NaN</td>\n      <td>NaN</td>\n      <td>NaN</td>\n    </tr>\n    <tr>\n      <th>E</th>\n      <td>NaN</td>\n      <td>NaN</td>\n      <td>NaN</td>\n      <td>NaN</td>\n      <td>NaN</td>\n      <td>NaN</td>\n      <td>NaN</td>\n      <td>NaN</td>\n      <td>NaN</td>\n      <td>NaN</td>\n      <td>...</td>\n      <td>NaN</td>\n      <td>NaN</td>\n      <td>NaN</td>\n      <td>NaN</td>\n      <td>NaN</td>\n      <td>NaN</td>\n      <td>NaN</td>\n      <td>NaN</td>\n      <td>NaN</td>\n      <td>NaN</td>\n    </tr>\n    <tr>\n      <th>F</th>\n      <td>NaN</td>\n      <td>NaN</td>\n      <td>NaN</td>\n      <td>NaN</td>\n      <td>NaN</td>\n      <td>NaN</td>\n      <td>NaN</td>\n      <td>NaN</td>\n      <td>NaN</td>\n      <td>NaN</td>\n      <td>...</td>\n      <td>NaN</td>\n      <td>NaN</td>\n      <td>NaN</td>\n      <td>NaN</td>\n      <td>NaN</td>\n      <td>NaN</td>\n      <td>NaN</td>\n      <td>NaN</td>\n      <td>NaN</td>\n      <td>NaN</td>\n    </tr>\n    <tr>\n      <th>G</th>\n      <td>NaN</td>\n      <td>NaN</td>\n      <td>NaN</td>\n      <td>NaN</td>\n      <td>NaN</td>\n      <td>NaN</td>\n      <td>NaN</td>\n      <td>NaN</td>\n      <td>NaN</td>\n      <td>NaN</td>\n      <td>...</td>\n      <td>NaN</td>\n      <td>NaN</td>\n      <td>NaN</td>\n      <td>NaN</td>\n      <td>NaN</td>\n      <td>NaN</td>\n      <td>NaN</td>\n      <td>NaN</td>\n      <td>NaN</td>\n      <td>NaN</td>\n    </tr>\n    <tr>\n      <th>H</th>\n      <td>NaN</td>\n      <td>NaN</td>\n      <td>NaN</td>\n      <td>NaN</td>\n      <td>NaN</td>\n      <td>NaN</td>\n      <td>NaN</td>\n      <td>NaN</td>\n      <td>NaN</td>\n      <td>NaN</td>\n      <td>...</td>\n      <td>NaN</td>\n      <td>NaN</td>\n      <td>NaN</td>\n      <td>NaN</td>\n      <td>NaN</td>\n      <td>NaN</td>\n      <td>NaN</td>\n      <td>NaN</td>\n      <td>NaN</td>\n      <td>NaN</td>\n    </tr>\n  </tbody>\n</table>\n<p>8 rows × 24 columns</p>\n</div>"
     },
     "execution_count": 178,
     "metadata": {},
     "output_type": "execute_result"
    }
   ],
   "source": [
    "# create empty dataframes\n",
    "plate_1 = pd.DataFrame(index=rows, columns=cols)\n",
    "plate_2 = pd.DataFrame(index=rows, columns=cols) # can't se it equal to plate_1 bc plate_2 will be a variable pointing to plate_1, so any changes in plate_2 will be reflected in plate_1 and vice versa\n",
    "plate_1.index.name = 'Plate 1'\n",
    "plate_2.index.name = 'Plate 2'\n",
    "plate_1"
   ],
   "metadata": {
    "collapsed": false,
    "ExecuteTime": {
     "end_time": "2024-04-30T02:07:43.751894Z",
     "start_time": "2024-04-30T02:07:43.637583Z"
    }
   },
   "id": "d93b42bf2298d17b",
   "execution_count": 178
  },
  {
   "cell_type": "code",
   "outputs": [
    {
     "data": {
      "text/plain": "   well  plate      gene\n0    A1    1.0     Ndrg2\n1   A11    1.0    Ube2l6\n2   A13    1.0      Dlx1\n3   A15    1.0     Radil\n4   A17    1.0      sord\n..  ...    ...       ...\n91  O23    1.0  Calcoco2\n92   O3    1.0      Mdfi\n93   O5    1.0      myo6\n94   O7    1.0    Gpr157\n95   O9    1.0    Higd1a\n\n[96 rows x 3 columns]",
      "text/html": "<div>\n<style scoped>\n    .dataframe tbody tr th:only-of-type {\n        vertical-align: middle;\n    }\n\n    .dataframe tbody tr th {\n        vertical-align: top;\n    }\n\n    .dataframe thead th {\n        text-align: right;\n    }\n</style>\n<table border=\"1\" class=\"dataframe\">\n  <thead>\n    <tr style=\"text-align: right;\">\n      <th></th>\n      <th>well</th>\n      <th>plate</th>\n      <th>gene</th>\n    </tr>\n  </thead>\n  <tbody>\n    <tr>\n      <th>0</th>\n      <td>A1</td>\n      <td>1.0</td>\n      <td>Ndrg2</td>\n    </tr>\n    <tr>\n      <th>1</th>\n      <td>A11</td>\n      <td>1.0</td>\n      <td>Ube2l6</td>\n    </tr>\n    <tr>\n      <th>2</th>\n      <td>A13</td>\n      <td>1.0</td>\n      <td>Dlx1</td>\n    </tr>\n    <tr>\n      <th>3</th>\n      <td>A15</td>\n      <td>1.0</td>\n      <td>Radil</td>\n    </tr>\n    <tr>\n      <th>4</th>\n      <td>A17</td>\n      <td>1.0</td>\n      <td>sord</td>\n    </tr>\n    <tr>\n      <th>...</th>\n      <td>...</td>\n      <td>...</td>\n      <td>...</td>\n    </tr>\n    <tr>\n      <th>91</th>\n      <td>O23</td>\n      <td>1.0</td>\n      <td>Calcoco2</td>\n    </tr>\n    <tr>\n      <th>92</th>\n      <td>O3</td>\n      <td>1.0</td>\n      <td>Mdfi</td>\n    </tr>\n    <tr>\n      <th>93</th>\n      <td>O5</td>\n      <td>1.0</td>\n      <td>myo6</td>\n    </tr>\n    <tr>\n      <th>94</th>\n      <td>O7</td>\n      <td>1.0</td>\n      <td>Gpr157</td>\n    </tr>\n    <tr>\n      <th>95</th>\n      <td>O9</td>\n      <td>1.0</td>\n      <td>Higd1a</td>\n    </tr>\n  </tbody>\n</table>\n<p>96 rows × 3 columns</p>\n</div>"
     },
     "execution_count": 177,
     "metadata": {},
     "output_type": "execute_result"
    }
   ],
   "source": [
    "data_1"
   ],
   "metadata": {
    "collapsed": false,
    "ExecuteTime": {
     "end_time": "2024-04-30T02:06:33.219961Z",
     "start_time": "2024-04-30T02:06:33.187395Z"
    }
   },
   "id": "183dc28ca44d5c42",
   "execution_count": 177
  },
  {
   "cell_type": "code",
   "outputs": [
    {
     "name": "stdout",
     "output_type": "stream",
     "text": [
      "A 1 Ndrg2\n",
      "A 11 Ube2l6\n",
      "A 13 Dlx1\n",
      "A 15 Radil\n",
      "A 17 sord\n",
      "A 19 vim\n",
      "A 21 Cd68\n",
      "A 23 Trim62\n",
      "A 3 Irf5\n",
      "A 5 Ndrg2\n",
      "A 7 Foxa3\n",
      "A 9 Gsta3\n",
      "C 1 Gsta3\n",
      "C 11 Krt19\n",
      "C 13 Smarcd1\n",
      "C 15 Npr2\n",
      "C 17 Npr2\n",
      "C 19 Sgk2\n",
      "C 21 Npr2\n",
      "C 23 Npr2\n",
      "C 3 Reep6\n",
      "C 5 Aig1\n",
      "C 7 Glo1\n",
      "C 9 Gfer\n",
      "E 1 Fes\n",
      "E 11 Acss3\n",
      "E 13 Igfbp2\n",
      "E 15 Ccdc85c\n",
      "E 17 Cib2\n",
      "E 19 Gpr157\n",
      "E 21 Cib2\n",
      "E 23 Dpf1\n",
      "E 3 Epha4\n",
      "E 5 Osr2\n",
      "E 7 Amhr2\n",
      "E 9 Ret\n",
      "G 1 Celf5\n",
      "G 11 Hsd17b1\n",
      "G 13 Lurap1l\n",
      "G 15 Tmem121\n",
      "G 17 Fbxl19\n",
      "G 19 Sema4d\n",
      "G 21 Igf2\n",
      "G 23 Lcn2\n",
      "G 3 Tex101\n",
      "G 5 Wnt4\n",
      "G 7 Slc9a3r2\n",
      "G 9 Bcam\n",
      "I 1 Dpf3\n",
      "I 11 Slc29a4\n",
      "I 13 Tcf7\n",
      "I 15 Esrrb\n",
      "I 17 Grin1\n",
      "I 19 vim\n",
      "I 21 Gpr157\n",
      "I 23 Esrrb\n",
      "I 3 Trim62\n",
      "I 5 Nxph4\n",
      "I 7 Bin2\n",
      "I 9 Alcam\n",
      "K 1 Npr3\n",
      "K 11 Ldhd\n",
      "K 13 Slc2a3\n",
      "K 15 Rassf2\n",
      "K 17 Mypop\n",
      "K 19 Batf3\n",
      "K 21 Fbxo10\n",
      "K 23 Lhx6\n",
      "K 3 Gpr157\n",
      "K 5 Gpr157\n",
      "K 7 Higd1a\n",
      "K 9 Ptpn18\n",
      "M 1 Txndc16\n",
      "M 11 Eps8l2\n",
      "M 13 Clmn\n",
      "M 15 Higd1a\n",
      "M 17 Angel1\n",
      "M 19 B4galt3\n",
      "M 21 Apln\n",
      "M 23 Tead2\n",
      "M 3 Sp6\n",
      "M 5 Enpep\n",
      "M 7 Rpia\n",
      "M 9 Rasgrp4\n",
      "O 1 Spata2l\n",
      "O 11 Grin1\n",
      "O 13 Npr3\n",
      "O 15 Rab11fip4\n",
      "O 17 Fbxo17\n",
      "O 19 Spata2l\n",
      "O 21 Tubg2\n",
      "O 23 Calcoco2\n",
      "O 3 Mdfi\n",
      "O 5 myo6\n",
      "O 7 Gpr157\n",
      "O 9 Higd1a\n"
     ]
    },
    {
     "data": {
      "text/plain": "              1    2       3    4       5    6         7    8        9    10  \\\nPlate 1                                                                        \nA          Ndrg2  NaN    Irf5  NaN   Ndrg2  NaN     Foxa3  NaN    Gsta3  NaN   \nB            NaN  NaN     NaN  NaN     NaN  NaN       NaN  NaN      NaN  NaN   \nC          Gsta3  NaN   Reep6  NaN    Aig1  NaN      Glo1  NaN     Gfer  NaN   \nD            NaN  NaN     NaN  NaN     NaN  NaN       NaN  NaN      NaN  NaN   \nE            Fes  NaN   Epha4  NaN    Osr2  NaN     Amhr2  NaN      Ret  NaN   \nF            NaN  NaN     NaN  NaN     NaN  NaN       NaN  NaN      NaN  NaN   \nG          Celf5  NaN  Tex101  NaN    Wnt4  NaN  Slc9a3r2  NaN     Bcam  NaN   \nH            NaN  NaN     NaN  NaN     NaN  NaN       NaN  NaN      NaN  NaN   \nI           Dpf3  NaN  Trim62  NaN   Nxph4  NaN      Bin2  NaN    Alcam  NaN   \nK           Npr3  NaN  Gpr157  NaN  Gpr157  NaN    Higd1a  NaN   Ptpn18  NaN   \nM        Txndc16  NaN     Sp6  NaN   Enpep  NaN      Rpia  NaN  Rasgrp4  NaN   \nO        Spata2l  NaN    Mdfi  NaN    myo6  NaN    Gpr157  NaN   Higd1a  NaN   \n\n         ...         15   16      17   18       19   20      21   22  \\\nPlate 1  ...                                                           \nA        ...      Radil  NaN    sord  NaN      vim  NaN    Cd68  NaN   \nB        ...        NaN  NaN     NaN  NaN      NaN  NaN     NaN  NaN   \nC        ...       Npr2  NaN    Npr2  NaN     Sgk2  NaN    Npr2  NaN   \nD        ...        NaN  NaN     NaN  NaN      NaN  NaN     NaN  NaN   \nE        ...    Ccdc85c  NaN    Cib2  NaN   Gpr157  NaN    Cib2  NaN   \nF        ...        NaN  NaN     NaN  NaN      NaN  NaN     NaN  NaN   \nG        ...    Tmem121  NaN  Fbxl19  NaN   Sema4d  NaN    Igf2  NaN   \nH        ...        NaN  NaN     NaN  NaN      NaN  NaN     NaN  NaN   \nI        ...      Esrrb  NaN   Grin1  NaN      vim  NaN  Gpr157  NaN   \nK        ...     Rassf2  NaN   Mypop  NaN    Batf3  NaN  Fbxo10  NaN   \nM        ...     Higd1a  NaN  Angel1  NaN  B4galt3  NaN    Apln  NaN   \nO        ...  Rab11fip4  NaN  Fbxo17  NaN  Spata2l  NaN   Tubg2  NaN   \n\n               23   24  \nPlate 1                 \nA          Trim62  NaN  \nB             NaN  NaN  \nC            Npr2  NaN  \nD             NaN  NaN  \nE            Dpf1  NaN  \nF             NaN  NaN  \nG            Lcn2  NaN  \nH             NaN  NaN  \nI           Esrrb  NaN  \nK            Lhx6  NaN  \nM           Tead2  NaN  \nO        Calcoco2  NaN  \n\n[12 rows x 24 columns]",
      "text/html": "<div>\n<style scoped>\n    .dataframe tbody tr th:only-of-type {\n        vertical-align: middle;\n    }\n\n    .dataframe tbody tr th {\n        vertical-align: top;\n    }\n\n    .dataframe thead th {\n        text-align: right;\n    }\n</style>\n<table border=\"1\" class=\"dataframe\">\n  <thead>\n    <tr style=\"text-align: right;\">\n      <th></th>\n      <th>1</th>\n      <th>2</th>\n      <th>3</th>\n      <th>4</th>\n      <th>5</th>\n      <th>6</th>\n      <th>7</th>\n      <th>8</th>\n      <th>9</th>\n      <th>10</th>\n      <th>...</th>\n      <th>15</th>\n      <th>16</th>\n      <th>17</th>\n      <th>18</th>\n      <th>19</th>\n      <th>20</th>\n      <th>21</th>\n      <th>22</th>\n      <th>23</th>\n      <th>24</th>\n    </tr>\n    <tr>\n      <th>Plate 1</th>\n      <th></th>\n      <th></th>\n      <th></th>\n      <th></th>\n      <th></th>\n      <th></th>\n      <th></th>\n      <th></th>\n      <th></th>\n      <th></th>\n      <th></th>\n      <th></th>\n      <th></th>\n      <th></th>\n      <th></th>\n      <th></th>\n      <th></th>\n      <th></th>\n      <th></th>\n      <th></th>\n      <th></th>\n    </tr>\n  </thead>\n  <tbody>\n    <tr>\n      <th>A</th>\n      <td>Ndrg2</td>\n      <td>NaN</td>\n      <td>Irf5</td>\n      <td>NaN</td>\n      <td>Ndrg2</td>\n      <td>NaN</td>\n      <td>Foxa3</td>\n      <td>NaN</td>\n      <td>Gsta3</td>\n      <td>NaN</td>\n      <td>...</td>\n      <td>Radil</td>\n      <td>NaN</td>\n      <td>sord</td>\n      <td>NaN</td>\n      <td>vim</td>\n      <td>NaN</td>\n      <td>Cd68</td>\n      <td>NaN</td>\n      <td>Trim62</td>\n      <td>NaN</td>\n    </tr>\n    <tr>\n      <th>B</th>\n      <td>NaN</td>\n      <td>NaN</td>\n      <td>NaN</td>\n      <td>NaN</td>\n      <td>NaN</td>\n      <td>NaN</td>\n      <td>NaN</td>\n      <td>NaN</td>\n      <td>NaN</td>\n      <td>NaN</td>\n      <td>...</td>\n      <td>NaN</td>\n      <td>NaN</td>\n      <td>NaN</td>\n      <td>NaN</td>\n      <td>NaN</td>\n      <td>NaN</td>\n      <td>NaN</td>\n      <td>NaN</td>\n      <td>NaN</td>\n      <td>NaN</td>\n    </tr>\n    <tr>\n      <th>C</th>\n      <td>Gsta3</td>\n      <td>NaN</td>\n      <td>Reep6</td>\n      <td>NaN</td>\n      <td>Aig1</td>\n      <td>NaN</td>\n      <td>Glo1</td>\n      <td>NaN</td>\n      <td>Gfer</td>\n      <td>NaN</td>\n      <td>...</td>\n      <td>Npr2</td>\n      <td>NaN</td>\n      <td>Npr2</td>\n      <td>NaN</td>\n      <td>Sgk2</td>\n      <td>NaN</td>\n      <td>Npr2</td>\n      <td>NaN</td>\n      <td>Npr2</td>\n      <td>NaN</td>\n    </tr>\n    <tr>\n      <th>D</th>\n      <td>NaN</td>\n      <td>NaN</td>\n      <td>NaN</td>\n      <td>NaN</td>\n      <td>NaN</td>\n      <td>NaN</td>\n      <td>NaN</td>\n      <td>NaN</td>\n      <td>NaN</td>\n      <td>NaN</td>\n      <td>...</td>\n      <td>NaN</td>\n      <td>NaN</td>\n      <td>NaN</td>\n      <td>NaN</td>\n      <td>NaN</td>\n      <td>NaN</td>\n      <td>NaN</td>\n      <td>NaN</td>\n      <td>NaN</td>\n      <td>NaN</td>\n    </tr>\n    <tr>\n      <th>E</th>\n      <td>Fes</td>\n      <td>NaN</td>\n      <td>Epha4</td>\n      <td>NaN</td>\n      <td>Osr2</td>\n      <td>NaN</td>\n      <td>Amhr2</td>\n      <td>NaN</td>\n      <td>Ret</td>\n      <td>NaN</td>\n      <td>...</td>\n      <td>Ccdc85c</td>\n      <td>NaN</td>\n      <td>Cib2</td>\n      <td>NaN</td>\n      <td>Gpr157</td>\n      <td>NaN</td>\n      <td>Cib2</td>\n      <td>NaN</td>\n      <td>Dpf1</td>\n      <td>NaN</td>\n    </tr>\n    <tr>\n      <th>F</th>\n      <td>NaN</td>\n      <td>NaN</td>\n      <td>NaN</td>\n      <td>NaN</td>\n      <td>NaN</td>\n      <td>NaN</td>\n      <td>NaN</td>\n      <td>NaN</td>\n      <td>NaN</td>\n      <td>NaN</td>\n      <td>...</td>\n      <td>NaN</td>\n      <td>NaN</td>\n      <td>NaN</td>\n      <td>NaN</td>\n      <td>NaN</td>\n      <td>NaN</td>\n      <td>NaN</td>\n      <td>NaN</td>\n      <td>NaN</td>\n      <td>NaN</td>\n    </tr>\n    <tr>\n      <th>G</th>\n      <td>Celf5</td>\n      <td>NaN</td>\n      <td>Tex101</td>\n      <td>NaN</td>\n      <td>Wnt4</td>\n      <td>NaN</td>\n      <td>Slc9a3r2</td>\n      <td>NaN</td>\n      <td>Bcam</td>\n      <td>NaN</td>\n      <td>...</td>\n      <td>Tmem121</td>\n      <td>NaN</td>\n      <td>Fbxl19</td>\n      <td>NaN</td>\n      <td>Sema4d</td>\n      <td>NaN</td>\n      <td>Igf2</td>\n      <td>NaN</td>\n      <td>Lcn2</td>\n      <td>NaN</td>\n    </tr>\n    <tr>\n      <th>H</th>\n      <td>NaN</td>\n      <td>NaN</td>\n      <td>NaN</td>\n      <td>NaN</td>\n      <td>NaN</td>\n      <td>NaN</td>\n      <td>NaN</td>\n      <td>NaN</td>\n      <td>NaN</td>\n      <td>NaN</td>\n      <td>...</td>\n      <td>NaN</td>\n      <td>NaN</td>\n      <td>NaN</td>\n      <td>NaN</td>\n      <td>NaN</td>\n      <td>NaN</td>\n      <td>NaN</td>\n      <td>NaN</td>\n      <td>NaN</td>\n      <td>NaN</td>\n    </tr>\n    <tr>\n      <th>I</th>\n      <td>Dpf3</td>\n      <td>NaN</td>\n      <td>Trim62</td>\n      <td>NaN</td>\n      <td>Nxph4</td>\n      <td>NaN</td>\n      <td>Bin2</td>\n      <td>NaN</td>\n      <td>Alcam</td>\n      <td>NaN</td>\n      <td>...</td>\n      <td>Esrrb</td>\n      <td>NaN</td>\n      <td>Grin1</td>\n      <td>NaN</td>\n      <td>vim</td>\n      <td>NaN</td>\n      <td>Gpr157</td>\n      <td>NaN</td>\n      <td>Esrrb</td>\n      <td>NaN</td>\n    </tr>\n    <tr>\n      <th>K</th>\n      <td>Npr3</td>\n      <td>NaN</td>\n      <td>Gpr157</td>\n      <td>NaN</td>\n      <td>Gpr157</td>\n      <td>NaN</td>\n      <td>Higd1a</td>\n      <td>NaN</td>\n      <td>Ptpn18</td>\n      <td>NaN</td>\n      <td>...</td>\n      <td>Rassf2</td>\n      <td>NaN</td>\n      <td>Mypop</td>\n      <td>NaN</td>\n      <td>Batf3</td>\n      <td>NaN</td>\n      <td>Fbxo10</td>\n      <td>NaN</td>\n      <td>Lhx6</td>\n      <td>NaN</td>\n    </tr>\n    <tr>\n      <th>M</th>\n      <td>Txndc16</td>\n      <td>NaN</td>\n      <td>Sp6</td>\n      <td>NaN</td>\n      <td>Enpep</td>\n      <td>NaN</td>\n      <td>Rpia</td>\n      <td>NaN</td>\n      <td>Rasgrp4</td>\n      <td>NaN</td>\n      <td>...</td>\n      <td>Higd1a</td>\n      <td>NaN</td>\n      <td>Angel1</td>\n      <td>NaN</td>\n      <td>B4galt3</td>\n      <td>NaN</td>\n      <td>Apln</td>\n      <td>NaN</td>\n      <td>Tead2</td>\n      <td>NaN</td>\n    </tr>\n    <tr>\n      <th>O</th>\n      <td>Spata2l</td>\n      <td>NaN</td>\n      <td>Mdfi</td>\n      <td>NaN</td>\n      <td>myo6</td>\n      <td>NaN</td>\n      <td>Gpr157</td>\n      <td>NaN</td>\n      <td>Higd1a</td>\n      <td>NaN</td>\n      <td>...</td>\n      <td>Rab11fip4</td>\n      <td>NaN</td>\n      <td>Fbxo17</td>\n      <td>NaN</td>\n      <td>Spata2l</td>\n      <td>NaN</td>\n      <td>Tubg2</td>\n      <td>NaN</td>\n      <td>Calcoco2</td>\n      <td>NaN</td>\n    </tr>\n  </tbody>\n</table>\n<p>12 rows × 24 columns</p>\n</div>"
     },
     "execution_count": 179,
     "metadata": {},
     "output_type": "execute_result"
    }
   ],
   "source": [
    "for index, row in data_1.iterrows():\n",
    "    plate = row['plate']\n",
    "    gene = row['gene']   \n",
    "    well = row['well']\n",
    "    plate_row = well[0]\n",
    "    plate_col = int(well[1:])\n",
    "    \n",
    "    plate_1.loc[plate_row,plate_col] = gene # use loc instead of iloc to access by index name instead of #\n",
    "    print(plate_row, plate_col, gene)\n",
    "        \n",
    "plate_1\n",
    "        "
   ],
   "metadata": {
    "collapsed": false,
    "ExecuteTime": {
     "end_time": "2024-04-30T02:07:51.498218Z",
     "start_time": "2024-04-30T02:07:51.391741Z"
    }
   },
   "id": "70a4893b3b06f475",
   "execution_count": 179
  },
  {
   "cell_type": "code",
   "outputs": [
    {
     "name": "stdout",
     "output_type": "stream",
     "text": [
      "A 10 Fmod\n",
      "A 12 Ptpn6\n",
      "A 14 Plvap\n",
      "A 16 Vill\n",
      "A 18 Slc16a14\n",
      "A 2 Avil\n",
      "A 20 Ndufa4l2\n",
      "A 22 Mid1\n",
      "A 24 Fbxl14\n",
      "A 4 Plekhg6\n",
      "A 6 Nr5a1\n",
      "A 8 Slc25a23\n",
      "C 10 prdx2\n",
      "C 12 Cryaa\n",
      "C 14 Gng2\n",
      "C 16 Cd164l2\n",
      "C 18 Tekt2\n",
      "C 2 Thap11\n",
      "C 20 Agmo\n",
      "C 22 Npr3\n",
      "C 24 Rtn4rl1\n",
      "C 4 Npr3\n",
      "C 6 Bmp7\n",
      "C 8 Vps4a\n",
      "E 10 Dnajc15\n",
      "E 12 Ckb\n",
      "E 14 Vax2\n",
      "E 16 Mpzl1\n",
      "E 18 Brsk1\n",
      "E 2 Ckb\n",
      "E 20 Sult1c2\n",
      "E 22 Uck2\n",
      "E 24 Nt5e\n",
      "E 4 Mmp2\n",
      "E 6 Ap1m2\n",
      "E 8 Amhr2\n",
      "G 10 Uck2\n",
      "G 12 Rrad\n",
      "G 14 Pfkl\n",
      "G 16 Slc9a3r2\n",
      "G 18 Mlkl\n",
      "G 2 Pim2\n",
      "G 20 Tacstd2\n",
      "G 22 Ret\n",
      "G 24 Vill\n",
      "G 4 Mpzl1\n",
      "G 6 Pim2\n",
      "G 8 Ggh\n",
      "I 10 Ltk\n",
      "I 12 Dact3\n",
      "I 14 Npr2\n",
      "I 16 Npr2\n",
      "I 18 Dpysl5\n",
      "I 2 Pfkl\n",
      "I 20 Uck2\n",
      "I 22 Ret\n",
      "I 24 Vps26a\n",
      "I 4 Ccdc92\n",
      "I 6 Epha4\n",
      "I 8 Diras2\n",
      "K 10 Sgk2\n",
      "K 12 Tbx15\n",
      "K 14 Pfkl\n",
      "K 16 Uck2\n",
      "K 18 Sgk2\n",
      "K 2 Pim2\n",
      "K 20 sf3b2\n",
      "K 22 Sgk2\n",
      "K 24 Ret\n",
      "K 4 Podnl1\n",
      "K 6 Amhr2\n",
      "K 8 Rspo1\n",
      "M 10 Pgk1\n",
      "M 12 Bcl2l11\n",
      "M 14 Prr5\n",
      "M 16 St6gal1\n",
      "M 18 Ptpn18\n",
      "M 2 Ret\n",
      "M 20 Gapdh\n",
      "M 22 Avil\n",
      "M 24 Nup50\n",
      "M 4 Crabp1\n",
      "M 6 Pgk1\n",
      "M 8 Pfkl\n",
      "O 10 Tiam1\n",
      "O 12 Arsi\n",
      "O 14 Ostn\n",
      "O 16 dbn1\n",
      "O 18 Rims3\n",
      "O 2 Spryd7\n",
      "O 20 mcm6\n",
      "O 22 B4galt3\n",
      "O 24 Ccdc136\n",
      "O 4 Slc29a4\n",
      "O 6 Serping1\n",
      "O 8 Nt5e\n"
     ]
    },
    {
     "data": {
      "text/plain": "          1       2    3        4    5         6    7         8    9   \\\nPlate 2                                                                 \nA        NaN    Avil  NaN  Plekhg6  NaN     Nr5a1  NaN  Slc25a23  NaN   \nB        NaN     NaN  NaN      NaN  NaN       NaN  NaN       NaN  NaN   \nC        NaN  Thap11  NaN     Npr3  NaN      Bmp7  NaN     Vps4a  NaN   \nD        NaN     NaN  NaN      NaN  NaN       NaN  NaN       NaN  NaN   \nE        NaN     Ckb  NaN     Mmp2  NaN     Ap1m2  NaN     Amhr2  NaN   \nF        NaN     NaN  NaN      NaN  NaN       NaN  NaN       NaN  NaN   \nG        NaN    Pim2  NaN    Mpzl1  NaN      Pim2  NaN       Ggh  NaN   \nH        NaN     NaN  NaN      NaN  NaN       NaN  NaN       NaN  NaN   \nI        NaN    Pfkl  NaN   Ccdc92  NaN     Epha4  NaN    Diras2  NaN   \nK        NaN    Pim2  NaN   Podnl1  NaN     Amhr2  NaN     Rspo1  NaN   \nM        NaN     Ret  NaN   Crabp1  NaN      Pgk1  NaN      Pfkl  NaN   \nO        NaN  Spryd7  NaN  Slc29a4  NaN  Serping1  NaN      Nt5e  NaN   \n\n              10  ...   15        16   17        18   19        20   21  \\\nPlate 2           ...                                                     \nA           Fmod  ...  NaN      Vill  NaN  Slc16a14  NaN  Ndufa4l2  NaN   \nB            NaN  ...  NaN       NaN  NaN       NaN  NaN       NaN  NaN   \nC          prdx2  ...  NaN   Cd164l2  NaN     Tekt2  NaN      Agmo  NaN   \nD            NaN  ...  NaN       NaN  NaN       NaN  NaN       NaN  NaN   \nE        Dnajc15  ...  NaN     Mpzl1  NaN     Brsk1  NaN   Sult1c2  NaN   \nF            NaN  ...  NaN       NaN  NaN       NaN  NaN       NaN  NaN   \nG           Uck2  ...  NaN  Slc9a3r2  NaN      Mlkl  NaN   Tacstd2  NaN   \nH            NaN  ...  NaN       NaN  NaN       NaN  NaN       NaN  NaN   \nI            Ltk  ...  NaN      Npr2  NaN    Dpysl5  NaN      Uck2  NaN   \nK           Sgk2  ...  NaN      Uck2  NaN      Sgk2  NaN     sf3b2  NaN   \nM           Pgk1  ...  NaN   St6gal1  NaN    Ptpn18  NaN     Gapdh  NaN   \nO          Tiam1  ...  NaN      dbn1  NaN     Rims3  NaN      mcm6  NaN   \n\n              22   23       24  \nPlate 2                         \nA           Mid1  NaN   Fbxl14  \nB            NaN  NaN      NaN  \nC           Npr3  NaN  Rtn4rl1  \nD            NaN  NaN      NaN  \nE           Uck2  NaN     Nt5e  \nF            NaN  NaN      NaN  \nG            Ret  NaN     Vill  \nH            NaN  NaN      NaN  \nI            Ret  NaN   Vps26a  \nK           Sgk2  NaN      Ret  \nM           Avil  NaN    Nup50  \nO        B4galt3  NaN  Ccdc136  \n\n[12 rows x 24 columns]",
      "text/html": "<div>\n<style scoped>\n    .dataframe tbody tr th:only-of-type {\n        vertical-align: middle;\n    }\n\n    .dataframe tbody tr th {\n        vertical-align: top;\n    }\n\n    .dataframe thead th {\n        text-align: right;\n    }\n</style>\n<table border=\"1\" class=\"dataframe\">\n  <thead>\n    <tr style=\"text-align: right;\">\n      <th></th>\n      <th>1</th>\n      <th>2</th>\n      <th>3</th>\n      <th>4</th>\n      <th>5</th>\n      <th>6</th>\n      <th>7</th>\n      <th>8</th>\n      <th>9</th>\n      <th>10</th>\n      <th>...</th>\n      <th>15</th>\n      <th>16</th>\n      <th>17</th>\n      <th>18</th>\n      <th>19</th>\n      <th>20</th>\n      <th>21</th>\n      <th>22</th>\n      <th>23</th>\n      <th>24</th>\n    </tr>\n    <tr>\n      <th>Plate 2</th>\n      <th></th>\n      <th></th>\n      <th></th>\n      <th></th>\n      <th></th>\n      <th></th>\n      <th></th>\n      <th></th>\n      <th></th>\n      <th></th>\n      <th></th>\n      <th></th>\n      <th></th>\n      <th></th>\n      <th></th>\n      <th></th>\n      <th></th>\n      <th></th>\n      <th></th>\n      <th></th>\n      <th></th>\n    </tr>\n  </thead>\n  <tbody>\n    <tr>\n      <th>A</th>\n      <td>NaN</td>\n      <td>Avil</td>\n      <td>NaN</td>\n      <td>Plekhg6</td>\n      <td>NaN</td>\n      <td>Nr5a1</td>\n      <td>NaN</td>\n      <td>Slc25a23</td>\n      <td>NaN</td>\n      <td>Fmod</td>\n      <td>...</td>\n      <td>NaN</td>\n      <td>Vill</td>\n      <td>NaN</td>\n      <td>Slc16a14</td>\n      <td>NaN</td>\n      <td>Ndufa4l2</td>\n      <td>NaN</td>\n      <td>Mid1</td>\n      <td>NaN</td>\n      <td>Fbxl14</td>\n    </tr>\n    <tr>\n      <th>B</th>\n      <td>NaN</td>\n      <td>NaN</td>\n      <td>NaN</td>\n      <td>NaN</td>\n      <td>NaN</td>\n      <td>NaN</td>\n      <td>NaN</td>\n      <td>NaN</td>\n      <td>NaN</td>\n      <td>NaN</td>\n      <td>...</td>\n      <td>NaN</td>\n      <td>NaN</td>\n      <td>NaN</td>\n      <td>NaN</td>\n      <td>NaN</td>\n      <td>NaN</td>\n      <td>NaN</td>\n      <td>NaN</td>\n      <td>NaN</td>\n      <td>NaN</td>\n    </tr>\n    <tr>\n      <th>C</th>\n      <td>NaN</td>\n      <td>Thap11</td>\n      <td>NaN</td>\n      <td>Npr3</td>\n      <td>NaN</td>\n      <td>Bmp7</td>\n      <td>NaN</td>\n      <td>Vps4a</td>\n      <td>NaN</td>\n      <td>prdx2</td>\n      <td>...</td>\n      <td>NaN</td>\n      <td>Cd164l2</td>\n      <td>NaN</td>\n      <td>Tekt2</td>\n      <td>NaN</td>\n      <td>Agmo</td>\n      <td>NaN</td>\n      <td>Npr3</td>\n      <td>NaN</td>\n      <td>Rtn4rl1</td>\n    </tr>\n    <tr>\n      <th>D</th>\n      <td>NaN</td>\n      <td>NaN</td>\n      <td>NaN</td>\n      <td>NaN</td>\n      <td>NaN</td>\n      <td>NaN</td>\n      <td>NaN</td>\n      <td>NaN</td>\n      <td>NaN</td>\n      <td>NaN</td>\n      <td>...</td>\n      <td>NaN</td>\n      <td>NaN</td>\n      <td>NaN</td>\n      <td>NaN</td>\n      <td>NaN</td>\n      <td>NaN</td>\n      <td>NaN</td>\n      <td>NaN</td>\n      <td>NaN</td>\n      <td>NaN</td>\n    </tr>\n    <tr>\n      <th>E</th>\n      <td>NaN</td>\n      <td>Ckb</td>\n      <td>NaN</td>\n      <td>Mmp2</td>\n      <td>NaN</td>\n      <td>Ap1m2</td>\n      <td>NaN</td>\n      <td>Amhr2</td>\n      <td>NaN</td>\n      <td>Dnajc15</td>\n      <td>...</td>\n      <td>NaN</td>\n      <td>Mpzl1</td>\n      <td>NaN</td>\n      <td>Brsk1</td>\n      <td>NaN</td>\n      <td>Sult1c2</td>\n      <td>NaN</td>\n      <td>Uck2</td>\n      <td>NaN</td>\n      <td>Nt5e</td>\n    </tr>\n    <tr>\n      <th>F</th>\n      <td>NaN</td>\n      <td>NaN</td>\n      <td>NaN</td>\n      <td>NaN</td>\n      <td>NaN</td>\n      <td>NaN</td>\n      <td>NaN</td>\n      <td>NaN</td>\n      <td>NaN</td>\n      <td>NaN</td>\n      <td>...</td>\n      <td>NaN</td>\n      <td>NaN</td>\n      <td>NaN</td>\n      <td>NaN</td>\n      <td>NaN</td>\n      <td>NaN</td>\n      <td>NaN</td>\n      <td>NaN</td>\n      <td>NaN</td>\n      <td>NaN</td>\n    </tr>\n    <tr>\n      <th>G</th>\n      <td>NaN</td>\n      <td>Pim2</td>\n      <td>NaN</td>\n      <td>Mpzl1</td>\n      <td>NaN</td>\n      <td>Pim2</td>\n      <td>NaN</td>\n      <td>Ggh</td>\n      <td>NaN</td>\n      <td>Uck2</td>\n      <td>...</td>\n      <td>NaN</td>\n      <td>Slc9a3r2</td>\n      <td>NaN</td>\n      <td>Mlkl</td>\n      <td>NaN</td>\n      <td>Tacstd2</td>\n      <td>NaN</td>\n      <td>Ret</td>\n      <td>NaN</td>\n      <td>Vill</td>\n    </tr>\n    <tr>\n      <th>H</th>\n      <td>NaN</td>\n      <td>NaN</td>\n      <td>NaN</td>\n      <td>NaN</td>\n      <td>NaN</td>\n      <td>NaN</td>\n      <td>NaN</td>\n      <td>NaN</td>\n      <td>NaN</td>\n      <td>NaN</td>\n      <td>...</td>\n      <td>NaN</td>\n      <td>NaN</td>\n      <td>NaN</td>\n      <td>NaN</td>\n      <td>NaN</td>\n      <td>NaN</td>\n      <td>NaN</td>\n      <td>NaN</td>\n      <td>NaN</td>\n      <td>NaN</td>\n    </tr>\n    <tr>\n      <th>I</th>\n      <td>NaN</td>\n      <td>Pfkl</td>\n      <td>NaN</td>\n      <td>Ccdc92</td>\n      <td>NaN</td>\n      <td>Epha4</td>\n      <td>NaN</td>\n      <td>Diras2</td>\n      <td>NaN</td>\n      <td>Ltk</td>\n      <td>...</td>\n      <td>NaN</td>\n      <td>Npr2</td>\n      <td>NaN</td>\n      <td>Dpysl5</td>\n      <td>NaN</td>\n      <td>Uck2</td>\n      <td>NaN</td>\n      <td>Ret</td>\n      <td>NaN</td>\n      <td>Vps26a</td>\n    </tr>\n    <tr>\n      <th>K</th>\n      <td>NaN</td>\n      <td>Pim2</td>\n      <td>NaN</td>\n      <td>Podnl1</td>\n      <td>NaN</td>\n      <td>Amhr2</td>\n      <td>NaN</td>\n      <td>Rspo1</td>\n      <td>NaN</td>\n      <td>Sgk2</td>\n      <td>...</td>\n      <td>NaN</td>\n      <td>Uck2</td>\n      <td>NaN</td>\n      <td>Sgk2</td>\n      <td>NaN</td>\n      <td>sf3b2</td>\n      <td>NaN</td>\n      <td>Sgk2</td>\n      <td>NaN</td>\n      <td>Ret</td>\n    </tr>\n    <tr>\n      <th>M</th>\n      <td>NaN</td>\n      <td>Ret</td>\n      <td>NaN</td>\n      <td>Crabp1</td>\n      <td>NaN</td>\n      <td>Pgk1</td>\n      <td>NaN</td>\n      <td>Pfkl</td>\n      <td>NaN</td>\n      <td>Pgk1</td>\n      <td>...</td>\n      <td>NaN</td>\n      <td>St6gal1</td>\n      <td>NaN</td>\n      <td>Ptpn18</td>\n      <td>NaN</td>\n      <td>Gapdh</td>\n      <td>NaN</td>\n      <td>Avil</td>\n      <td>NaN</td>\n      <td>Nup50</td>\n    </tr>\n    <tr>\n      <th>O</th>\n      <td>NaN</td>\n      <td>Spryd7</td>\n      <td>NaN</td>\n      <td>Slc29a4</td>\n      <td>NaN</td>\n      <td>Serping1</td>\n      <td>NaN</td>\n      <td>Nt5e</td>\n      <td>NaN</td>\n      <td>Tiam1</td>\n      <td>...</td>\n      <td>NaN</td>\n      <td>dbn1</td>\n      <td>NaN</td>\n      <td>Rims3</td>\n      <td>NaN</td>\n      <td>mcm6</td>\n      <td>NaN</td>\n      <td>B4galt3</td>\n      <td>NaN</td>\n      <td>Ccdc136</td>\n    </tr>\n  </tbody>\n</table>\n<p>12 rows × 24 columns</p>\n</div>"
     },
     "execution_count": 180,
     "metadata": {},
     "output_type": "execute_result"
    }
   ],
   "source": [
    "for index, row in data_2.iterrows():\n",
    "    plate = row['plate']\n",
    "    gene = row['gene']\n",
    "    well = row['well']\n",
    "    plate_row = well[0]\n",
    "    plate_col = int(well[1:])\n",
    "\n",
    "    plate_2.loc[plate_row,plate_col] = gene # use loc instead of iloc to access by index name instead of #\n",
    "    print(plate_row, plate_col, gene)\n",
    "\n",
    "plate_2"
   ],
   "metadata": {
    "collapsed": false,
    "ExecuteTime": {
     "end_time": "2024-04-30T02:08:57.791169Z",
     "start_time": "2024-04-30T02:08:57.769324Z"
    }
   },
   "id": "b1173de5194652bc",
   "execution_count": 180
  },
  {
   "cell_type": "code",
   "outputs": [
    {
     "name": "stdout",
     "output_type": "stream",
     "text": [
      "192\n",
      "192\n",
      "96\n"
     ]
    }
   ],
   "source": [
    "print(plate_1.isnull().sum().sum())\n",
    "print(plate_2.isnull().sum().sum())\n",
    "print(plate_1.notnull().sum().sum())\n"
   ],
   "metadata": {
    "collapsed": false,
    "ExecuteTime": {
     "end_time": "2024-04-30T02:13:56.802420Z",
     "start_time": "2024-04-30T02:13:56.721136Z"
    }
   },
   "id": "1bf73074cc573fee",
   "execution_count": 188
  },
  {
   "cell_type": "code",
   "outputs": [
    {
     "data": {
      "text/plain": "0"
     },
     "execution_count": 191,
     "metadata": {},
     "output_type": "execute_result"
    }
   ],
   "source": [
    "plate_1.iloc[1,:].notnull().sum()"
   ],
   "metadata": {
    "collapsed": false,
    "ExecuteTime": {
     "end_time": "2024-04-30T02:26:45.990984Z",
     "start_time": "2024-04-30T02:26:45.869512Z"
    }
   },
   "id": "a210db2f013e9c2d",
   "execution_count": 191
  },
  {
   "cell_type": "code",
   "outputs": [
    {
     "data": {
      "text/plain": "              1       3       5         7        9        11       13  \\\nPlate 1                                                                 \nA          Ndrg2    Irf5   Ndrg2     Foxa3    Gsta3   Ube2l6     Dlx1   \nC          Gsta3   Reep6    Aig1      Glo1     Gfer    Krt19  Smarcd1   \nE            Fes   Epha4    Osr2     Amhr2      Ret    Acss3   Igfbp2   \nG          Celf5  Tex101    Wnt4  Slc9a3r2     Bcam  Hsd17b1  Lurap1l   \nI           Dpf3  Trim62   Nxph4      Bin2    Alcam  Slc29a4     Tcf7   \nK           Npr3  Gpr157  Gpr157    Higd1a   Ptpn18     Ldhd   Slc2a3   \nM        Txndc16     Sp6   Enpep      Rpia  Rasgrp4   Eps8l2     Clmn   \nO        Spata2l    Mdfi    myo6    Gpr157   Higd1a    Grin1     Npr3   \n\n                15      17       19      21        23  \nPlate 1                                                \nA            Radil    sord      vim    Cd68    Trim62  \nC             Npr2    Npr2     Sgk2    Npr2      Npr2  \nE          Ccdc85c    Cib2   Gpr157    Cib2      Dpf1  \nG          Tmem121  Fbxl19   Sema4d    Igf2      Lcn2  \nI            Esrrb   Grin1      vim  Gpr157     Esrrb  \nK           Rassf2   Mypop    Batf3  Fbxo10      Lhx6  \nM           Higd1a  Angel1  B4galt3    Apln     Tead2  \nO        Rab11fip4  Fbxo17  Spata2l   Tubg2  Calcoco2  ",
      "text/html": "<div>\n<style scoped>\n    .dataframe tbody tr th:only-of-type {\n        vertical-align: middle;\n    }\n\n    .dataframe tbody tr th {\n        vertical-align: top;\n    }\n\n    .dataframe thead th {\n        text-align: right;\n    }\n</style>\n<table border=\"1\" class=\"dataframe\">\n  <thead>\n    <tr style=\"text-align: right;\">\n      <th></th>\n      <th>1</th>\n      <th>3</th>\n      <th>5</th>\n      <th>7</th>\n      <th>9</th>\n      <th>11</th>\n      <th>13</th>\n      <th>15</th>\n      <th>17</th>\n      <th>19</th>\n      <th>21</th>\n      <th>23</th>\n    </tr>\n    <tr>\n      <th>Plate 1</th>\n      <th></th>\n      <th></th>\n      <th></th>\n      <th></th>\n      <th></th>\n      <th></th>\n      <th></th>\n      <th></th>\n      <th></th>\n      <th></th>\n      <th></th>\n      <th></th>\n    </tr>\n  </thead>\n  <tbody>\n    <tr>\n      <th>A</th>\n      <td>Ndrg2</td>\n      <td>Irf5</td>\n      <td>Ndrg2</td>\n      <td>Foxa3</td>\n      <td>Gsta3</td>\n      <td>Ube2l6</td>\n      <td>Dlx1</td>\n      <td>Radil</td>\n      <td>sord</td>\n      <td>vim</td>\n      <td>Cd68</td>\n      <td>Trim62</td>\n    </tr>\n    <tr>\n      <th>C</th>\n      <td>Gsta3</td>\n      <td>Reep6</td>\n      <td>Aig1</td>\n      <td>Glo1</td>\n      <td>Gfer</td>\n      <td>Krt19</td>\n      <td>Smarcd1</td>\n      <td>Npr2</td>\n      <td>Npr2</td>\n      <td>Sgk2</td>\n      <td>Npr2</td>\n      <td>Npr2</td>\n    </tr>\n    <tr>\n      <th>E</th>\n      <td>Fes</td>\n      <td>Epha4</td>\n      <td>Osr2</td>\n      <td>Amhr2</td>\n      <td>Ret</td>\n      <td>Acss3</td>\n      <td>Igfbp2</td>\n      <td>Ccdc85c</td>\n      <td>Cib2</td>\n      <td>Gpr157</td>\n      <td>Cib2</td>\n      <td>Dpf1</td>\n    </tr>\n    <tr>\n      <th>G</th>\n      <td>Celf5</td>\n      <td>Tex101</td>\n      <td>Wnt4</td>\n      <td>Slc9a3r2</td>\n      <td>Bcam</td>\n      <td>Hsd17b1</td>\n      <td>Lurap1l</td>\n      <td>Tmem121</td>\n      <td>Fbxl19</td>\n      <td>Sema4d</td>\n      <td>Igf2</td>\n      <td>Lcn2</td>\n    </tr>\n    <tr>\n      <th>I</th>\n      <td>Dpf3</td>\n      <td>Trim62</td>\n      <td>Nxph4</td>\n      <td>Bin2</td>\n      <td>Alcam</td>\n      <td>Slc29a4</td>\n      <td>Tcf7</td>\n      <td>Esrrb</td>\n      <td>Grin1</td>\n      <td>vim</td>\n      <td>Gpr157</td>\n      <td>Esrrb</td>\n    </tr>\n    <tr>\n      <th>K</th>\n      <td>Npr3</td>\n      <td>Gpr157</td>\n      <td>Gpr157</td>\n      <td>Higd1a</td>\n      <td>Ptpn18</td>\n      <td>Ldhd</td>\n      <td>Slc2a3</td>\n      <td>Rassf2</td>\n      <td>Mypop</td>\n      <td>Batf3</td>\n      <td>Fbxo10</td>\n      <td>Lhx6</td>\n    </tr>\n    <tr>\n      <th>M</th>\n      <td>Txndc16</td>\n      <td>Sp6</td>\n      <td>Enpep</td>\n      <td>Rpia</td>\n      <td>Rasgrp4</td>\n      <td>Eps8l2</td>\n      <td>Clmn</td>\n      <td>Higd1a</td>\n      <td>Angel1</td>\n      <td>B4galt3</td>\n      <td>Apln</td>\n      <td>Tead2</td>\n    </tr>\n    <tr>\n      <th>O</th>\n      <td>Spata2l</td>\n      <td>Mdfi</td>\n      <td>myo6</td>\n      <td>Gpr157</td>\n      <td>Higd1a</td>\n      <td>Grin1</td>\n      <td>Npr3</td>\n      <td>Rab11fip4</td>\n      <td>Fbxo17</td>\n      <td>Spata2l</td>\n      <td>Tubg2</td>\n      <td>Calcoco2</td>\n    </tr>\n  </tbody>\n</table>\n</div>"
     },
     "execution_count": 193,
     "metadata": {},
     "output_type": "execute_result"
    }
   ],
   "source": [
    "# drop NA rows/cols from both plate dataframes\n",
    "# Drop all rows that have only NaN values in place\n",
    "plate_1.dropna(axis=0, how='all', inplace=True)\n",
    "plate_1.dropna(axis=1, how='all', inplace=True)\n",
    "plate_1"
   ],
   "metadata": {
    "collapsed": false,
    "ExecuteTime": {
     "end_time": "2024-04-30T02:30:33.614861Z",
     "start_time": "2024-04-30T02:30:33.020765Z"
    }
   },
   "id": "475792a9341bfb7f",
   "execution_count": 193
  },
  {
   "cell_type": "code",
   "outputs": [
    {
     "data": {
      "text/plain": "             2        4         6         8        10       12     14  \\\nPlate 2                                                                 \nA          Avil  Plekhg6     Nr5a1  Slc25a23     Fmod    Ptpn6  Plvap   \nC        Thap11     Npr3      Bmp7     Vps4a    prdx2    Cryaa   Gng2   \nE           Ckb     Mmp2     Ap1m2     Amhr2  Dnajc15      Ckb   Vax2   \nG          Pim2    Mpzl1      Pim2       Ggh     Uck2     Rrad   Pfkl   \nI          Pfkl   Ccdc92     Epha4    Diras2      Ltk    Dact3   Npr2   \nK          Pim2   Podnl1     Amhr2     Rspo1     Sgk2    Tbx15   Pfkl   \nM           Ret   Crabp1      Pgk1      Pfkl     Pgk1  Bcl2l11   Prr5   \nO        Spryd7  Slc29a4  Serping1      Nt5e    Tiam1     Arsi   Ostn   \n\n               16        18        20       22       24  \nPlate 2                                                  \nA            Vill  Slc16a14  Ndufa4l2     Mid1   Fbxl14  \nC         Cd164l2     Tekt2      Agmo     Npr3  Rtn4rl1  \nE           Mpzl1     Brsk1   Sult1c2     Uck2     Nt5e  \nG        Slc9a3r2      Mlkl   Tacstd2      Ret     Vill  \nI            Npr2    Dpysl5      Uck2      Ret   Vps26a  \nK            Uck2      Sgk2     sf3b2     Sgk2      Ret  \nM         St6gal1    Ptpn18     Gapdh     Avil    Nup50  \nO            dbn1     Rims3      mcm6  B4galt3  Ccdc136  ",
      "text/html": "<div>\n<style scoped>\n    .dataframe tbody tr th:only-of-type {\n        vertical-align: middle;\n    }\n\n    .dataframe tbody tr th {\n        vertical-align: top;\n    }\n\n    .dataframe thead th {\n        text-align: right;\n    }\n</style>\n<table border=\"1\" class=\"dataframe\">\n  <thead>\n    <tr style=\"text-align: right;\">\n      <th></th>\n      <th>2</th>\n      <th>4</th>\n      <th>6</th>\n      <th>8</th>\n      <th>10</th>\n      <th>12</th>\n      <th>14</th>\n      <th>16</th>\n      <th>18</th>\n      <th>20</th>\n      <th>22</th>\n      <th>24</th>\n    </tr>\n    <tr>\n      <th>Plate 2</th>\n      <th></th>\n      <th></th>\n      <th></th>\n      <th></th>\n      <th></th>\n      <th></th>\n      <th></th>\n      <th></th>\n      <th></th>\n      <th></th>\n      <th></th>\n      <th></th>\n    </tr>\n  </thead>\n  <tbody>\n    <tr>\n      <th>A</th>\n      <td>Avil</td>\n      <td>Plekhg6</td>\n      <td>Nr5a1</td>\n      <td>Slc25a23</td>\n      <td>Fmod</td>\n      <td>Ptpn6</td>\n      <td>Plvap</td>\n      <td>Vill</td>\n      <td>Slc16a14</td>\n      <td>Ndufa4l2</td>\n      <td>Mid1</td>\n      <td>Fbxl14</td>\n    </tr>\n    <tr>\n      <th>C</th>\n      <td>Thap11</td>\n      <td>Npr3</td>\n      <td>Bmp7</td>\n      <td>Vps4a</td>\n      <td>prdx2</td>\n      <td>Cryaa</td>\n      <td>Gng2</td>\n      <td>Cd164l2</td>\n      <td>Tekt2</td>\n      <td>Agmo</td>\n      <td>Npr3</td>\n      <td>Rtn4rl1</td>\n    </tr>\n    <tr>\n      <th>E</th>\n      <td>Ckb</td>\n      <td>Mmp2</td>\n      <td>Ap1m2</td>\n      <td>Amhr2</td>\n      <td>Dnajc15</td>\n      <td>Ckb</td>\n      <td>Vax2</td>\n      <td>Mpzl1</td>\n      <td>Brsk1</td>\n      <td>Sult1c2</td>\n      <td>Uck2</td>\n      <td>Nt5e</td>\n    </tr>\n    <tr>\n      <th>G</th>\n      <td>Pim2</td>\n      <td>Mpzl1</td>\n      <td>Pim2</td>\n      <td>Ggh</td>\n      <td>Uck2</td>\n      <td>Rrad</td>\n      <td>Pfkl</td>\n      <td>Slc9a3r2</td>\n      <td>Mlkl</td>\n      <td>Tacstd2</td>\n      <td>Ret</td>\n      <td>Vill</td>\n    </tr>\n    <tr>\n      <th>I</th>\n      <td>Pfkl</td>\n      <td>Ccdc92</td>\n      <td>Epha4</td>\n      <td>Diras2</td>\n      <td>Ltk</td>\n      <td>Dact3</td>\n      <td>Npr2</td>\n      <td>Npr2</td>\n      <td>Dpysl5</td>\n      <td>Uck2</td>\n      <td>Ret</td>\n      <td>Vps26a</td>\n    </tr>\n    <tr>\n      <th>K</th>\n      <td>Pim2</td>\n      <td>Podnl1</td>\n      <td>Amhr2</td>\n      <td>Rspo1</td>\n      <td>Sgk2</td>\n      <td>Tbx15</td>\n      <td>Pfkl</td>\n      <td>Uck2</td>\n      <td>Sgk2</td>\n      <td>sf3b2</td>\n      <td>Sgk2</td>\n      <td>Ret</td>\n    </tr>\n    <tr>\n      <th>M</th>\n      <td>Ret</td>\n      <td>Crabp1</td>\n      <td>Pgk1</td>\n      <td>Pfkl</td>\n      <td>Pgk1</td>\n      <td>Bcl2l11</td>\n      <td>Prr5</td>\n      <td>St6gal1</td>\n      <td>Ptpn18</td>\n      <td>Gapdh</td>\n      <td>Avil</td>\n      <td>Nup50</td>\n    </tr>\n    <tr>\n      <th>O</th>\n      <td>Spryd7</td>\n      <td>Slc29a4</td>\n      <td>Serping1</td>\n      <td>Nt5e</td>\n      <td>Tiam1</td>\n      <td>Arsi</td>\n      <td>Ostn</td>\n      <td>dbn1</td>\n      <td>Rims3</td>\n      <td>mcm6</td>\n      <td>B4galt3</td>\n      <td>Ccdc136</td>\n    </tr>\n  </tbody>\n</table>\n</div>"
     },
     "execution_count": 194,
     "metadata": {},
     "output_type": "execute_result"
    }
   ],
   "source": [
    "plate_2.dropna(axis=0, how='all', inplace=True)\n",
    "plate_2.dropna(axis=1, how='all', inplace=True)\n",
    "plate_2"
   ],
   "metadata": {
    "collapsed": false,
    "ExecuteTime": {
     "end_time": "2024-04-30T02:31:12.724953Z",
     "start_time": "2024-04-30T02:31:12.287143Z"
    }
   },
   "id": "bead965cba4ac3bc",
   "execution_count": 194
  },
  {
   "cell_type": "code",
   "outputs": [
    {
     "name": "stdout",
     "output_type": "stream",
     "text": [
      "             2        4         6         8        10       12     14  \\\n",
      "Plate 2                                                                 \n",
      "A          Avil  Plekhg6     Nr5a1  Slc25a23     Fmod    Ptpn6  Plvap   \n",
      "C        Thap11     Npr3      Bmp7     Vps4a    prdx2    Cryaa   Gng2   \n",
      "E           Ckb     Mmp2     Ap1m2     Amhr2  Dnajc15      Ckb   Vax2   \n",
      "G          Pim2    Mpzl1      Pim2       Ggh     Uck2     Rrad   Pfkl   \n",
      "I          Pfkl   Ccdc92     Epha4    Diras2      Ltk    Dact3   Npr2   \n",
      "K          Pim2   Podnl1     Amhr2     Rspo1     Sgk2    Tbx15   Pfkl   \n",
      "M           Ret   Crabp1      Pgk1      Pfkl     Pgk1  Bcl2l11   Prr5   \n",
      "O        Spryd7  Slc29a4  Serping1      Nt5e    Tiam1     Arsi   Ostn   \n",
      "\n",
      "               16        18        20       22       24  \n",
      "Plate 2                                                  \n",
      "A            Vill  Slc16a14  Ndufa4l2     Mid1   Fbxl14  \n",
      "C         Cd164l2     Tekt2      Agmo     Npr3  Rtn4rl1  \n",
      "E           Mpzl1     Brsk1   Sult1c2     Uck2     Nt5e  \n",
      "G        Slc9a3r2      Mlkl   Tacstd2      Ret     Vill  \n",
      "I            Npr2    Dpysl5      Uck2      Ret   Vps26a  \n",
      "K            Uck2      Sgk2     sf3b2     Sgk2      Ret  \n",
      "M         St6gal1    Ptpn18     Gapdh     Avil    Nup50  \n",
      "O            dbn1     Rims3      mcm6  B4galt3  Ccdc136  \n"
     ]
    }
   ],
   "source": [
    "print(plate_2)"
   ],
   "metadata": {
    "collapsed": false,
    "ExecuteTime": {
     "end_time": "2024-04-30T02:31:42.119450Z",
     "start_time": "2024-04-30T02:31:41.969076Z"
    }
   },
   "id": "748f3a67ba2f9ba",
   "execution_count": 195
  },
  {
   "cell_type": "code",
   "outputs": [],
   "source": [
    "# save the unlinked plate maps\n",
    "os.chdir('/Users/elizabeth 1/Library/CloudStorage/Box-Box/Wu Lab/Project - statin/8. RNA-seq/Elizabeth/LW15 analysis/LW15-Functional-Screening/plate_map')\n",
    "plate_1.to_html('plate_1.html')\n",
    "plate_2.to_html('plate_2.html')"
   ],
   "metadata": {
    "collapsed": false,
    "ExecuteTime": {
     "end_time": "2024-04-30T02:32:51.716136Z",
     "start_time": "2024-04-30T02:32:51.299013Z"
    }
   },
   "id": "9613919684ba2664",
   "execution_count": 196
  },
  {
   "cell_type": "markdown",
   "source": [
    "### Troubleshooting\n",
    "check how many duplicate well instances there are"
   ],
   "metadata": {
    "collapsed": false
   },
   "id": "f7aeb5d33fc69c6f"
  },
  {
   "cell_type": "code",
   "outputs": [
    {
     "data": {
      "text/plain": "     plate Row  Col     gene\n0      1.0   C    3    Ndrg2\n1      1.0   H    4   Ube2l6\n2      1.0   D    9     Dlx1\n3      1.0   H    1    Radil\n4      1.0   D    7     sord\n..     ...  ..  ...      ...\n221    NaN   D   12  poldip3\n222    NaN   A   10     Prph\n223    NaN   B   12      Ret\n224    NaN   C    8  Slc32a1\n225    NaN   A    4     tfrc\n\n[226 rows x 4 columns]",
      "text/html": "<div>\n<style scoped>\n    .dataframe tbody tr th:only-of-type {\n        vertical-align: middle;\n    }\n\n    .dataframe tbody tr th {\n        vertical-align: top;\n    }\n\n    .dataframe thead th {\n        text-align: right;\n    }\n</style>\n<table border=\"1\" class=\"dataframe\">\n  <thead>\n    <tr style=\"text-align: right;\">\n      <th></th>\n      <th>plate</th>\n      <th>Row</th>\n      <th>Col</th>\n      <th>gene</th>\n    </tr>\n  </thead>\n  <tbody>\n    <tr>\n      <th>0</th>\n      <td>1.0</td>\n      <td>C</td>\n      <td>3</td>\n      <td>Ndrg2</td>\n    </tr>\n    <tr>\n      <th>1</th>\n      <td>1.0</td>\n      <td>H</td>\n      <td>4</td>\n      <td>Ube2l6</td>\n    </tr>\n    <tr>\n      <th>2</th>\n      <td>1.0</td>\n      <td>D</td>\n      <td>9</td>\n      <td>Dlx1</td>\n    </tr>\n    <tr>\n      <th>3</th>\n      <td>1.0</td>\n      <td>H</td>\n      <td>1</td>\n      <td>Radil</td>\n    </tr>\n    <tr>\n      <th>4</th>\n      <td>1.0</td>\n      <td>D</td>\n      <td>7</td>\n      <td>sord</td>\n    </tr>\n    <tr>\n      <th>...</th>\n      <td>...</td>\n      <td>...</td>\n      <td>...</td>\n      <td>...</td>\n    </tr>\n    <tr>\n      <th>221</th>\n      <td>NaN</td>\n      <td>D</td>\n      <td>12</td>\n      <td>poldip3</td>\n    </tr>\n    <tr>\n      <th>222</th>\n      <td>NaN</td>\n      <td>A</td>\n      <td>10</td>\n      <td>Prph</td>\n    </tr>\n    <tr>\n      <th>223</th>\n      <td>NaN</td>\n      <td>B</td>\n      <td>12</td>\n      <td>Ret</td>\n    </tr>\n    <tr>\n      <th>224</th>\n      <td>NaN</td>\n      <td>C</td>\n      <td>8</td>\n      <td>Slc32a1</td>\n    </tr>\n    <tr>\n      <th>225</th>\n      <td>NaN</td>\n      <td>A</td>\n      <td>4</td>\n      <td>tfrc</td>\n    </tr>\n  </tbody>\n</table>\n<p>226 rows × 4 columns</p>\n</div>"
     },
     "execution_count": 85,
     "metadata": {},
     "output_type": "execute_result"
    }
   ],
   "source": [
    "data"
   ],
   "metadata": {
    "collapsed": false,
    "ExecuteTime": {
     "end_time": "2024-04-24T03:01:47.594730Z",
     "start_time": "2024-04-24T03:01:47.547415Z"
    }
   },
   "id": "98ba1dfb760433cf",
   "execution_count": 85
  },
  {
   "cell_type": "code",
   "outputs": [],
   "source": [
    "data_1 = data[data['plate'] == 1.0] \n",
    "data_2 = data[data['plate'] == 2.0]       "
   ],
   "metadata": {
    "collapsed": false,
    "ExecuteTime": {
     "end_time": "2024-04-30T02:03:33.182693Z",
     "start_time": "2024-04-30T02:03:33.029378Z"
    }
   },
   "id": "2f11bd255ecf8ecb",
   "execution_count": 173
  },
  {
   "cell_type": "markdown",
   "source": [
    "note:\n",
    "- if there were to be a full plate map, there's 8*24 = 192 wells per plate. \n",
    "- but the data var with plates 1&2 has 226 rows (should have 384 if complete)\n",
    "- and each plate 1 and plate 2 have 96 rows, respectively"
   ],
   "metadata": {
    "collapsed": false
   },
   "id": "4fe33b944dbc88da"
  },
  {
   "cell_type": "code",
   "outputs": [
    {
     "name": "stdout",
     "output_type": "stream",
     "text": [
      "C3 2\n",
      "D9 3\n",
      "H1 2\n",
      "D7 2\n",
      "H11 2\n",
      "D11 2\n",
      "B5 2\n",
      "A11 3\n",
      "D12 2\n",
      "C5 3\n",
      "A2 2\n",
      "G7 5\n",
      "F6 2\n",
      "E11 2\n",
      "H7 2\n",
      "D4 2\n",
      "E9 2\n",
      "G1 2\n",
      "C2 2\n",
      "F8 2\n",
      "F1 2\n",
      "E12 2\n",
      "B8 2\n",
      "B6 2\n",
      "F2 2\n"
     ]
    }
   ],
   "source": [
    "wells = []\n",
    "for index, row in data_1.iterrows():\n",
    "    row_name = row['Row']\n",
    "    col_name = str(row['Col'])\n",
    "    well = row_name + col_name\n",
    "    wells.append(well)\n",
    "    \n",
    "\n",
    "counts_dict = {}\n",
    "\n",
    "for well in wells:\n",
    "    if well not in counts_dict:\n",
    "        counts_dict[well] = 1\n",
    "    else:\n",
    "        counts_dict[well] += 1\n",
    "\n",
    "for well, num in counts_dict.items():\n",
    "    if num >1:\n",
    "        print(well, num)"
   ],
   "metadata": {
    "collapsed": false,
    "ExecuteTime": {
     "end_time": "2024-04-24T03:21:13.621932Z",
     "start_time": "2024-04-24T03:21:13.503476Z"
    }
   },
   "id": "83b5a7df137156e7",
   "execution_count": 91
  },
  {
   "cell_type": "code",
   "outputs": [
    {
     "name": "stdout",
     "output_type": "stream",
     "text": [
      "F10 [101, 106, 146, 183]\n",
      "D2 [102, 131, 136, 141, 163]\n",
      "F4 [103, 126, 151, 158]\n",
      "G11 [104, 119]\n",
      "E3 [105, 169]\n",
      "B6 [108, 153]\n",
      "F6 [109, 129]\n",
      "H5 [111, 114]\n",
      "A9 [112, 145]\n",
      "D3 [115, 157, 166]\n",
      "D9 [116, 188]\n",
      "C7 [117, 124, 134, 154]\n",
      "B12 [123, 133]\n",
      "D6 [125, 127]\n",
      "H4 [130, 132, 182]\n",
      "H9 [139, 143]\n",
      "E4 [142, 191]\n",
      "A8 [144, 162, 172]\n",
      "A6 [152, 161]\n",
      "A1 [171, 190]\n",
      "E2 [173, 181]\n",
      "D7 [178, 187]\n"
     ]
    }
   ],
   "source": [
    "def duplicate_wells(plate):\n",
    "    wells = {}\n",
    "    for index, row in plate.iterrows():\n",
    "        # print(row)\n",
    "        row_name = row['Row']\n",
    "        col_name = str(row['Col'])\n",
    "        well = row_name + col_name\n",
    "        wells[index] = well\n",
    "    \n",
    "    counts_dict = {} # {A1:\n",
    "    \n",
    "    for index, well in wells.items():\n",
    "        if well in counts_dict:\n",
    "            counts_dict[well].append(index)\n",
    "        else:\n",
    "            counts_dict[well] = []\n",
    "            counts_dict[well].append(index)\n",
    "    \n",
    "    for well, indices in counts_dict.items():\n",
    "       indices = [index + 2 for index in indices] # update by 2 to correct for the indexing\n",
    "       counts_dict[well] = indices\n",
    "    \n",
    "    for well, indices in counts_dict.items():\n",
    "        if len(indices) > 1:\n",
    "            print(well, indices)\n",
    "            \n",
    "duplicate_wells(data_2)\n"
   ],
   "metadata": {
    "collapsed": false,
    "ExecuteTime": {
     "end_time": "2024-04-24T04:12:41.042591Z",
     "start_time": "2024-04-24T04:12:40.966790Z"
    }
   },
   "id": "2cbc5468b64da834",
   "execution_count": 118
  },
  {
   "cell_type": "code",
   "outputs": [
    {
     "name": "stdout",
     "output_type": "stream",
     "text": [
      "C3 [2, 93]\n",
      "D9 [4, 61, 74]\n",
      "H1 [5, 20]\n",
      "D7 [6, 83]\n",
      "H11 [7, 63]\n",
      "D11 [8, 71]\n",
      "B5 [9, 35]\n",
      "A11 [10, 58, 65]\n",
      "D12 [11, 80]\n",
      "C5 [13, 32, 37]\n",
      "A2 [15, 89]\n",
      "G7 [18, 33, 60, 76, 88]\n",
      "F6 [22, 95]\n",
      "E11 [27, 86]\n",
      "H7 [34, 72]\n",
      "D4 [38, 73]\n",
      "E9 [39, 56]\n",
      "G1 [41, 82]\n",
      "C2 [42, 52]\n",
      "F8 [50, 59]\n",
      "F1 [54, 64]\n",
      "E12 [57, 85]\n",
      "B8 [62, 94]\n",
      "B6 [70, 84]\n",
      "F2 [96, 97]\n"
     ]
    }
   ],
   "source": [
    "duplicate_wells(data_1)"
   ],
   "metadata": {
    "collapsed": false,
    "ExecuteTime": {
     "end_time": "2024-04-24T04:13:02.280144Z",
     "start_time": "2024-04-24T04:13:02.223385Z"
    }
   },
   "id": "b406ae04c9d182f9",
   "execution_count": 119
  },
  {
   "cell_type": "code",
   "outputs": [
    {
     "data": {
      "text/plain": "[6, 7, 8, 9]"
     },
     "execution_count": 110,
     "metadata": {},
     "output_type": "execute_result"
    }
   ],
   "source": [
    "list = [1,2,3,4]\n",
    "[item + 5 for item in list]"
   ],
   "metadata": {
    "collapsed": false,
    "ExecuteTime": {
     "end_time": "2024-04-24T03:53:18.192268Z",
     "start_time": "2024-04-24T03:53:18.142832Z"
    }
   },
   "id": "dc3dfb583b6c4957",
   "execution_count": 110
  }
 ],
 "metadata": {
  "kernelspec": {
   "display_name": "Python 3",
   "language": "python",
   "name": "python3"
  },
  "language_info": {
   "codemirror_mode": {
    "name": "ipython",
    "version": 2
   },
   "file_extension": ".py",
   "mimetype": "text/x-python",
   "name": "python",
   "nbconvert_exporter": "python",
   "pygments_lexer": "ipython2",
   "version": "2.7.6"
  }
 },
 "nbformat": 4,
 "nbformat_minor": 5
}
