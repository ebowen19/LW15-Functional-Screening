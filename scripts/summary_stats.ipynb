{
 "cells": [
  {
   "cell_type": "code",
   "execution_count": 1,
   "id": "initial_id",
   "metadata": {
    "collapsed": true,
    "ExecuteTime": {
     "end_time": "2024-03-06T00:53:43.894214Z",
     "start_time": "2024-03-06T00:53:37.499546Z"
    }
   },
   "outputs": [],
   "source": [
    "import pandas as pd\n",
    "import os"
   ]
  },
  {
   "cell_type": "code",
   "outputs": [
    {
     "data": {
      "text/plain": "         gene_name regulation_in_sensitive CRISPR_coverage cDNA_coverage  \\\n0    4931428F04Rik             Upregulated     No coverage   No coverage   \n1          Caskin1             Upregulated               4             0   \n2           Scarf2             Upregulated               3             0   \n3            Vps4a             Upregulated               3             1   \n4           Card10             Upregulated               2             0   \n..             ...                     ...             ...           ...   \n315          Asah1           Downregulated               3             1   \n316           Myo6           Downregulated               3             1   \n317         Ranbp2           Downregulated               3             0   \n318           Sord           Downregulated               5             1   \n319           Tfrc           Downregulated               4             1   \n\n                gene_ID   found_in                         category  \\\n0    ENSMUSG00000014837        PCA                             None   \n1    ENSMUSG00000033597        PCA                             None   \n2    ENSMUSG00000012017        PCA        Cell Adhesion & Signaling   \n3    ENSMUSG00000031913        PCA           Autophagy & DNA Repair   \n4    ENSMUSG00000033170        PCA        Cell Adhesion & Signaling   \n..                  ...        ...                              ...   \n315  ENSMUSG00000031591  GSEA down                       Metabolism   \n316  ENSMUSG00000033577  GSEA down  Membrane Proteins & Endocytosis   \n317  ENSMUSG00000003226  GSEA down                             None   \n318  ENSMUSG00000027227  GSEA down                       Metabolism   \n319  ENSMUSG00000022797  GSEA down                       Metabolism   \n\n                                           description  \n0                               not well characterized  \n1    Synaptic function, neural development, signal ...  \n2    Implicated in cell adhesion, signaling pathway...  \n3    Vesicular trafficking, endosomal sorting, auto...  \n4    CARD-containing, involved in NF-κB activation ...  \n..                                                 ...  \n315  Involved in sphingolipid metabolism, alteratio...  \n316  Involved in endocytosis and intracellular traf...  \n317  Involved in nucleocytoplasmic transport, also ...  \n318  Involved in the polyol pathway of glucose meta...  \n319  Involved in iron uptake, essential for cell pr...  \n\n[320 rows x 8 columns]",
      "text/html": "<div>\n<style scoped>\n    .dataframe tbody tr th:only-of-type {\n        vertical-align: middle;\n    }\n\n    .dataframe tbody tr th {\n        vertical-align: top;\n    }\n\n    .dataframe thead th {\n        text-align: right;\n    }\n</style>\n<table border=\"1\" class=\"dataframe\">\n  <thead>\n    <tr style=\"text-align: right;\">\n      <th></th>\n      <th>gene_name</th>\n      <th>regulation_in_sensitive</th>\n      <th>CRISPR_coverage</th>\n      <th>cDNA_coverage</th>\n      <th>gene_ID</th>\n      <th>found_in</th>\n      <th>category</th>\n      <th>description</th>\n    </tr>\n  </thead>\n  <tbody>\n    <tr>\n      <th>0</th>\n      <td>4931428F04Rik</td>\n      <td>Upregulated</td>\n      <td>No coverage</td>\n      <td>No coverage</td>\n      <td>ENSMUSG00000014837</td>\n      <td>PCA</td>\n      <td>None</td>\n      <td>not well characterized</td>\n    </tr>\n    <tr>\n      <th>1</th>\n      <td>Caskin1</td>\n      <td>Upregulated</td>\n      <td>4</td>\n      <td>0</td>\n      <td>ENSMUSG00000033597</td>\n      <td>PCA</td>\n      <td>None</td>\n      <td>Synaptic function, neural development, signal ...</td>\n    </tr>\n    <tr>\n      <th>2</th>\n      <td>Scarf2</td>\n      <td>Upregulated</td>\n      <td>3</td>\n      <td>0</td>\n      <td>ENSMUSG00000012017</td>\n      <td>PCA</td>\n      <td>Cell Adhesion &amp; Signaling</td>\n      <td>Implicated in cell adhesion, signaling pathway...</td>\n    </tr>\n    <tr>\n      <th>3</th>\n      <td>Vps4a</td>\n      <td>Upregulated</td>\n      <td>3</td>\n      <td>1</td>\n      <td>ENSMUSG00000031913</td>\n      <td>PCA</td>\n      <td>Autophagy &amp; DNA Repair</td>\n      <td>Vesicular trafficking, endosomal sorting, auto...</td>\n    </tr>\n    <tr>\n      <th>4</th>\n      <td>Card10</td>\n      <td>Upregulated</td>\n      <td>2</td>\n      <td>0</td>\n      <td>ENSMUSG00000033170</td>\n      <td>PCA</td>\n      <td>Cell Adhesion &amp; Signaling</td>\n      <td>CARD-containing, involved in NF-κB activation ...</td>\n    </tr>\n    <tr>\n      <th>...</th>\n      <td>...</td>\n      <td>...</td>\n      <td>...</td>\n      <td>...</td>\n      <td>...</td>\n      <td>...</td>\n      <td>...</td>\n      <td>...</td>\n    </tr>\n    <tr>\n      <th>315</th>\n      <td>Asah1</td>\n      <td>Downregulated</td>\n      <td>3</td>\n      <td>1</td>\n      <td>ENSMUSG00000031591</td>\n      <td>GSEA down</td>\n      <td>Metabolism</td>\n      <td>Involved in sphingolipid metabolism, alteratio...</td>\n    </tr>\n    <tr>\n      <th>316</th>\n      <td>Myo6</td>\n      <td>Downregulated</td>\n      <td>3</td>\n      <td>1</td>\n      <td>ENSMUSG00000033577</td>\n      <td>GSEA down</td>\n      <td>Membrane Proteins &amp; Endocytosis</td>\n      <td>Involved in endocytosis and intracellular traf...</td>\n    </tr>\n    <tr>\n      <th>317</th>\n      <td>Ranbp2</td>\n      <td>Downregulated</td>\n      <td>3</td>\n      <td>0</td>\n      <td>ENSMUSG00000003226</td>\n      <td>GSEA down</td>\n      <td>None</td>\n      <td>Involved in nucleocytoplasmic transport, also ...</td>\n    </tr>\n    <tr>\n      <th>318</th>\n      <td>Sord</td>\n      <td>Downregulated</td>\n      <td>5</td>\n      <td>1</td>\n      <td>ENSMUSG00000027227</td>\n      <td>GSEA down</td>\n      <td>Metabolism</td>\n      <td>Involved in the polyol pathway of glucose meta...</td>\n    </tr>\n    <tr>\n      <th>319</th>\n      <td>Tfrc</td>\n      <td>Downregulated</td>\n      <td>4</td>\n      <td>1</td>\n      <td>ENSMUSG00000022797</td>\n      <td>GSEA down</td>\n      <td>Metabolism</td>\n      <td>Involved in iron uptake, essential for cell pr...</td>\n    </tr>\n  </tbody>\n</table>\n<p>320 rows × 8 columns</p>\n</div>"
     },
     "execution_count": 3,
     "metadata": {},
     "output_type": "execute_result"
    }
   ],
   "source": [
    "# import data\n",
    "excel_file_path = '/Users/elizabeth 1/Library/CloudStorage/Box-Box/Wu Lab/Project - 2024/Functional screening/Elizabeth/EB_functional_screening.xlsx'\n",
    "data = pd.read_excel(excel_file_path)\n",
    "# take out summary data\n",
    "data = data[:-7]\n",
    "data"
   ],
   "metadata": {
    "collapsed": false,
    "ExecuteTime": {
     "end_time": "2024-03-06T00:56:16.582970Z",
     "start_time": "2024-03-06T00:56:16.367256Z"
    }
   },
   "id": "8b39e868457b6f88",
   "execution_count": 3
  },
  {
   "cell_type": "code",
   "outputs": [
    {
     "data": {
      "text/plain": "244"
     },
     "execution_count": 19,
     "metadata": {},
     "output_type": "execute_result"
    }
   ],
   "source": [
    "# print('total value counts:', data['regulation_in_sensitive'].value_counts())\n",
    "# data['CRISPR_coverage'].value_counts()\n",
    "# data['cDNA_coverage'].value_counts()\n",
    "\n",
    "# Filter data\n",
    "upregulated = (data['regulation_in_sensitive']=='Upregulated')\n",
    "downregulated = (data['regulation_in_sensitive']=='Downregulated')\n",
    "CRISPR = (data['CRISPR_coverage']!='No coverage') & (data['CRISPR_coverage']!=0)\n",
    "cDNA = (data['cDNA_coverage']!='No coverage') & (data['cDNA_coverage']!=0)\n",
    "\n",
    "CRISPR_up = data[upregulated & CRISPR]\n",
    "CRISPR_down = data[downregulated & CRISPR]\n",
    "cDNA_up = data[upregulated & cDNA]\n",
    "cDNA_down = data[downregulated & cDNA]\n",
    "\n",
    "len(CRISPR_up)"
   ],
   "metadata": {
    "collapsed": false,
    "ExecuteTime": {
     "end_time": "2024-03-06T01:18:11.403853Z",
     "start_time": "2024-03-06T01:18:11.301586Z"
    }
   },
   "id": "69c007688a30f2a5",
   "execution_count": 19
  },
  {
   "cell_type": "code",
   "outputs": [
    {
     "data": {
      "text/plain": "       All Genes  CRISPR-covered  cDNA-covered\nTotal        320             274           162\nUp           280             244           142\nDown          40              30            20",
      "text/html": "<div>\n<style scoped>\n    .dataframe tbody tr th:only-of-type {\n        vertical-align: middle;\n    }\n\n    .dataframe tbody tr th {\n        vertical-align: top;\n    }\n\n    .dataframe thead th {\n        text-align: right;\n    }\n</style>\n<table border=\"1\" class=\"dataframe\">\n  <thead>\n    <tr style=\"text-align: right;\">\n      <th></th>\n      <th>All Genes</th>\n      <th>CRISPR-covered</th>\n      <th>cDNA-covered</th>\n    </tr>\n  </thead>\n  <tbody>\n    <tr>\n      <th>Total</th>\n      <td>320</td>\n      <td>274</td>\n      <td>162</td>\n    </tr>\n    <tr>\n      <th>Up</th>\n      <td>280</td>\n      <td>244</td>\n      <td>142</td>\n    </tr>\n    <tr>\n      <th>Down</th>\n      <td>40</td>\n      <td>30</td>\n      <td>20</td>\n    </tr>\n  </tbody>\n</table>\n</div>"
     },
     "execution_count": 20,
     "metadata": {},
     "output_type": "execute_result"
    }
   ],
   "source": [
    "\n",
    "summary = pd.DataFrame({'All Genes':[320, 280, 40], 'CRISPR-covered':[274, len(CRISPR_up), len(CRISPR_down)], 'cDNA-covered':[162, len(cDNA_up), len(cDNA_down)]})\n",
    "summary.index = ['Total', 'Up', 'Down']\n",
    "summary"
   ],
   "metadata": {
    "collapsed": false,
    "ExecuteTime": {
     "end_time": "2024-03-06T01:18:36.332977Z",
     "start_time": "2024-03-06T01:18:36.319831Z"
    }
   },
   "id": "58cc0082c17be6e0",
   "execution_count": 20
  },
  {
   "cell_type": "code",
   "outputs": [],
   "source": [
    "os.chdir('/Users/elizabeth 1/Library/CloudStorage/Box-Box/Wu Lab/Project - 2024/Functional screening/Elizabeth/LW15-Functional-Screening')\n",
    "summary.to_html('summary.html')"
   ],
   "metadata": {
    "collapsed": false,
    "ExecuteTime": {
     "end_time": "2024-03-06T01:22:00.035075Z",
     "start_time": "2024-03-06T01:22:00.019453Z"
    }
   },
   "id": "d96a723840680582",
   "execution_count": 21
  },
  {
   "cell_type": "code",
   "outputs": [],
   "source": [
    "# category summary stats for each group\n",
    "total_cats = data['category'].value_counts()\n",
    "up_cats = data[upregulated]['category'].value_counts()\n",
    "down_cats = data[downregulated]['category'].value_counts()\n",
    "CRISPR_cats = data[CRISPR]['category'].value_counts()\n",
    "cDNA_cats = data[cDNA]['category'].value_counts()\n",
    "CRISPR_up_cats = CRISPR_up['category'].value_counts()\n",
    "CRISPR_down_cats = CRISPR_down['category'].value_counts()\n",
    "cDNA_up_cats = cDNA_up['category'].value_counts()\n",
    "cDNA_down_cats = cDNA_down['category'].value_counts()\n",
    "\n",
    "no_coverage = data[data['CRISPR_coverage']=='No coverage']['category'].value_counts()\n"
   ],
   "metadata": {
    "collapsed": false,
    "ExecuteTime": {
     "end_time": "2024-03-06T02:30:37.366987Z",
     "start_time": "2024-03-06T02:30:37.313709Z"
    }
   },
   "id": "556f20746de49d9",
   "execution_count": 26
  },
  {
   "cell_type": "code",
   "outputs": [
    {
     "data": {
      "text/plain": "                                                    All Genes  Upregulated  \\\nNone                                                       92           83   \nCell Adhesion & Signaling                                  71           68   \nMetabolism                                                 40           28   \nGene expression                                            34           32   \nCell Survival/Proliferation                                17           15   \nCytoskeleton & Microtubules                                12           11   \nInflammation & Immune Modulation                           12            7   \nApoptosis / Cell Cycle Regulation                          11           11   \nUbiquitination & Protein Stability                          8            8   \nMembrane Proteins & Endocytosis                             8            5   \nKinases, Transcription Factors, and Protein Deg...          5            5   \nAutophagy & DNA Repair                                      3            3   \nCell Adhesion & Signaling (impacts metastasis)              3            1   \nKinases, Transcription Factors, and Protein Deg...          1            1   \nCell Communication                                          1            1   \n\n                                                    Downregulated  CRISPR  \\\nNone                                                          9.0    80.0   \nCell Adhesion & Signaling                                     3.0    66.0   \nMetabolism                                                   12.0    31.0   \nGene expression                                               2.0    29.0   \nCell Survival/Proliferation                                   2.0    13.0   \nCytoskeleton & Microtubules                                   1.0    10.0   \nInflammation & Immune Modulation                              5.0     8.0   \nApoptosis / Cell Cycle Regulation                             0.0    11.0   \nUbiquitination & Protein Stability                            0.0     7.0   \nMembrane Proteins & Endocytosis                               3.0     7.0   \nKinases, Transcription Factors, and Protein Deg...            0.0     4.0   \nAutophagy & DNA Repair                                        0.0     3.0   \nCell Adhesion & Signaling (impacts metastasis)                2.0     3.0   \nKinases, Transcription Factors, and Protein Deg...            0.0     1.0   \nCell Communication                                            0.0     0.0   \n\n                                                    cDNA  CRISPR_up  \\\nNone                                                49.0       75.0   \nCell Adhesion & Signaling                           40.0       63.0   \nMetabolism                                          19.0       20.0   \nGene expression                                     12.0       28.0   \nCell Survival/Proliferation                          7.0       12.0   \nCytoskeleton & Microtubules                          7.0        9.0   \nInflammation & Immune Modulation                     6.0        5.0   \nApoptosis / Cell Cycle Regulation                    8.0       11.0   \nUbiquitination & Protein Stability                   4.0        7.0   \nMembrane Proteins & Endocytosis                      4.0        4.0   \nKinases, Transcription Factors, and Protein Deg...   1.0        4.0   \nAutophagy & DNA Repair                               3.0        3.0   \nCell Adhesion & Signaling (impacts metastasis)       1.0        1.0   \nKinases, Transcription Factors, and Protein Deg...   1.0        1.0   \nCell Communication                                   0.0        0.0   \n\n                                                    CRISPR_down  cDNA_up  \\\nNone                                                        5.0     45.0   \nCell Adhesion & Signaling                                   3.0     37.0   \nMetabolism                                                 11.0     11.0   \nGene expression                                             1.0     12.0   \nCell Survival/Proliferation                                 1.0      7.0   \nCytoskeleton & Microtubules                                 1.0      6.0   \nInflammation & Immune Modulation                            3.0      5.0   \nApoptosis / Cell Cycle Regulation                           0.0      8.0   \nUbiquitination & Protein Stability                          0.0      4.0   \nMembrane Proteins & Endocytosis                             3.0      2.0   \nKinases, Transcription Factors, and Protein Deg...          0.0      1.0   \nAutophagy & DNA Repair                                      0.0      3.0   \nCell Adhesion & Signaling (impacts metastasis)              2.0      0.0   \nKinases, Transcription Factors, and Protein Deg...          0.0      1.0   \nCell Communication                                          0.0      0.0   \n\n                                                    cDNA_down  No_coverage  \nNone                                                      4.0         12.0  \nCell Adhesion & Signaling                                 3.0          5.0  \nMetabolism                                                8.0          9.0  \nGene expression                                           0.0          4.0  \nCell Survival/Proliferation                               0.0          4.0  \nCytoskeleton & Microtubules                               1.0          2.0  \nInflammation & Immune Modulation                          1.0          4.0  \nApoptosis / Cell Cycle Regulation                         0.0          0.0  \nUbiquitination & Protein Stability                        0.0          1.0  \nMembrane Proteins & Endocytosis                           2.0          1.0  \nKinases, Transcription Factors, and Protein Deg...        0.0          1.0  \nAutophagy & DNA Repair                                    0.0          0.0  \nCell Adhesion & Signaling (impacts metastasis)            1.0          0.0  \nKinases, Transcription Factors, and Protein Deg...        0.0          0.0  \nCell Communication                                        0.0          1.0  ",
      "text/html": "<div>\n<style scoped>\n    .dataframe tbody tr th:only-of-type {\n        vertical-align: middle;\n    }\n\n    .dataframe tbody tr th {\n        vertical-align: top;\n    }\n\n    .dataframe thead th {\n        text-align: right;\n    }\n</style>\n<table border=\"1\" class=\"dataframe\">\n  <thead>\n    <tr style=\"text-align: right;\">\n      <th></th>\n      <th>All Genes</th>\n      <th>Upregulated</th>\n      <th>Downregulated</th>\n      <th>CRISPR</th>\n      <th>cDNA</th>\n      <th>CRISPR_up</th>\n      <th>CRISPR_down</th>\n      <th>cDNA_up</th>\n      <th>cDNA_down</th>\n      <th>No_coverage</th>\n    </tr>\n  </thead>\n  <tbody>\n    <tr>\n      <th>None</th>\n      <td>92</td>\n      <td>83</td>\n      <td>9.0</td>\n      <td>80.0</td>\n      <td>49.0</td>\n      <td>75.0</td>\n      <td>5.0</td>\n      <td>45.0</td>\n      <td>4.0</td>\n      <td>12.0</td>\n    </tr>\n    <tr>\n      <th>Cell Adhesion &amp; Signaling</th>\n      <td>71</td>\n      <td>68</td>\n      <td>3.0</td>\n      <td>66.0</td>\n      <td>40.0</td>\n      <td>63.0</td>\n      <td>3.0</td>\n      <td>37.0</td>\n      <td>3.0</td>\n      <td>5.0</td>\n    </tr>\n    <tr>\n      <th>Metabolism</th>\n      <td>40</td>\n      <td>28</td>\n      <td>12.0</td>\n      <td>31.0</td>\n      <td>19.0</td>\n      <td>20.0</td>\n      <td>11.0</td>\n      <td>11.0</td>\n      <td>8.0</td>\n      <td>9.0</td>\n    </tr>\n    <tr>\n      <th>Gene expression</th>\n      <td>34</td>\n      <td>32</td>\n      <td>2.0</td>\n      <td>29.0</td>\n      <td>12.0</td>\n      <td>28.0</td>\n      <td>1.0</td>\n      <td>12.0</td>\n      <td>0.0</td>\n      <td>4.0</td>\n    </tr>\n    <tr>\n      <th>Cell Survival/Proliferation</th>\n      <td>17</td>\n      <td>15</td>\n      <td>2.0</td>\n      <td>13.0</td>\n      <td>7.0</td>\n      <td>12.0</td>\n      <td>1.0</td>\n      <td>7.0</td>\n      <td>0.0</td>\n      <td>4.0</td>\n    </tr>\n    <tr>\n      <th>Cytoskeleton &amp; Microtubules</th>\n      <td>12</td>\n      <td>11</td>\n      <td>1.0</td>\n      <td>10.0</td>\n      <td>7.0</td>\n      <td>9.0</td>\n      <td>1.0</td>\n      <td>6.0</td>\n      <td>1.0</td>\n      <td>2.0</td>\n    </tr>\n    <tr>\n      <th>Inflammation &amp; Immune Modulation</th>\n      <td>12</td>\n      <td>7</td>\n      <td>5.0</td>\n      <td>8.0</td>\n      <td>6.0</td>\n      <td>5.0</td>\n      <td>3.0</td>\n      <td>5.0</td>\n      <td>1.0</td>\n      <td>4.0</td>\n    </tr>\n    <tr>\n      <th>Apoptosis / Cell Cycle Regulation</th>\n      <td>11</td>\n      <td>11</td>\n      <td>0.0</td>\n      <td>11.0</td>\n      <td>8.0</td>\n      <td>11.0</td>\n      <td>0.0</td>\n      <td>8.0</td>\n      <td>0.0</td>\n      <td>0.0</td>\n    </tr>\n    <tr>\n      <th>Ubiquitination &amp; Protein Stability</th>\n      <td>8</td>\n      <td>8</td>\n      <td>0.0</td>\n      <td>7.0</td>\n      <td>4.0</td>\n      <td>7.0</td>\n      <td>0.0</td>\n      <td>4.0</td>\n      <td>0.0</td>\n      <td>1.0</td>\n    </tr>\n    <tr>\n      <th>Membrane Proteins &amp; Endocytosis</th>\n      <td>8</td>\n      <td>5</td>\n      <td>3.0</td>\n      <td>7.0</td>\n      <td>4.0</td>\n      <td>4.0</td>\n      <td>3.0</td>\n      <td>2.0</td>\n      <td>2.0</td>\n      <td>1.0</td>\n    </tr>\n    <tr>\n      <th>Kinases, Transcription Factors, and Protein Degradation</th>\n      <td>5</td>\n      <td>5</td>\n      <td>0.0</td>\n      <td>4.0</td>\n      <td>1.0</td>\n      <td>4.0</td>\n      <td>0.0</td>\n      <td>1.0</td>\n      <td>0.0</td>\n      <td>1.0</td>\n    </tr>\n    <tr>\n      <th>Autophagy &amp; DNA Repair</th>\n      <td>3</td>\n      <td>3</td>\n      <td>0.0</td>\n      <td>3.0</td>\n      <td>3.0</td>\n      <td>3.0</td>\n      <td>0.0</td>\n      <td>3.0</td>\n      <td>0.0</td>\n      <td>0.0</td>\n    </tr>\n    <tr>\n      <th>Cell Adhesion &amp; Signaling (impacts metastasis)</th>\n      <td>3</td>\n      <td>1</td>\n      <td>2.0</td>\n      <td>3.0</td>\n      <td>1.0</td>\n      <td>1.0</td>\n      <td>2.0</td>\n      <td>0.0</td>\n      <td>1.0</td>\n      <td>0.0</td>\n    </tr>\n    <tr>\n      <th>Kinases, Transcription Factors, and Protein Degradation</th>\n      <td>1</td>\n      <td>1</td>\n      <td>0.0</td>\n      <td>1.0</td>\n      <td>1.0</td>\n      <td>1.0</td>\n      <td>0.0</td>\n      <td>1.0</td>\n      <td>0.0</td>\n      <td>0.0</td>\n    </tr>\n    <tr>\n      <th>Cell Communication</th>\n      <td>1</td>\n      <td>1</td>\n      <td>0.0</td>\n      <td>0.0</td>\n      <td>0.0</td>\n      <td>0.0</td>\n      <td>0.0</td>\n      <td>0.0</td>\n      <td>0.0</td>\n      <td>1.0</td>\n    </tr>\n  </tbody>\n</table>\n</div>"
     },
     "execution_count": 32,
     "metadata": {},
     "output_type": "execute_result"
    }
   ],
   "source": [
    "categories = pd.concat([total_cats, up_cats, down_cats, CRISPR_cats, cDNA_cats, CRISPR_up_cats, CRISPR_down_cats, cDNA_up_cats, cDNA_down_cats, no_coverage], axis=1, sort=False)\n",
    "categories.columns =  ['All Genes', 'Upregulated', 'Downregulated', 'CRISPR', 'cDNA', 'CRISPR_up', 'CRISPR_down', 'cDNA_up', 'cDNA_down', 'No_coverage']\n",
    "categories = categories.fillna(0)\n",
    "categories\n"
   ],
   "metadata": {
    "collapsed": false,
    "ExecuteTime": {
     "end_time": "2024-03-06T02:41:59.811874Z",
     "start_time": "2024-03-06T02:41:59.796025Z"
    }
   },
   "id": "f07fcfaae93068e",
   "execution_count": 32
  },
  {
   "cell_type": "code",
   "outputs": [],
   "source": [
    "categories.to_html('category_stats.html')"
   ],
   "metadata": {
    "collapsed": false,
    "ExecuteTime": {
     "end_time": "2024-03-06T02:42:48.277153Z",
     "start_time": "2024-03-06T02:42:48.239403Z"
    }
   },
   "id": "970fb9f9e939078f",
   "execution_count": 34
  }
 ],
 "metadata": {
  "kernelspec": {
   "display_name": "Python 3",
   "language": "python",
   "name": "python3"
  },
  "language_info": {
   "codemirror_mode": {
    "name": "ipython",
    "version": 2
   },
   "file_extension": ".py",
   "mimetype": "text/x-python",
   "name": "python",
   "nbconvert_exporter": "python",
   "pygments_lexer": "ipython2",
   "version": "2.7.6"
  }
 },
 "nbformat": 4,
 "nbformat_minor": 5
}
