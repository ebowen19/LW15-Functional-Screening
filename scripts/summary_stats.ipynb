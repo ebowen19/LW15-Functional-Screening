{
 "cells": [
  {
   "cell_type": "code",
   "execution_count": 1,
   "id": "initial_id",
   "metadata": {
    "collapsed": true,
    "ExecuteTime": {
     "end_time": "2024-03-06T00:53:43.894214Z",
     "start_time": "2024-03-06T00:53:37.499546Z"
    }
   },
   "outputs": [],
   "source": [
    "import pandas as pd\n",
    "import os"
   ]
  },
  {
   "cell_type": "code",
   "outputs": [
    {
     "data": {
      "text/plain": "         gene_name regulation_in_sensitive CRISPR_coverage cDNA_coverage  \\\n0    4931428F04Rik             Upregulated     No coverage   No coverage   \n1          Caskin1             Upregulated               4             0   \n2           Scarf2             Upregulated               3             0   \n3            Vps4a             Upregulated               3             1   \n4           Card10             Upregulated               2             0   \n..             ...                     ...             ...           ...   \n315          Asah1           Downregulated               3             1   \n316           Myo6           Downregulated               3             1   \n317         Ranbp2           Downregulated               3             0   \n318           Sord           Downregulated               5             1   \n319           Tfrc           Downregulated               4             1   \n\n                gene_ID   found_in                         category  \\\n0    ENSMUSG00000014837        PCA                             None   \n1    ENSMUSG00000033597        PCA                             None   \n2    ENSMUSG00000012017        PCA        Cell Adhesion & Signaling   \n3    ENSMUSG00000031913        PCA           Autophagy & DNA Repair   \n4    ENSMUSG00000033170        PCA        Cell Adhesion & Signaling   \n..                  ...        ...                              ...   \n315  ENSMUSG00000031591  GSEA down                       Metabolism   \n316  ENSMUSG00000033577  GSEA down  Membrane Proteins & Endocytosis   \n317  ENSMUSG00000003226  GSEA down                             None   \n318  ENSMUSG00000027227  GSEA down                       Metabolism   \n319  ENSMUSG00000022797  GSEA down                       Metabolism   \n\n                                           description  \n0                               not well characterized  \n1    Synaptic function, neural development, signal ...  \n2    Implicated in cell adhesion, signaling pathway...  \n3    Vesicular trafficking, endosomal sorting, auto...  \n4    CARD-containing, involved in NF-κB activation ...  \n..                                                 ...  \n315  Involved in sphingolipid metabolism, alteratio...  \n316  Involved in endocytosis and intracellular traf...  \n317  Involved in nucleocytoplasmic transport, also ...  \n318  Involved in the polyol pathway of glucose meta...  \n319  Involved in iron uptake, essential for cell pr...  \n\n[320 rows x 8 columns]",
      "text/html": "<div>\n<style scoped>\n    .dataframe tbody tr th:only-of-type {\n        vertical-align: middle;\n    }\n\n    .dataframe tbody tr th {\n        vertical-align: top;\n    }\n\n    .dataframe thead th {\n        text-align: right;\n    }\n</style>\n<table border=\"1\" class=\"dataframe\">\n  <thead>\n    <tr style=\"text-align: right;\">\n      <th></th>\n      <th>gene_name</th>\n      <th>regulation_in_sensitive</th>\n      <th>CRISPR_coverage</th>\n      <th>cDNA_coverage</th>\n      <th>gene_ID</th>\n      <th>found_in</th>\n      <th>category</th>\n      <th>description</th>\n    </tr>\n  </thead>\n  <tbody>\n    <tr>\n      <th>0</th>\n      <td>4931428F04Rik</td>\n      <td>Upregulated</td>\n      <td>No coverage</td>\n      <td>No coverage</td>\n      <td>ENSMUSG00000014837</td>\n      <td>PCA</td>\n      <td>None</td>\n      <td>not well characterized</td>\n    </tr>\n    <tr>\n      <th>1</th>\n      <td>Caskin1</td>\n      <td>Upregulated</td>\n      <td>4</td>\n      <td>0</td>\n      <td>ENSMUSG00000033597</td>\n      <td>PCA</td>\n      <td>None</td>\n      <td>Synaptic function, neural development, signal ...</td>\n    </tr>\n    <tr>\n      <th>2</th>\n      <td>Scarf2</td>\n      <td>Upregulated</td>\n      <td>3</td>\n      <td>0</td>\n      <td>ENSMUSG00000012017</td>\n      <td>PCA</td>\n      <td>Cell Adhesion &amp; Signaling</td>\n      <td>Implicated in cell adhesion, signaling pathway...</td>\n    </tr>\n    <tr>\n      <th>3</th>\n      <td>Vps4a</td>\n      <td>Upregulated</td>\n      <td>3</td>\n      <td>1</td>\n      <td>ENSMUSG00000031913</td>\n      <td>PCA</td>\n      <td>Autophagy &amp; DNA Repair</td>\n      <td>Vesicular trafficking, endosomal sorting, auto...</td>\n    </tr>\n    <tr>\n      <th>4</th>\n      <td>Card10</td>\n      <td>Upregulated</td>\n      <td>2</td>\n      <td>0</td>\n      <td>ENSMUSG00000033170</td>\n      <td>PCA</td>\n      <td>Cell Adhesion &amp; Signaling</td>\n      <td>CARD-containing, involved in NF-κB activation ...</td>\n    </tr>\n    <tr>\n      <th>...</th>\n      <td>...</td>\n      <td>...</td>\n      <td>...</td>\n      <td>...</td>\n      <td>...</td>\n      <td>...</td>\n      <td>...</td>\n      <td>...</td>\n    </tr>\n    <tr>\n      <th>315</th>\n      <td>Asah1</td>\n      <td>Downregulated</td>\n      <td>3</td>\n      <td>1</td>\n      <td>ENSMUSG00000031591</td>\n      <td>GSEA down</td>\n      <td>Metabolism</td>\n      <td>Involved in sphingolipid metabolism, alteratio...</td>\n    </tr>\n    <tr>\n      <th>316</th>\n      <td>Myo6</td>\n      <td>Downregulated</td>\n      <td>3</td>\n      <td>1</td>\n      <td>ENSMUSG00000033577</td>\n      <td>GSEA down</td>\n      <td>Membrane Proteins &amp; Endocytosis</td>\n      <td>Involved in endocytosis and intracellular traf...</td>\n    </tr>\n    <tr>\n      <th>317</th>\n      <td>Ranbp2</td>\n      <td>Downregulated</td>\n      <td>3</td>\n      <td>0</td>\n      <td>ENSMUSG00000003226</td>\n      <td>GSEA down</td>\n      <td>None</td>\n      <td>Involved in nucleocytoplasmic transport, also ...</td>\n    </tr>\n    <tr>\n      <th>318</th>\n      <td>Sord</td>\n      <td>Downregulated</td>\n      <td>5</td>\n      <td>1</td>\n      <td>ENSMUSG00000027227</td>\n      <td>GSEA down</td>\n      <td>Metabolism</td>\n      <td>Involved in the polyol pathway of glucose meta...</td>\n    </tr>\n    <tr>\n      <th>319</th>\n      <td>Tfrc</td>\n      <td>Downregulated</td>\n      <td>4</td>\n      <td>1</td>\n      <td>ENSMUSG00000022797</td>\n      <td>GSEA down</td>\n      <td>Metabolism</td>\n      <td>Involved in iron uptake, essential for cell pr...</td>\n    </tr>\n  </tbody>\n</table>\n<p>320 rows × 8 columns</p>\n</div>"
     },
     "execution_count": 3,
     "metadata": {},
     "output_type": "execute_result"
    }
   ],
   "source": [
    "# import data\n",
    "excel_file_path = '/Users/elizabeth 1/Library/CloudStorage/Box-Box/Wu Lab/Project - 2024/Functional screening/Elizabeth/EB_functional_screening.xlsx'\n",
    "data = pd.read_excel(excel_file_path)\n",
    "# take out summary data\n",
    "data = data[:-7]\n",
    "data"
   ],
   "metadata": {
    "collapsed": false,
    "ExecuteTime": {
     "end_time": "2024-03-06T00:56:16.582970Z",
     "start_time": "2024-03-06T00:56:16.367256Z"
    }
   },
   "id": "8b39e868457b6f88",
   "execution_count": 3
  },
  {
   "cell_type": "code",
   "outputs": [
    {
     "data": {
      "text/plain": "244"
     },
     "execution_count": 19,
     "metadata": {},
     "output_type": "execute_result"
    }
   ],
   "source": [
    "# print('total value counts:', data['regulation_in_sensitive'].value_counts())\n",
    "# data['CRISPR_coverage'].value_counts()\n",
    "# data['cDNA_coverage'].value_counts()\n",
    "\n",
    "# Filter data\n",
    "upregulated = (data['regulation_in_sensitive']=='Upregulated')\n",
    "downregulated = (data['regulation_in_sensitive']=='Downregulated')\n",
    "CRISPR = (data['CRISPR_coverage']!='No coverage') & (data['CRISPR_coverage']!=0)\n",
    "cDNA = (data['cDNA_coverage']!='No coverage') & (data['cDNA_coverage']!=0)\n",
    "\n",
    "CRISPR_up = data[upregulated & CRISPR]\n",
    "CRISPR_down = data[downregulated & CRISPR]\n",
    "cDNA_up = data[upregulated & cDNA]\n",
    "cDNA_down = data[downregulated & cDNA]\n",
    "\n",
    "len(CRISPR_up)"
   ],
   "metadata": {
    "collapsed": false,
    "ExecuteTime": {
     "end_time": "2024-03-06T01:18:11.403853Z",
     "start_time": "2024-03-06T01:18:11.301586Z"
    }
   },
   "id": "69c007688a30f2a5",
   "execution_count": 19
  },
  {
   "cell_type": "code",
   "outputs": [
    {
     "data": {
      "text/plain": "       All Genes  CRISPR-covered  cDNA-covered\nTotal        320             274           162\nUp           280             244           142\nDown          40              30            20",
      "text/html": "<div>\n<style scoped>\n    .dataframe tbody tr th:only-of-type {\n        vertical-align: middle;\n    }\n\n    .dataframe tbody tr th {\n        vertical-align: top;\n    }\n\n    .dataframe thead th {\n        text-align: right;\n    }\n</style>\n<table border=\"1\" class=\"dataframe\">\n  <thead>\n    <tr style=\"text-align: right;\">\n      <th></th>\n      <th>All Genes</th>\n      <th>CRISPR-covered</th>\n      <th>cDNA-covered</th>\n    </tr>\n  </thead>\n  <tbody>\n    <tr>\n      <th>Total</th>\n      <td>320</td>\n      <td>274</td>\n      <td>162</td>\n    </tr>\n    <tr>\n      <th>Up</th>\n      <td>280</td>\n      <td>244</td>\n      <td>142</td>\n    </tr>\n    <tr>\n      <th>Down</th>\n      <td>40</td>\n      <td>30</td>\n      <td>20</td>\n    </tr>\n  </tbody>\n</table>\n</div>"
     },
     "execution_count": 20,
     "metadata": {},
     "output_type": "execute_result"
    }
   ],
   "source": [
    "\n",
    "summary = pd.DataFrame({'All Genes':[320, 280, 40], 'CRISPR-covered':[274, len(CRISPR_up), len(CRISPR_down)], 'cDNA-covered':[162, len(cDNA_up), len(cDNA_down)]})\n",
    "summary.index = ['Total', 'Up', 'Down']\n",
    "summary"
   ],
   "metadata": {
    "collapsed": false,
    "ExecuteTime": {
     "end_time": "2024-03-06T01:18:36.332977Z",
     "start_time": "2024-03-06T01:18:36.319831Z"
    }
   },
   "id": "58cc0082c17be6e0",
   "execution_count": 20
  },
  {
   "cell_type": "code",
   "outputs": [],
   "source": [
    "os.chdir('/Users/elizabeth 1/Library/CloudStorage/Box-Box/Wu Lab/Project - 2024/Functional screening/Elizabeth/LW15-Functional-Screening')\n",
    "summary.to_html('summary.html')"
   ],
   "metadata": {
    "collapsed": false,
    "ExecuteTime": {
     "end_time": "2024-03-06T01:22:00.035075Z",
     "start_time": "2024-03-06T01:22:00.019453Z"
    }
   },
   "id": "d96a723840680582",
   "execution_count": 21
  }
 ],
 "metadata": {
  "kernelspec": {
   "display_name": "Python 3",
   "language": "python",
   "name": "python3"
  },
  "language_info": {
   "codemirror_mode": {
    "name": "ipython",
    "version": 2
   },
   "file_extension": ".py",
   "mimetype": "text/x-python",
   "name": "python",
   "nbconvert_exporter": "python",
   "pygments_lexer": "ipython2",
   "version": "2.7.6"
  }
 },
 "nbformat": 4,
 "nbformat_minor": 5
}
