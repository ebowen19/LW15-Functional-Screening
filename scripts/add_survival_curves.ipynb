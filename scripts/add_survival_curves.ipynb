{
 "cells": [
  {
   "cell_type": "code",
   "execution_count": 1,
   "metadata": {},
   "outputs": [],
   "source": [
    "import os\n",
    "from bs4 import BeautifulSoup"
   ]
  },
  {
   "cell_type": "code",
   "execution_count": 4,
   "metadata": {},
   "outputs": [
    {
     "data": {
      "text/plain": [
       "'/workspaces/LW15-Functional-Screening'"
      ]
     },
     "execution_count": 4,
     "metadata": {},
     "output_type": "execute_result"
    }
   ],
   "source": [
    "os.chdir('..')\n",
    "os.getcwd()"
   ]
  },
  {
   "cell_type": "code",
   "execution_count": 18,
   "metadata": {},
   "outputs": [],
   "source": [
    "# Define the paths to the survival curves directories\n",
    "significant_curves_path = 'TCGA/survival_curves/significant'\n",
    "non_significant_curves_path = 'TCGA/survival_curves/non-significant'\n",
    "\n",
    "# Create a mapping of gene names to their respective survival curve image and significance\n",
    "all_curves = {}\n",
    "for folder, significance in [(significant_curves_path, 'Yes'), (non_significant_curves_path, 'No')]:\n",
    "    for filename in os.listdir(folder):\n",
    "        gene_name = os.path.splitext(filename)[0].replace('survival_curve_', '').upper()\n",
    "        all_curves[gene_name] = (os.path.join(folder, filename), significance)\n",
    "\n",
    "# Load the HTML file\n",
    "with open('index.html', 'r') as file:\n",
    "    soup = BeautifulSoup(file, 'html.parser')\n",
    "\n",
    "# Find the table in the HTML\n",
    "table = soup.find('table', id='functionalScreening')\n",
    "\n",
    "# Add new headers for survival curve and significance\n",
    "headers = table.find('thead').find('tr')\n",
    "headers.append(soup.new_tag('th', text='Survival Curve'))\n",
    "headers.append(soup.new_tag('th', text='Survival Curve Significant?'))"
   ]
  },
  {
   "cell_type": "code",
   "execution_count": null,
   "metadata": {},
   "outputs": [],
   "source": [
    "# Add the new columns to each row in the table\n",
    "for row in table.find('tbody').find_all('tr'):\n",
    "    gene_name_cell = row.find('td')\n",
    "    gene_name = gene_name_cell.text.strip().upper()  # Normalize to uppercase for matching\n",
    "\n",
    "    # Create new cells for the survival curve and significance\n",
    "    curve_cell = soup.new_tag('td')\n",
    "    significance_cell = soup.new_tag('td')\n",
    "\n",
    "    if gene_name in all_curves:\n",
    "        # Add the survival curve image with class 'modal-trigger' to trigger the modal\n",
    "        img_tag = soup.new_tag('img', src=all_curves[gene_name][0])\n",
    "        img_tag['width'] = '220'\n",
    "        img_tag['height'] = '190'\n",
    "        img_tag['class'] = 'thumbnail modal-trigger'  # Added 'modal-trigger' class\n",
    "        img_tag['data-img-src'] = all_curves[gene_name][0]  # Add the data attribute for modal image source\n",
    "        curve_cell.append(img_tag)\n",
    "        \n",
    "        # Set the significance\n",
    "        significance_cell.string = all_curves[gene_name][1]\n",
    "    else:\n",
    "        # No curve for this gene\n",
    "        curve_cell.string = 'NA'\n",
    "        significance_cell.string = 'NA'\n",
    "\n",
    "    # Add the cells to the row\n",
    "    row.append(curve_cell)\n",
    "    row.append(significance_cell)\n",
    "\n",
    "# Write the updated HTML to a new file\n",
    "with open('updated_index.html', 'w') as file:\n",
    "    file.write(str(soup.prettify()))"
   ]
  }
 ],
 "metadata": {
  "kernelspec": {
   "display_name": "Python 3",
   "language": "python",
   "name": "python3"
  },
  "language_info": {
   "codemirror_mode": {
    "name": "ipython",
    "version": 3
   },
   "file_extension": ".py",
   "mimetype": "text/x-python",
   "name": "python",
   "nbconvert_exporter": "python",
   "pygments_lexer": "ipython3",
   "version": "3.10.13"
  }
 },
 "nbformat": 4,
 "nbformat_minor": 2
}
