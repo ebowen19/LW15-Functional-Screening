{
 "cells": [
  {
   "cell_type": "code",
   "execution_count": 1,
   "metadata": {
    "ExecuteTime": {
     "end_time": "2024-04-02T22:02:01.407816Z",
     "start_time": "2024-04-02T22:01:58.440330Z"
    }
   },
   "outputs": [
    {
     "data": {
      "text/plain": "'/Users/elizabeth 1/Library/CloudStorage/Box-Box/Wu Lab/Project - statin/8. RNA-seq/Elizabeth/LW15 analysis/LW15-Functional-Screening'"
     },
     "execution_count": 1,
     "metadata": {},
     "output_type": "execute_result"
    }
   ],
   "source": [
    "import os\n",
    "import pandas as pd\n",
    "\n",
    "os.chdir('..')\n",
    "os.getcwd()"
   ]
  },
  {
   "cell_type": "code",
   "execution_count": 7,
   "metadata": {
    "ExecuteTime": {
     "end_time": "2024-04-02T22:08:43.805452Z",
     "start_time": "2024-04-02T22:08:43.528519Z"
    }
   },
   "outputs": [
    {
     "data": {
      "text/plain": "0      4931428F04RIK\n1            CASKIN1\n2             SCARF2\n3              VPS4A\n4             CARD10\n           ...      \n315            ASAH1\n316             MYO6\n317           RANBP2\n318             SORD\n319             TFRC\nName: Gene Name, Length: 320, dtype: object"
     },
     "execution_count": 7,
     "metadata": {},
     "output_type": "execute_result"
    }
   ],
   "source": [
    "# os.chdir('TCGA')\n",
    "top_TCGA_genes = pd.read_csv('TCGA/TCGA_frequently_mutated.tsv', sep='\\t')['symbol']\n",
    "top_TCGA_genes\n",
    "top_LW_genes = pd.read_html('index.html')[0]['Gene Name'].str.upper()"
   ]
  },
  {
   "cell_type": "code",
   "outputs": [
    {
     "data": {
      "text/plain": "[]"
     },
     "execution_count": 9,
     "metadata": {},
     "output_type": "execute_result"
    }
   ],
   "source": [
    "common_genes = []\n",
    "for gene in top_LW_genes:\n",
    "    if gene in top_TCGA_genes:\n",
    "        common_genes.append(gene)\n",
    "common_genes"
   ],
   "metadata": {
    "collapsed": false,
    "ExecuteTime": {
     "end_time": "2024-04-02T22:11:30.617154Z",
     "start_time": "2024-04-02T22:11:30.588913Z"
    }
   },
   "execution_count": 9
  }
 ],
 "metadata": {
  "kernelspec": {
   "display_name": "base",
   "language": "python",
   "name": "python3"
  },
  "language_info": {
   "codemirror_mode": {
    "name": "ipython",
    "version": 3
   },
   "file_extension": ".py",
   "mimetype": "text/x-python",
   "name": "python",
   "nbconvert_exporter": "python",
   "pygments_lexer": "ipython3",
   "version": "3.11.5"
  }
 },
 "nbformat": 4,
 "nbformat_minor": 2
}
