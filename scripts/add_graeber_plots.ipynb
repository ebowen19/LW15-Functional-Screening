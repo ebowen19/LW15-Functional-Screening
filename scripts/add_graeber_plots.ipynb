{
 "cells": [
  {
   "cell_type": "code",
   "execution_count": 9,
   "metadata": {},
   "outputs": [],
   "source": [
    "from bs4 import BeautifulSoup\n",
    "from pathlib import Path\n",
    "import os"
   ]
  },
  {
   "cell_type": "code",
   "execution_count": 25,
   "metadata": {},
   "outputs": [],
   "source": [
    "# Load HTML file\n",
    "with open('../index.html', 'r') as file:\n",
    "    html_content = file.read()\n",
    "\n",
    "# Parse the HTML\n",
    "soup = BeautifulSoup(html_content, 'html.parser')\n"
   ]
  },
  {
   "cell_type": "code",
   "execution_count": 26,
   "metadata": {},
   "outputs": [
    {
     "name": "stderr",
     "output_type": "stream",
     "text": [
      "/var/folders/5h/nw2bw54501q8yzhtr7fv7qnc0000gq/T/ipykernel_78223/3505220766.py:10: DeprecationWarning: The 'text' argument to find()-type methods is deprecated. Use 'string' instead.\n",
      "  if header_row.find('th', text='Graeber Gene Expression') is None:\n"
     ]
    }
   ],
   "source": [
    "# Find the table by id\n",
    "table = soup.find('table', {'id': 'functionalScreening'})\n",
    "\n",
    "# Find the existing header row\n",
    "header_row = table.find('thead').find('tr')\n",
    "\n",
    "# Check if the new header is already present or not\n",
    "new_header = soup.new_tag('th')\n",
    "new_header.string = 'Graeber Gene Expression'\n",
    "if header_row.find('th', text='Graeber Gene Expression') is None:\n",
    "    header_row.append(new_header)\n",
    "\n",
    "# Go through each row in the table body\n",
    "for row in table.find('tbody').find_all('tr'):\n",
    "    # Check if the row already has the extra cell\n",
    "    if len(row.find_all('td')) == len(header_row.find_all('th')) - 1:\n",
    "        # Get the gene name from the first column and strip any whitespace\n",
    "        gene_name = row.find('td').text.strip().upper()\n",
    "\n",
    "        # Create the new column\n",
    "        new_col = soup.new_tag('td')\n",
    "        down_path = Path(f'../Graeber/bar_graphs/downregulated/{gene_name}_bar_graph.png')\n",
    "        up_path = Path(f'../Graeber/bar_graphs/upregulated/{gene_name}_bar_graph.png')\n",
    "\n",
    "        img_path = \"\"\n",
    "        if down_path.exists():\n",
    "            img_path = str(down_path)\n",
    "        elif up_path.exists():\n",
    "            img_path = str(up_path)\n",
    "\n",
    "        # Only create and append an img tag if a corresponding image file was found\n",
    "        if img_path:\n",
    "            img_tag = soup.new_tag('img', alt=gene_name, src=img_path, height='150', width='150', class_='thumbnail')\n",
    "            new_col.append(img_tag)\n",
    "        else:\n",
    "            # If no image is found, you can optionally set text or leave it blank\n",
    "            new_col.string = \"\"  # Or use `None` or a placeholder text like \"No Image\"\n",
    "\n",
    "        # Add the new column to the row\n",
    "        row.append(new_col)\n",
    "\n",
    "# Write the modified HTML back to the file\n",
    "with open('../updated_index.html', 'w') as file:\n",
    "    file.write(str(soup))\n"
   ]
  },
  {
   "cell_type": "code",
   "execution_count": 20,
   "metadata": {},
   "outputs": [
    {
     "name": "stdout",
     "output_type": "stream",
     "text": [
      "../Graeber/bar_graphs/upregulated/CARD10_bar_graph.png True\n"
     ]
    }
   ],
   "source": [
    "gene_name = 'CARD10'\n",
    "path = Path(f'../Graeber/bar_graphs/upregulated/{gene_name}_bar_graph.png')\n",
    "print(path, path.exists())"
   ]
  },
  {
   "cell_type": "code",
   "execution_count": 10,
   "metadata": {},
   "outputs": [
    {
     "data": {
      "text/plain": [
       "'/Users/elizabeth 1/Library/CloudStorage/Box-Box/Wu Lab/Project - statin/8. RNA-seq/Elizabeth/LW15 analysis/LW15-Functional-Screening/scripts'"
      ]
     },
     "execution_count": 10,
     "metadata": {},
     "output_type": "execute_result"
    }
   ],
   "source": [
    "os.getcwd()"
   ]
  }
 ],
 "metadata": {
  "kernelspec": {
   "display_name": "base",
   "language": "python",
   "name": "python3"
  },
  "language_info": {
   "codemirror_mode": {
    "name": "ipython",
    "version": 3
   },
   "file_extension": ".py",
   "mimetype": "text/x-python",
   "name": "python",
   "nbconvert_exporter": "python",
   "pygments_lexer": "ipython3",
   "version": "3.11.5"
  }
 },
 "nbformat": 4,
 "nbformat_minor": 2
}
